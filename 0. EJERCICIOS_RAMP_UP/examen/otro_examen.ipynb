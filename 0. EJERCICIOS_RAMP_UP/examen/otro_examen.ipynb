{
 "cells": [
  {
   "cell_type": "markdown",
   "metadata": {},
   "source": [
    "\n",
    "### Ejercicio 1 (1 punto)\n",
    "En este ejercicio trabajarás con variables de distintos tipos. Sigue las instrucciones detalladas a continuación:\n",
    "\n",
    "1. Crea una variable llamada `precio_habitacion` de tipo Integer que represente el costo por noche de una habitación en un hotel.\n",
    "2. Crea una variable llamada `nombre_cliente` de tipo String que contenga el nombre completo de un cliente que reserva la habitación.\n",
    "3. Crea una variable llamada `descuento` de tipo Float que contenga el porcentaje de descuento aplicado por reservar más de tres noches (por ejemplo, 15.5).\n",
    "4. Crea una variable llamada `es_vip` de tipo Boolean que sea True si el cliente es parte del programa VIP del hotel, y False en caso contrario.\n",
    "5. Crea una variable llamada `dias_estancia` de tipo Integer que contenga el número de días que el cliente se hospedará en el hotel.\n",
    "6. Crea una variable llamada `servicios_extras` de tipo List que contenga tres servicios adicionales que el cliente ha solicitado (por ejemplo, 'Desayuno', 'Gimnasio', 'Spa').\n",
    "7. Crea una variable llamada `tupla_contacto` de tipo Tuple que contenga el número de teléfono y la dirección de correo electrónico del cliente.\n",
    "8. Añade todas estas variables a una lista llamada `detalles_reserva` en el orden de aparición **usando una función de lista**.\n",
    "9. Responde en un comentario a la siguiente pregunta: ¿Cómo podrías calcular el total a pagar de la estancia si sabes el precio por noche, los días de estancia y el descuento?\n",
    "\n"
   ]
  },
  {
   "cell_type": "code",
   "execution_count": 14,
   "metadata": {},
   "outputs": [],
   "source": [
    "precio_habitacion = 59\n",
    "nombre_cliente = \"Marta Torres\"\n",
    "descuento = 10.0\n",
    "es_vip = True\n",
    "dias_estancia = 3\n",
    "servicios_extra = [\"Desayuno\", \"Gimnasio\", \"Spa\"]\n",
    "tupla_contacto = (654923894, \"marta@gmail.com\")\n",
    "detalles_reserva = []\n",
    "\n",
    "detalles_reserva.append(precio_habitacion)\n",
    "detalles_reserva.append(nombre_cliente)\n",
    "detalles_reserva.append(descuento)\n",
    "detalles_reserva.append(es_vip)\n",
    "detalles_reserva.append(dias_estancia)\n",
    "detalles_reserva.append(servicios_extra)\n",
    "detalles_reserva.append(tupla_contacto)\n",
    "\n",
    "total_estancia = precio_habitacion*dias_estancia\n",
    "if dias_estancia > 3:\n",
    "    total_estancia = precio_habitacion*dias_estancia*(1-descuento)\n",
    "else:\n",
    "    total_estancia = precio_habitacion*dias_estancia"
   ]
  },
  {
   "cell_type": "markdown",
   "metadata": {},
   "source": [
    "\n",
    "\n",
    "### Ejercicio 2 (2 puntos)\n",
    "\n",
    "Para este ejercicio trabajarás con colecciones. Utiliza la lista `detalles_reserva` que has creado en el ejercicio anterior. Lee atentamente cada punto antes de comenzar.\n",
    "\n",
    "1. Mostrar por pantalla, sin uso de funciones (puedes usar `print`) ni bucles:\n",
    "   - Un mensaje de presentación que incluya el nombre del cliente y su número de teléfono.\n",
    "   - El precio de la habitación y el número de días de estancia.\n",
    "   - El segundo servicio adicional solicitado por el cliente.\n",
    "   - Si el cliente es VIP, muestra el descuento aplicado; en caso contrario, muestra un mensaje indicando que no tiene descuento.\n",
    "   - Muestra el correo electrónico del cliente.\n",
    "\n",
    "2. Mostrar por pantalla, con uso de un bucle `for`:\n",
    "   - Todos los elementos de `detalles_reserva`.\n",
    "   - Todos los elementos de `detalles_reserva` en orden inverso.\n",
    "   - Todos aquellos elementos que sean strings.\n",
    "   - El número de caracteres de cada servicio adicional solicitado por el cliente.\n",
    "\n",
    "3. Con uso de un bucle `while`, elimina los servicios extras de la lista uno por uno hasta que no queden más servicios en `detalles_reserva`, y guarda los eliminados en una lista llamada `servicios_eliminados`.\n",
    "\n"
   ]
  },
  {
   "cell_type": "code",
   "execution_count": 11,
   "metadata": {},
   "outputs": [
    {
     "name": "stdout",
     "output_type": "stream",
     "text": [
      "[59, 'Marta Torres', 10.0, True, 3, ['Desayuno', 'Gimnasio', 'Spa'], (654923894, 'marta@gmail.com')]\n",
      "El nombre del cliente es Marta Torres y su número de teléfono 654923894\n",
      "El precio de la habitación es 59 y los días True\n",
      "Tiene un descuento del 10.0 %\n",
      "Correo electrónico: marta@gmail.com\n",
      "59\n",
      "Marta Torres\n",
      "10.0\n",
      "True\n",
      "3\n",
      "['Desayuno', 'Gimnasio', 'Spa']\n",
      "(654923894, 'marta@gmail.com')\n",
      "(654923894, 'marta@gmail.com')\n",
      "['Desayuno', 'Gimnasio', 'Spa']\n",
      "3\n",
      "True\n",
      "10.0\n",
      "Marta Torres\n",
      "59\n",
      "Marta Torres\n",
      "D\n",
      "e\n",
      "s\n",
      "a\n",
      "y\n",
      "u\n",
      "n\n",
      "o\n",
      "G\n",
      "i\n",
      "m\n",
      "n\n",
      "a\n",
      "s\n",
      "i\n",
      "o\n",
      "S\n",
      "p\n",
      "a\n"
     ]
    }
   ],
   "source": [
    "print(detalles_reserva)\n",
    "\n",
    "# Apartado 1\n",
    "print(f\"El nombre del cliente es {detalles_reserva[1]} y su número de teléfono {detalles_reserva[6][0]}\")\n",
    "print(f\"El precio de la habitación es {detalles_reserva[0]} y los días {detalles_reserva[3]}\")\n",
    "if detalles_reserva[3] == True:\n",
    "    print(f\"Tiene un descuento del {detalles_reserva[2]} %\")\n",
    "else:\n",
    "    print(\"No tiene descuento\")\n",
    "print(f\"Correo electrónico: {detalles_reserva[6][1]}\")\n",
    "\n",
    "# Apartado 2\n",
    "for cosa in detalles_reserva:\n",
    "    print(cosa)\n",
    "\n",
    "for cosa in detalles_reserva[::-1]:\n",
    "    print(cosa)\n",
    "\n",
    "for cosa in detalles_reserva:\n",
    "    if type(cosa) == str:\n",
    "        print(cosa)\n",
    "\n",
    "for cosa in detalles_reserva[5]:\n",
    "    for letra in cosa:\n",
    "        print(letra)"
   ]
  },
  {
   "cell_type": "code",
   "execution_count": 15,
   "metadata": {},
   "outputs": [
    {
     "name": "stdout",
     "output_type": "stream",
     "text": [
      "['Spa', 'Gimnasio', 'Desayuno']\n",
      "[]\n"
     ]
    }
   ],
   "source": [
    "# Apartado 3\n",
    "servicios_eliminados = []\n",
    "while len(detalles_reserva[5]) > 0:\n",
    "    detalle = detalles_reserva[5].pop(-1)\n",
    "    servicios_eliminados.append(detalle)\n",
    "\n",
    "print(servicios_eliminados)\n",
    "print(servicios_extra)"
   ]
  },
  {
   "cell_type": "markdown",
   "metadata": {},
   "source": [
    "\n",
    "\n",
    "### Ejercicio 3: Simulación de préstamos bancarios (2 puntos)\n",
    "\n",
    "En este ejercicio, implementarás un sistema básico de cálculo de préstamos bancarios utilizando funciones.\n",
    "\n",
    "1. **Cálculo del monto total a pagar:**\n",
    "\n",
    "   Crea una función llamada `calcular_monto_total` que reciba tres parámetros: `monto_prestamo` (float), `tasa_interes` (float, en porcentaje) y `plazo_anios` (int). La función debe calcular el monto total a pagar por el préstamo utilizando la siguiente fórmula:\n",
    "\n",
    "   **monto_total = monto_prestamo * (1 + (tasa_interes / 100) * plazo_anios)**\n",
    "\n",
    "   Solicita al usuario que ingrese los valores de cada parámetro e invoca la función para mostrar el monto total a pagar.\n",
    "\n",
    "2. **Cálculo de la cuota mensual:**\n",
    "\n",
    "   Crea una función llamada `calcular_cuota_mensual` que reciba como parámetros el `monto_total` (float) calculado anteriormente y el `plazo_anios` (int). La función debe calcular y retornar la cuota mensual utilizando la fórmula:\n",
    "\n",
    "   **cuota_mensual = monto_total / (plazo_anios * 12)**\n",
    "\n",
    "   Muestra la cuota mensual que deberá pagar el usuario.\n",
    "\n",
    "3. **Simulación del pago del préstamo:**\n",
    "\n",
    "   Crea una función llamada `simular_pago` que reciba como parámetros `monto_total`, `cuota_mensual` y `ingresos_mensuales` (float). La función debe simular los pagos mensuales y calcular cuántos meses le llevará pagar el préstamo completamente. Si en algún mes la cuota mensual es superior al 40% de los ingresos mensuales del usuario, el préstamo se considerará \"incumplido\" y se mostrará un mensaje.\n",
    "\n",
    "4. **Función final:**\n",
    "\n",
    "   Crea una función llamada `evaluar_prestamo` que combine las anteriores. La función debe solicitar los datos del préstamo (monto, tasa de interés, plazo), calcular el monto total y la cuota mensual, y finalmente llamar a `simular_pago` para verificar si el usuario puede cumplir con los pagos.\n",
    "\n",
    "\n"
   ]
  },
  {
   "cell_type": "code",
   "execution_count": 16,
   "metadata": {},
   "outputs": [],
   "source": [
    "# Cálculo del monto total a pagar\n",
    "def calcular_monto_total(monto_prestamo, tasa_interes, plazo_anios):\n",
    "    monto_total = monto_prestamo*(1+(tasa_interes/100)*plazo_anios)\n",
    "    return monto_total\n",
    "\n",
    "monto_prestamo = float(input(\"Ingrese el monto del préstamo: \"))\n",
    "tasa_interes = float(input(\"Ingrese la tasa de interés: \"))\n",
    "plazo_anios = int(input(\"Ingrese los años: \"))\n",
    "\n",
    "monto_total = calcular_monto_total(monto_prestamo, tasa_interes,plazo_anios)"
   ]
  },
  {
   "cell_type": "code",
   "execution_count": 22,
   "metadata": {},
   "outputs": [
    {
     "name": "stdout",
     "output_type": "stream",
     "text": [
      "333.3333333333333\n"
     ]
    }
   ],
   "source": [
    "# Cálculo de la cuota mensual\n",
    "def calcular_cuota_mensual(monto_total,plazo_anios):\n",
    "    cuota_mensual = monto_total / (plazo_anios * 12)\n",
    "    return cuota_mensual\n",
    "\n",
    "cuota_mensual = calcular_cuota_mensual(monto_total, plazo_anios)\n",
    "print(cuota_mensual)"
   ]
  },
  {
   "cell_type": "code",
   "execution_count": 20,
   "metadata": {},
   "outputs": [],
   "source": [
    "# Simulación pago del préstamo\n",
    "def simular_pago(monto_total,cuota_mensual, ingresos_mensuales):\n",
    "    total_meses = monto_total/ingresos_mensuales\n",
    "    if cuota_mensual > 0.4*ingresos_mensuales:\n",
    "        return \"Préstamo inclumplido\"\n",
    "    return total_meses"
   ]
  },
  {
   "cell_type": "code",
   "execution_count": 21,
   "metadata": {},
   "outputs": [
    {
     "data": {
      "text/plain": [
       "33.333333333333336"
      ]
     },
     "execution_count": 21,
     "metadata": {},
     "output_type": "execute_result"
    }
   ],
   "source": [
    "ingresos_mensuales = float(input(\"Dame los ingresos mensuales: \"))\n",
    "simular_pago(monto_total,cuota_mensual,ingresos_mensuales)"
   ]
  },
  {
   "cell_type": "markdown",
   "metadata": {},
   "source": [
    "\n",
    "### Ejercicio 4: Gestión de un hotel (2 puntos)\n",
    "\n",
    "En este ejercicio crearás una clase para gestionar un hotel.\n",
    "\n",
    "1. **Nombre de la clase:** `Hotel`\n",
    "\n",
    "   **Atributos:**\n",
    "\n",
    "   COMUNES\n",
    "   - `reservas`: Lista de diccionarios donde cada diccionario representa una reserva, con las claves: `nombre_cliente`, `numero_habitacion/es`, `dias_reserva`, y `costo_total`.\n",
    "   - `precio_habitacion` = 100\n",
    "   - `capacidad_habitacion` = 2\n",
    "   \n",
    "   VARIABLES\n",
    "   - `nombre`: Nombre del hotel (str).\n",
    "   - `habitaciones_disponibles`: Número de habitaciones disponibles en el hotel (int).\n",
    "\n",
    "\n",
    "2. **Métodos:**\n",
    "   - `realizar_reserva(nombre_cliente, personas, dias_reserva)`: Si hay habitaciones disponibles (en funcion de las personas), crea una nueva reserva, calcula el costo total (número de días por precio por noche), y añade la reserva a la lista de `reservas`. Si no hay habitaciones disponibles, muestra un mensaje indicando que no se puede realizar la reserva.\n",
    "   - `cancelar_reserva(nombre_cliente)`: Elimina la reserva de un cliente en la lista de reservas si existe. Si no existe, muestra un mensaje indicando que no hay reserva a cancelar.\n",
    "   - `mostrar_reservas()`: Muestra todas las reservas actuales con el nombre del cliente, número de habitación y costo total.\n",
    "\n",
    "3. **Simulación:**\n",
    "   Crea una instancia de la clase `Hotel` llamada `mi_hotel`. Realiza al menos tres reservas diferentes, cancela una de ellas, y muestra la lista de reservas actualizada.\n",
    "\n"
   ]
  },
  {
   "cell_type": "code",
   "execution_count": 8,
   "metadata": {},
   "outputs": [],
   "source": [
    "class Hotel:\n",
    "    reservas = []\n",
    "    precio_habitacion = 100\n",
    "    capacidad_habitacion = 2\n",
    "\n",
    "    def __init__(self, nombre, habitaciones_disponibes):\n",
    "        self.nombre = nombre\n",
    "        self.habitaciones_disponibles = habitaciones_disponibes\n",
    "    \n",
    "    def realizar_reserva(self,nombre_cliente,personas,dias_reserva):\n",
    "        import math\n",
    "        if self.habitaciones_disponibles >= personas/2:\n",
    "            reserva = {\"nombre cliente\": nombre_cliente, \"numero de habitaciones\": math.ceil(personas/2), \"dias reserva\": dias_reserva, \"costo total\": self.precio_habitacion*math.ceil(personas/2)}\n",
    "            self.reservas.append(reserva)\n",
    "            self.habitaciones_disponibles = self.habitaciones_disponibles - math.ceil(personas/2)\n",
    "            return self.reservas\n",
    "        else:\n",
    "            return \"No hay habitaciones disponibles\"\n",
    "    \n",
    "    def cancelar_reserva(self,nombre_cliente):\n",
    "        for reserva in self.reservas:\n",
    "            if nombre_cliente in reserva[\"nombre cliente\"]:\n",
    "                del reserva\n",
    "                return \"Reserva eliminada\"\n",
    "            else:\n",
    "                return \"No hay ninguna reserva con ese nombre\"\n",
    "\n",
    "    def mostrar_reservas(self):\n",
    "        for reserva in self.reservas:\n",
    "            nombre = reserva[\"nombre cliente\"]\n",
    "            hab = reserva[\"numero de habitaciones\"]\n",
    "            cos = reserva[\"costo total\"]\n",
    "            print(f\"La reserva está a nombre de {nombre}, con {hab} habitaciones reservadas y un costo total de {cos} €.\")\n"
   ]
  },
  {
   "cell_type": "code",
   "execution_count": 10,
   "metadata": {},
   "outputs": [],
   "source": [
    "mi_hotel = Hotel(\"Gold River\", 7)"
   ]
  },
  {
   "cell_type": "code",
   "execution_count": 11,
   "metadata": {},
   "outputs": [
    {
     "name": "stdout",
     "output_type": "stream",
     "text": [
      "[{'nombre cliente': 'Luis Pérez', 'numero de habitaciones': 3, 'dias reserva': 3, 'costo total': 300}]\n"
     ]
    }
   ],
   "source": [
    "print(mi_hotel.realizar_reserva(\"Luis Pérez\", 5, 3))"
   ]
  },
  {
   "cell_type": "code",
   "execution_count": 12,
   "metadata": {},
   "outputs": [
    {
     "name": "stdout",
     "output_type": "stream",
     "text": [
      "[{'nombre cliente': 'Luis Pérez', 'numero de habitaciones': 3, 'dias reserva': 3, 'costo total': 300}, {'nombre cliente': 'Maria Hernandez', 'numero de habitaciones': 3, 'dias reserva': 3, 'costo total': 300}]\n"
     ]
    }
   ],
   "source": [
    "print(mi_hotel.realizar_reserva(\"Maria Hernandez\", 5, 3))"
   ]
  },
  {
   "cell_type": "code",
   "execution_count": 13,
   "metadata": {},
   "outputs": [
    {
     "name": "stdout",
     "output_type": "stream",
     "text": [
      "No hay habitaciones disponibles\n"
     ]
    }
   ],
   "source": [
    "print(mi_hotel.realizar_reserva(\"Alicia Martinez\", 5, 3))"
   ]
  },
  {
   "cell_type": "code",
   "execution_count": 14,
   "metadata": {},
   "outputs": [
    {
     "data": {
      "text/plain": [
       "'Reserva eliminada'"
      ]
     },
     "execution_count": 14,
     "metadata": {},
     "output_type": "execute_result"
    }
   ],
   "source": [
    "mi_hotel.cancelar_reserva(\"Luis Pérez\")"
   ]
  },
  {
   "cell_type": "code",
   "execution_count": 15,
   "metadata": {},
   "outputs": [
    {
     "name": "stdout",
     "output_type": "stream",
     "text": [
      "La reserva está a nombre de Luis Pérez, con 3 habitaciones reservadas y un costo total de 300 €.\n",
      "La reserva está a nombre de Maria Hernandez, con 3 habitaciones reservadas y un costo total de 300 €.\n"
     ]
    }
   ],
   "source": [
    "mi_hotel.mostrar_reservas()"
   ]
  }
 ],
 "metadata": {
  "kernelspec": {
   "display_name": "ramp_up-env",
   "language": "python",
   "name": "python3"
  },
  "language_info": {
   "codemirror_mode": {
    "name": "ipython",
    "version": 3
   },
   "file_extension": ".py",
   "mimetype": "text/x-python",
   "name": "python",
   "nbconvert_exporter": "python",
   "pygments_lexer": "ipython3",
   "version": "3.11.9"
  }
 },
 "nbformat": 4,
 "nbformat_minor": 2
}
