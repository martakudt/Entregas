{
 "cells": [
  {
   "cell_type": "markdown",
   "metadata": {},
   "source": [
    "## Ejercicio 3\n",
    "Vamos a crear una clase para representar una biblioteca. La clase debe permitir gestionar libros y su disponibilidad.\n",
    "\n",
    "* Nombre de la clase: \"Biblioteca\"\n",
    "* Atributos comunes:\n",
    "    * Tipo: \"Pública\"\n",
    "    * Horario: \"09:00 - 20:00\"\n",
    "* Atributos propios de cada biblioteca:\n",
    "    * Nombre - String\n",
    "    * Dirección - String\n",
    "    * Lista de libros disponibles - Lista de strings\n",
    "    * Lista de libros prestados - Lista de strings\n",
    "* Método para añadir un libro a la lista de disponibles\n",
    "* Método para prestar un libro, que lo elimine de la lista de disponibles y lo añada a la de prestados\n",
    "* Método para devolver un libro, que lo elimine de la lista de prestados y lo añada a la de disponibles\n",
    "* Método que imprime el nombre de la biblioteca y su dirección\n",
    "* Método que devuelve la cantidad total de libros en la biblioteca (sumando disponibles y prestados)\n",
    "\n",
    "Se pide:\n",
    "1. Implementar la clase \"Biblioteca\"\n",
    "2. Crear dos bibliotecas con datos inventados\n",
    "3. Añadir libros y prestar algunos de ellos\n",
    "4. Verificar la cantidad total de libros en ambas bibliotecas\n",
    "5. Imprimir el nombre y dirección de todas las bibliotecas que contengan la palabra \"Central\"\n"
   ]
  },
  {
   "cell_type": "code",
   "execution_count": 19,
   "metadata": {},
   "outputs": [],
   "source": [
    "class Biblioteca:\n",
    "    tipo = \"Pública\"\n",
    "    horario = \"09:00-20:00\"\n",
    "\n",
    "    def __init__(self,nombre, direccion, libros_disponibles, libros_prestados):\n",
    "        self.nombre = nombre\n",
    "        self.direccion = direccion\n",
    "        self.libros_disponibles = libros_disponibles\n",
    "        self.libros_prestados = libros_prestados\n",
    "\n",
    "    def disponible(self, libro):\n",
    "        if libro in self.libros_disponibles:\n",
    "            return f\"El libro {libro} ya está disponible\"\n",
    "        else:\n",
    "            self.libros_disponibles.append(libro)\n",
    "            return f\"La lista de libros disponibles actualizada de la {self.nombre} es la siguiente: {self.libros_disponibles}\"\n",
    "        \n",
    "    def prestar(self, libro):\n",
    "        if libro in self.libros_disponibles:\n",
    "            self.libros_disponibles.remove(libro)\n",
    "            self.libros_prestados.append(libro)\n",
    "            return f\"La lista de libros prestados de la {self.nombre} es: {self.libros_prestados}\"\n",
    "        else:\n",
    "            return f\"El libro {libro} no está disponible para prestar.\"\n",
    "\n",
    "    def devolver(self,libro):\n",
    "        if libro in self.libros_prestados:\n",
    "            self.libros_prestados.remove(libro)\n",
    "            self.libros_disponibles.append(libro)\n",
    "\n",
    "    def nom_y_direc(self):\n",
    "        return f\"El nombre de la biblioteca es {self.nombre} y está en {self.direccion}\"\n",
    "    \n",
    "    def libros_totales(self):\n",
    "        return f\"En la biblioteca hay un total de {len(self.libros_disponibles) + len(self.libros_prestados)} libros\""
   ]
  },
  {
   "cell_type": "code",
   "execution_count": 22,
   "metadata": {},
   "outputs": [
    {
     "name": "stdout",
     "output_type": "stream",
     "text": [
      "La lista de libros disponibles actualizada de la Biblioteca de Barrio es la siguiente: ['1984', 'harry potter', 'rey blanco', 'cicatriz']\n",
      "El libro harry potter ya está disponible\n",
      "La lista de libros prestados de la Biblioteca Central es: ['la historia interminable', 'el quijote']\n",
      "El libro cien años de soledad no está disponible para prestar.\n",
      "El nombre de la biblioteca es Biblioteca Central y está en Calle Mayor 123\n",
      "El nombre de la biblioteca es Biblioteca de Barrio y está en Avenida Libertad 456\n",
      "En la biblioteca hay un total de 5 libros\n",
      "En la biblioteca hay un total de 5 libros\n",
      "El nombre de la biblioteca es Biblioteca Central y está en Calle Mayor 123\n",
      "No hay ninguna biblioteca con 'Central' en el nombre\n"
     ]
    }
   ],
   "source": [
    "biblioteca1 = Biblioteca(\"Biblioteca Central\", \"Calle Mayor 123\", [\"el quijote\", \"cien años de soledad\", \"la sombra del viento\", \"reina roja\"], [\"la historia interminable\"])\n",
    "biblioteca2 = Biblioteca(\"Biblioteca de Barrio\", \"Avenida Libertad 456\",[\"1984\", \"harry potter\", \"rey blanco\"], [\"la casa de los espíritus\"])\n",
    "\n",
    "print(biblioteca2.disponible(\"cicatriz\"))\n",
    "print(biblioteca2.disponible(\"harry potter\"))\n",
    "\n",
    "print(biblioteca1.prestar(\"el quijote\"))\n",
    "print(biblioteca2.prestar(\"cien años de soledad\"))\n",
    "\n",
    "print(biblioteca1.nom_y_direc())\n",
    "print(biblioteca2.nom_y_direc())\n",
    "\n",
    "print(biblioteca1.libros_totales())\n",
    "print(biblioteca2.libros_totales())\n",
    "\n",
    "bibliotecas = [biblioteca1, biblioteca2]\n",
    "\n",
    "for biblioteca in bibliotecas:\n",
    "    if \"Central\" in biblioteca.nombre:\n",
    "        print(biblioteca.nom_y_direc())\n",
    "    else:\n",
    "        print(\"No hay ninguna biblioteca con 'Central' en el nombre\")"
   ]
  },
  {
   "cell_type": "markdown",
   "metadata": {},
   "source": [
    "\n",
    "## Ejercicio 4\n",
    "Vamos a modelar un vehículo que se puede alquilar, como en una empresa de alquiler de coches.\n",
    "\n",
    "* Nombre de la clase: \"VehículoAlquiler\"\n",
    "* Atributos comunes:\n",
    "    * Disponible: True\n",
    "* Atributos propios de cada vehículo:\n",
    "    * Marca - String\n",
    "    * Modelo - String\n",
    "    * Año - int\n",
    "    * Kilometraje - float\n",
    "* Método para alquilar el vehículo, que cambie el atributo `Disponible` a False\n",
    "* Método para devolver el vehículo, que cambie `Disponible` a True y aumente el kilometraje con el valor que se pasa como argumento\n",
    "* Método para obtener la descripción del vehículo (marca, modelo y año)\n",
    "* Método que calcula el precio del alquiler según los kilómetros recorridos, con una tarifa fija de 0.50€/km\n",
    "\n",
    "Se pide:\n",
    "1. Implementar la clase \"VehículoAlquiler\"\n",
    "2. Crear tres vehículos y alquilar dos de ellos\n",
    "3. Devolver uno de los vehículos con un kilometraje añadido\n",
    "4. Imprimir la descripción de todos los vehículos disponibles\n",
    "5. Calcular el precio del alquiler de uno de los vehículos devueltos\n"
   ]
  },
  {
   "cell_type": "code",
   "execution_count": 5,
   "metadata": {},
   "outputs": [],
   "source": [
    "class VehiculoAlquiler:\n",
    "    disponible = True\n",
    "\n",
    "    def __init__(self,marca,modelo,year,kilometraje):\n",
    "        self.marca = marca\n",
    "        self.modelo = modelo\n",
    "        self.year = year\n",
    "        self.kilometraje = kilometraje\n",
    "    \n",
    "    def alquiler(self):\n",
    "        if self.disponible == True:\n",
    "            self.disponible = False\n",
    "\n",
    "    def devolver(self,  km):\n",
    "        self.kilometraje = self.kilometraje + km\n",
    "        if self.disponible == False:\n",
    "            self.disponible = True\n",
    "\n",
    "    def caracteristicas(self):\n",
    "        return f\"El coche es de marca {self.marca}, modelo {self.modelo} y del año {self.year}\"\n",
    "    \n",
    "    def precio_alquiler(self, km):\n",
    "        return f\"El precio del alquiler es de {km*0.50} €\""
   ]
  },
  {
   "cell_type": "code",
   "execution_count": 6,
   "metadata": {},
   "outputs": [
    {
     "name": "stdout",
     "output_type": "stream",
     "text": [
      "El coche es de marca Toyota, modelo Corolla y del año 2020\n",
      "El coche es de marca Ford, modelo Fiesta y del año 2021\n",
      "El precio del alquiler es de 250.0 €\n"
     ]
    }
   ],
   "source": [
    "# Crear tres vehículos\n",
    "vehiculo1 = VehiculoAlquiler(\"Toyota\", \"Corolla\", 2020, 30000)\n",
    "vehiculo2 = VehiculoAlquiler(\"Honda\", \"Civic\", 2019, 40000)\n",
    "vehiculo3 = VehiculoAlquiler(\"Ford\", \"Fiesta\", 2021, 25000)\n",
    "\n",
    "\n",
    "# Alquilar dos vehículos\n",
    "vehiculo1.alquiler()\n",
    "vehiculo2.alquiler()\n",
    "\n",
    "# Devolver uno de los vehículos con el kilometraje añadido\n",
    "vehiculo1.devolver(500)\n",
    "\n",
    "# Características\n",
    "vehiculos = [vehiculo1, vehiculo2, vehiculo3]\n",
    "for vehiculo in vehiculos:\n",
    "    if vehiculo.disponible:\n",
    "        print(vehiculo.caracteristicas())\n",
    "\n",
    "# Calcular el precio del alquiler de uno de los vehículos devueltos\n",
    "print(vehiculo1.precio_alquiler(500))"
   ]
  },
  {
   "cell_type": "markdown",
   "metadata": {},
   "source": [
    "\n",
    "## Ejercicio 5\n",
    "Vamos a modelar un sistema de gestión de cursos para una plataforma educativa.\n",
    "\n",
    "* Nombre de la clase: \"Curso\"\n",
    "* Atributos comunes:\n",
    "    * Modalidad: \"Online\"\n",
    "* Atributos propios de cada curso:\n",
    "    * Nombre - String\n",
    "    * Profesor - String\n",
    "    * Número de lecciones - int\n",
    "    * Estudiantes inscritos - Lista de strings (nombres de los estudiantes)\n",
    "* Método para inscribir un estudiante, que añade un nombre a la lista de inscritos\n",
    "* Método para calcular el número total de estudiantes inscritos\n",
    "* Método que imprime un resumen del curso con su nombre y profesor\n",
    "* Método para cambiar al profesor del curso\n",
    "\n",
    "Se pide:\n",
    "1. Implementar la clase \"Curso\"\n",
    "2. Crear dos cursos con información inventada\n",
    "3. Inscribir a algunos estudiantes en cada curso\n",
    "4. Cambiar el profesor de uno de los cursos\n",
    "5. Imprimir el resumen de todos los cursos con más de 3 estudiantes inscritos\n"
   ]
  },
  {
   "cell_type": "code",
   "execution_count": 1,
   "metadata": {},
   "outputs": [],
   "source": [
    "class Curso:\n",
    "    modalidad = \"online\"\n",
    "\n",
    "    def __init__(self,nombre,profesor,n_lecciones,estudiantes):\n",
    "        self.nombre = nombre \n",
    "        self.profesor = profesor\n",
    "        self.n_lecciones = n_lecciones\n",
    "        self.estudiantes =estudiantes\n",
    "\n",
    "    def new_estudiante(self,nombre):\n",
    "        self.estudiantes.append(nombre)\n",
    "    \n",
    "    def total_estudiantes(self):\n",
    "        return f\"El número total de estudiantes inscritos es {len(self.estudiantes)}\"\n",
    "    \n",
    "    def resumen_curso(self):\n",
    "        return f\"El curso se llama {self.nombre} y está impartido por {self.profesor}\"\n",
    "    \n",
    "    def cambio_prof(self, new_profesor):\n",
    "        self.profesor = new_profesor"
   ]
  },
  {
   "cell_type": "code",
   "execution_count": 2,
   "metadata": {},
   "outputs": [],
   "source": [
    "curso_uno = Curso(\"Curso de Python\", \"Juan Sáez\", 20, [\"marta\", \"paula\", \"sofia\",\"luis\"])\n",
    "curso_dos = Curso(\"Curso de bachata\", \"Lucia Hernandez\", 15,[\"yaiza\",\"pablo\",\"dario\",\"esther\"])\n",
    "\n",
    "# Añadir estudiantes\n",
    "curso_uno.new_estudiante(\"nadia\")\n",
    "curso_dos.new_estudiante(\"elena\")"
   ]
  },
  {
   "cell_type": "markdown",
   "metadata": {},
   "source": [
    "\n",
    "## Ejercicio 6\n",
    "Vamos a crear una clase para modelar una cuenta bancaria.\n",
    "\n",
    "* Nombre de la clase: \"CuentaBancaria\"\n",
    "* Atributos comunes:\n",
    "    * Moneda: \"EUR\"\n",
    "* Atributos propios de cada cuenta:\n",
    "    * Número de cuenta - String\n",
    "    * Titular - String\n",
    "    * Saldo - float\n",
    "* Método para realizar un depósito, que aumente el saldo con un valor pasado como argumento\n",
    "* Método para retirar una cantidad, que disminuya el saldo si hay fondos suficientes, sino devuelve un mensaje indicando falta de fondos\n",
    "* Método para obtener el saldo actual\n",
    "* Método para transferir dinero a otra cuenta (pasada como argumento), que disminuya el saldo si hay fondos suficientes y aumente el saldo de la cuenta destino\n",
    "\n",
    "Se pide:\n",
    "1. Implementar la clase \"CuentaBancaria\"\n",
    "2. Crear dos cuentas con información inventada\n",
    "3. Realizar depósitos y retirar dinero de las cuentas\n",
    "4. Transferir dinero de una cuenta a otra\n",
    "5. Imprimir el saldo de ambas cuentas después de la transferencia\n"
   ]
  },
  {
   "cell_type": "code",
   "execution_count": 4,
   "metadata": {},
   "outputs": [
    {
     "name": "stdout",
     "output_type": "stream",
     "text": [
      "Saldo de Juan Pérez: 800 EUR\n",
      "Saldo de María López: 800 EUR\n"
     ]
    }
   ],
   "source": []
  }
 ],
 "metadata": {
  "kernelspec": {
   "display_name": "ramp_up-env",
   "language": "python",
   "name": "python3"
  },
  "language_info": {
   "codemirror_mode": {
    "name": "ipython",
    "version": 3
   },
   "file_extension": ".py",
   "mimetype": "text/x-python",
   "name": "python",
   "nbconvert_exporter": "python",
   "pygments_lexer": "ipython3",
   "version": "3.11.9"
  }
 },
 "nbformat": 4,
 "nbformat_minor": 2
}
