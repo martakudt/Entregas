{
 "cells": [
  {
   "cell_type": "code",
   "execution_count": 69,
   "metadata": {},
   "outputs": [],
   "source": [
    "# Crear matriz 2D\n",
    "import random\n",
    "\n",
    "def matriz(rango, numero_a_buscar):\n",
    "    matriz = []\n",
    "    posiciones = []\n",
    "    for num in range(0,rango):\n",
    "        matriz.append([])\n",
    "\n",
    "    for lista in matriz:\n",
    "        for num in range(0,rango):\n",
    "            lista.append(random.randint(1,10))\n",
    "    \n",
    "    for fila in matriz:\n",
    "        print(fila, sep = \"\\n\")\n",
    "    \n",
    "    for index, fila in enumerate(matriz):\n",
    "        for indice, numero in enumerate(fila):\n",
    "            if numero == numero_a_buscar:\n",
    "                posicion = (index,indice)\n",
    "                posiciones.append(posicion)\n",
    "    return posiciones"
   ]
  },
  {
   "cell_type": "code",
   "execution_count": 74,
   "metadata": {},
   "outputs": [
    {
     "name": "stdout",
     "output_type": "stream",
     "text": [
      "[7, 1, 6, 6]\n",
      "[6, 8, 3, 7]\n",
      "[8, 7, 8, 2]\n",
      "[1, 8, 3, 6]\n"
     ]
    },
    {
     "data": {
      "text/plain": [
       "[(0, 0), (1, 3), (2, 1)]"
      ]
     },
     "execution_count": 74,
     "metadata": {},
     "output_type": "execute_result"
    }
   ],
   "source": [
    "matriz(4,7)"
   ]
  },
  {
   "cell_type": "code",
   "execution_count": 99,
   "metadata": {},
   "outputs": [
    {
     "name": "stdout",
     "output_type": "stream",
     "text": [
      "[[[6, 3, 9], [5, 5, 10], [9, 7, 2]], [[6, 7, 3], [8, 8, 1], [8, 6, 1]], [[6, 9, 8], [9, 1, 1], [1, 5, 5]]]\n"
     ]
    },
    {
     "data": {
      "text/plain": [
       "[(0, 2, 1), (1, 0, 1)]"
      ]
     },
     "execution_count": 99,
     "metadata": {},
     "output_type": "execute_result"
    }
   ],
   "source": [
    "# Crear matriz 3D\n",
    "def matriz3d(rango, numero_a_buscar):\n",
    "    matriz = []\n",
    "    posiciones = []\n",
    "    for num in range(0,rango):\n",
    "        matriz.append([])\n",
    "    \n",
    "    for lista in matriz:\n",
    "        for num in range(0,rango):\n",
    "            lista.append([])\n",
    "\n",
    "    for lista in matriz:\n",
    "        for sublista in lista:\n",
    "            for num in range(0,rango):\n",
    "                sublista.append(random.randint(1,10))\n",
    "    print(matriz)\n",
    "\n",
    "    for index, lista in enumerate(matriz):\n",
    "        for indice, sublista in enumerate(lista):\n",
    "            for coor,num in enumerate(sublista):\n",
    "                if num == numero_a_buscar:\n",
    "                    posicion = (index,indice,coor)\n",
    "                    posiciones.append(posicion)\n",
    "    return posiciones\n",
    "\n",
    "\n",
    "matriz3d(3,7)"
   ]
  },
  {
   "cell_type": "code",
   "execution_count": 141,
   "metadata": {},
   "outputs": [],
   "source": [
    "class Calculadora:\n",
    "    marca = \"Casio\"\n",
    "    memoria = {\"suma\":[], \"resta\":[],\"multiplicación\":[],\"división\":[],\"elevar\":[],\"raiz\":[]}\n",
    "\n",
    "\n",
    "    def sumar(self, num1, num2):\n",
    "        suma = num1 + num2\n",
    "        self.memoria[\"suma\"].append(suma)\n",
    "        return suma\n",
    "    \n",
    "    def restar(self, num1, num2):\n",
    "        resta = num1 - num2\n",
    "        self.memoria[\"resta\"].append(resta)\n",
    "        return resta\n",
    "    \n",
    "    def multiplicar(self, num1, num2):\n",
    "        multi = num1 + num2\n",
    "        self.memoria[\"multiplicación\"].append(multi)\n",
    "        return multi\n",
    "    \n",
    "    def dividir(self, num1, num2):\n",
    "        if num2 != 0:\n",
    "            div = num1/num2\n",
    "            self.memoria[\"división\"].append(div)\n",
    "            return div \n",
    "        else:\n",
    "            return \"Error\"\n",
    "\n",
    "    def elevar(self, num1, num2):\n",
    "        elev = num1**num2\n",
    "        self.memoria[\"elevar\"].append(elev)\n",
    "        return elev\n",
    "    \n",
    "    def raiz(self, num1):\n",
    "        import math\n",
    "        lista_div = []\n",
    "        if num1 >= 0:\n",
    "            raiz = math.sqrt(num1)\n",
    "            self.memoria[\"raiz\"].append(raiz)\n",
    "            return raiz\n",
    "        else:\n",
    "            return \"Error\""
   ]
  },
  {
   "cell_type": "code",
   "execution_count": 142,
   "metadata": {},
   "outputs": [
    {
     "name": "stdout",
     "output_type": "stream",
     "text": [
      "10\n",
      "12\n",
      "-2\n",
      "8\n",
      "10\n",
      "12\n",
      "0.6666666666666666\n",
      "Error\n",
      "64\n",
      "1\n",
      "2.0\n",
      "Error\n"
     ]
    },
    {
     "data": {
      "text/plain": [
       "{'suma': [10, 12],\n",
       " 'resta': [-2, 8],\n",
       " 'multiplicación': [10, 12],\n",
       " 'división': [0.6666666666666666],\n",
       " 'elevar': [64, 1],\n",
       " 'raiz': [2.0]}"
      ]
     },
     "execution_count": 142,
     "metadata": {},
     "output_type": "execute_result"
    }
   ],
   "source": [
    "calculadora_casio = Calculadora()\n",
    "\n",
    "# Sumar \n",
    "print(calculadora_casio.sumar(4,6))\n",
    "print(calculadora_casio.sumar(10,2))\n",
    "\n",
    "# Restar\n",
    "print(calculadora_casio.restar(4,6))\n",
    "print(calculadora_casio.restar(10,2))\n",
    "\n",
    "# Multiplicar \n",
    "print(calculadora_casio.multiplicar(4,6))\n",
    "print(calculadora_casio.multiplicar(10,2))\n",
    "\n",
    "# Dividir\n",
    "print(calculadora_casio.dividir(4,6))\n",
    "print(calculadora_casio.dividir(10,0))\n",
    "\n",
    "# Elevar\n",
    "print(calculadora_casio.elevar(2,6))\n",
    "print(calculadora_casio.elevar(10,0))\n",
    "\n",
    "# Raín cuadrada\n",
    "print(calculadora_casio.raiz(4))\n",
    "print(calculadora_casio.raiz(-7))\n",
    "\n",
    "calculadora_casio.memoria\n",
    "\n"
   ]
  },
  {
   "cell_type": "code",
   "execution_count": 11,
   "metadata": {},
   "outputs": [],
   "source": [
    "class CalculadoraNueva:\n",
    "    marca = \"Casio\"\n",
    "    memoria = []\n",
    "\n",
    "    def sumar(self, num1, num2):\n",
    "        suma = num1 + num2\n",
    "        self.memoria.append({\"operación\": \"suma\", \"primer número\": num1, \"segundo número\": num2, \"resultado\": suma})\n",
    "        return suma\n",
    "    \n",
    "    def restar(self, num1, num2):\n",
    "        resta = num1 - num2\n",
    "        self.memoria.append({\"operación\": \"resta\", \"primer número\": num1, \"segundo número\": num2, \"resultado\": resta})\n",
    "        return resta\n",
    "    \n",
    "    def multiplicar(self, num1, num2):\n",
    "        multi = num1 + num2\n",
    "        self.memoria.append({\"operación\": \"multiplicación\", \"primer número\": num1, \"segundo número\": num2, \"resultado\": multi})\n",
    "        return multi\n",
    "    \n",
    "    def dividir(self, num1, num2):\n",
    "        if num2 != 0:\n",
    "            div = num1/num2\n",
    "            self.memoria.append({\"operación\": \"división\", \"primer número\": num1, \"segundo número\": num2, \"resultado\": div})\n",
    "            return div \n",
    "        else:\n",
    "            self.memoria.append({\"operación\": \"división\", \"primer número\": num1,\"segundo número\": num2, \"resultado\": \"Error: división por cero\"})\n",
    "            return \"Error\"\n",
    "\n",
    "    def elevar(self, num1, num2):\n",
    "        elev = num1**num2\n",
    "        self.memoria.append({\"operación\": \"elevar\", \"primer número\": num1, \"segundo número\": num2, \"resultado\": elev})\n",
    "        return elev\n",
    "    \n",
    "    def raiz(self, num1):\n",
    "        import math\n",
    "        lista_div = []\n",
    "        if num1 >= 0:\n",
    "            raiz = math.sqrt(num1)\n",
    "            self.memoria.append({\"operación\": \"raiz\", \"primer número\": num1, \"resultado\": raiz})\n",
    "            return raiz\n",
    "        else:\n",
    "            self.memoria.append({\"operación\": \"raiz\", \"primer número\": num1, \"resultado\":\"Error: número negativo\"})\n",
    "            return \"Error\""
   ]
  },
  {
   "cell_type": "code",
   "execution_count": 12,
   "metadata": {},
   "outputs": [
    {
     "data": {
      "text/plain": [
       "[{'operación': 'suma',\n",
       "  'primer número': 4,\n",
       "  'segundo número': 6,\n",
       "  'resultado': 10},\n",
       " {'operación': 'suma',\n",
       "  'primer número': 10,\n",
       "  'segundo número': 2,\n",
       "  'resultado': 12},\n",
       " {'operación': 'resta',\n",
       "  'primer número': 4,\n",
       "  'segundo número': 6,\n",
       "  'resultado': -2},\n",
       " {'operación': 'resta',\n",
       "  'primer número': 10,\n",
       "  'segundo número': 2,\n",
       "  'resultado': 8},\n",
       " {'operación': 'multiplicación',\n",
       "  'primer número': 4,\n",
       "  'segundo número': 6,\n",
       "  'resultado': 10},\n",
       " {'operación': 'multiplicación',\n",
       "  'primer número': 10,\n",
       "  'segundo número': 2,\n",
       "  'resultado': 12},\n",
       " {'operación': 'división',\n",
       "  'primer número': 4,\n",
       "  'segundo número': 6,\n",
       "  'resultado': 0.6666666666666666},\n",
       " {'operación': 'división',\n",
       "  'primer número': 10,\n",
       "  'segundo número': 0,\n",
       "  'resultado': 'Error: división por cero'},\n",
       " {'operación': 'elevar',\n",
       "  'primer número': 2,\n",
       "  'segundo número': 6,\n",
       "  'resultado': 64},\n",
       " {'operación': 'elevar',\n",
       "  'primer número': 10,\n",
       "  'segundo número': 0,\n",
       "  'resultado': 1},\n",
       " {'operación': 'raiz', 'primer número': 4, 'resultado': 2.0},\n",
       " {'operación': 'raiz',\n",
       "  'primer número': -7,\n",
       "  'resultado': 'Error: número negativo'}]"
      ]
     },
     "execution_count": 12,
     "metadata": {},
     "output_type": "execute_result"
    }
   ],
   "source": [
    "calculadora2 = CalculadoraNueva()\n",
    "\n",
    "# Sumar \n",
    "calculadora2.sumar(4,6)\n",
    "calculadora2.sumar(10,2)\n",
    "\n",
    "# Restar\n",
    "calculadora2.restar(4,6)\n",
    "calculadora2.restar(10,2)\n",
    "\n",
    "# Multiplicar \n",
    "calculadora2.multiplicar(4,6)\n",
    "calculadora2.multiplicar(10,2)\n",
    "\n",
    "# Dividir\n",
    "calculadora2.dividir(4,6)\n",
    "calculadora2.dividir(10,0)\n",
    "\n",
    "# Elevar\n",
    "calculadora2.elevar(2,6)\n",
    "calculadora2.elevar(10,0)\n",
    "\n",
    "# Raín cuadrada\n",
    "calculadora2.raiz(4)\n",
    "calculadora2.raiz(-7)\n",
    "\n",
    "calculadora2.memoria\n"
   ]
  }
 ],
 "metadata": {
  "kernelspec": {
   "display_name": "ramp_up-env",
   "language": "python",
   "name": "python3"
  },
  "language_info": {
   "codemirror_mode": {
    "name": "ipython",
    "version": 3
   },
   "file_extension": ".py",
   "mimetype": "text/x-python",
   "name": "python",
   "nbconvert_exporter": "python",
   "pygments_lexer": "ipython3",
   "version": "3.11.9"
  }
 },
 "nbformat": 4,
 "nbformat_minor": 2
}
