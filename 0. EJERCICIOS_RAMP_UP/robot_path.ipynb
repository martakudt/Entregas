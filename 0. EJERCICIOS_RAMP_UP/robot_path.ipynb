{
 "cells": [
  {
   "cell_type": "markdown",
   "metadata": {},
   "source": [
    "### Ejercicio: Trayectoria del robot en la matriz\n",
    "\n",
    "Escribe una función en Python llamada `trayectoria_robot` que simule el movimiento de un robot en una matriz cuadrada de tamaño `n` x `n`. El robot comienza en la esquina superior izquierda de la matriz y debe moverse a la esquina inferior derecha siguiendo un camino definido por una lista de direcciones. Las direcciones posibles son `\"arriba\"`, `\"abajo\"`, `\"izquierda\"` y `\"derecha\"`.\n",
    "\n",
    "**Parámetros de entrada**:\n",
    "\n",
    "- `n`: un número entero que representa el tamaño de la matriz cuadrada.\n",
    "- `direcciones`: una lista de strings que representan las direcciones en las que se mueve el robot.\n",
    "\n",
    "**Funcionalidad de la función**:\n",
    "\n",
    "1. **Generación de la matriz**:\n",
    "   - Crear una matriz cuadrada de tamaño `n` x `n` donde todas las posiciones iniciales están marcadas como `0`.\n",
    "\n",
    "2. **Movimiento del robot**:\n",
    "   - El robot comienza en la posición `[0, 0]`.\n",
    "   - Por cada dirección en la lista `direcciones`, el robot se moverá en la matriz. \n",
    "   - El robot no puede moverse fuera de los límites de la matriz, por lo que cualquier movimiento que lleve al robot fuera de la matriz será ignorado.\n",
    "   - Cada vez que el robot se mueve a una nueva posición válida, se marca esa posición en la matriz con un `1` para indicar que el robot ha pasado por ahí.\n",
    "\n",
    "3. **Retorno**:\n",
    "   - La función debe imprimir la trayectoria del robot mostrando la matriz con las posiciones visitadas marcadas con un `1`.\n",
    "   - Retornar la posición final del robot al finalizar todos los movimientos.\n",
    "\n",
    "**Ejemplo de uso**:\n",
    "\n",
    "Si se invoca la función de la siguiente manera:\n",
    "\n",
    "```python\n",
    "posicion_final = trayectoria_robot(5, [\"derecha\", \"derecha\", \"abajo\", \"abajo\", \"izquierda\", \"arriba\", \"abajo\", \"derecha\"])\n",
    "```\n",
    "\n",
    "La salida podría ser:\n",
    "\n",
    "```\n",
    "[1, 1, 1, 0, 0]\n",
    "[0, 0, 1, 0, 0]\n",
    "[0, 0, 1, 0, 0]\n",
    "[0, 0, 0, 0, 0]\n",
    "[0, 0, 0, 0, 0]\n",
    "```\n",
    "\n",
    "Y el valor de `posicion_final` sería:\n",
    "\n",
    "```python\n",
    "[2, 2]\n",
    "```\n",
    "\n",
    "**Restricciones**:\n",
    "- El robot solo puede moverse dentro de los límites de la matriz.\n",
    "- Si un movimiento lo lleva fuera de la matriz, se ignora esa instrucción.\n",
    "\n",
    "**Instrucciones adicionales**:\n",
    "\n",
    "- Asegúrate de que la función gestione correctamente los límites de la matriz para evitar movimientos inválidos.\n",
    "- El tamaño de la matriz `n` será siempre mayor o igual a 2.\n",
    "- La función debe manejar correctamente cualquier lista de direcciones, incluyendo listas vacías o direcciones que llevarían al robot fuera de los límites repetidamente.\n",
    "\n"
   ]
  },
  {
   "cell_type": "code",
   "execution_count": 33,
   "metadata": {},
   "outputs": [],
   "source": [
    "# Programa bueno\n",
    "def trayectoria_robot(n, direcciones):\n",
    "    matriz = []\n",
    "    posiciones =[]\n",
    "    for num in range(0,n):\n",
    "        matriz.append([])\n",
    "\n",
    "    for lista in matriz:\n",
    "        for num in range(0,n):\n",
    "            lista.append(0)\n",
    "    \n",
    "    p = (0,0)\n",
    "    matriz[0][0]= 1\n",
    "    contador = 1\n",
    "    for direc in direcciones:\n",
    "        if direc == \"derecha\":\n",
    "            p = (p[0],p[1] + 1)\n",
    "            matriz[p[0]][p[1]] = contador +1\n",
    "            contador = contador +1\n",
    "        elif direc == \"izquierda\":\n",
    "            p = (p[0],p[1] - 1)\n",
    "            matriz[p[0]][p[1]] = contador +1\n",
    "            contador = contador +1\n",
    "        elif direc == \"abajo\":\n",
    "            p = (p[0]+1,p[1])\n",
    "            matriz[p[0]][p[1]] = contador +1\n",
    "            contador = contador +1\n",
    "        elif direc == \"arriba\":\n",
    "            p = (p[0]-1,p[1])\n",
    "            matriz[p[0]][p[1]] = contador +1\n",
    "            contador = contador +1\n",
    "        else:\n",
    "            print(\"Dirección no válida\")\n",
    "\n",
    "    for fila in matriz:       \n",
    "        print(fila)\n"
   ]
  },
  {
   "cell_type": "code",
   "execution_count": 32,
   "metadata": {},
   "outputs": [
    {
     "name": "stdout",
     "output_type": "stream",
     "text": [
      "[1, 2, 0]\n",
      "[0, 3, 4]\n",
      "[0, 0, 5]\n"
     ]
    }
   ],
   "source": [
    "trayectoria_robot(3,[\"derecha\",\"abajo\",\"derecha\",\"abajo\"])"
   ]
  }
 ],
 "metadata": {
  "kernelspec": {
   "display_name": "ramp_up-env",
   "language": "python",
   "name": "python3"
  },
  "language_info": {
   "codemirror_mode": {
    "name": "ipython",
    "version": 3
   },
   "file_extension": ".py",
   "mimetype": "text/x-python",
   "name": "python",
   "nbconvert_exporter": "python",
   "pygments_lexer": "ipython3",
   "version": "3.11.9"
  }
 },
 "nbformat": 4,
 "nbformat_minor": 2
}
