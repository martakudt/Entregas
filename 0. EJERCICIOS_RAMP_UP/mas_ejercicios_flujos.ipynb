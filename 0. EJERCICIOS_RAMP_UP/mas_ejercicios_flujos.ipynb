{
 "cells": [
  {
   "cell_type": "markdown",
   "metadata": {},
   "source": [
    "### Ejercicio 1\n",
    "Declara una variable numérica que representará un día cualquiera de la semana (1 a 7). Implementa la siguiente casuística:\n",
    "\n",
    "- Si el número es 1 o 7, imprime \"Fin de semana\"\n",
    "- Si está entre 2 y 5, imprime \"Día laboral\"\n",
    "- Si el número es 6, imprime \"Medio descanso\"\n",
    "- En cualquier otro caso, imprime \"Valor no válido\"\n"
   ]
  },
  {
   "cell_type": "code",
   "execution_count": 2,
   "metadata": {},
   "outputs": [
    {
     "name": "stdout",
     "output_type": "stream",
     "text": [
      "Fin de semana\n",
      "7\n"
     ]
    }
   ],
   "source": [
    "import random\n",
    "dia = random.randint(1,7)\n",
    "\n",
    "if (dia == 1) or (dia == 7):\n",
    "    print(\"Fin de semana\")\n",
    "elif (dia >= 2) and (dia <= 6):\n",
    "    print(\"Día laboral\")\n",
    "elif (dia == 6):\n",
    "    print(\"Medio descanso\")\n",
    "else:\n",
    "    print(\"Valor no válido\")\n",
    "    \n",
    "print(dia)"
   ]
  },
  {
   "cell_type": "markdown",
   "metadata": {},
   "source": [
    "\n",
    "### Ejercicio 2\n",
    "Vamos a crear un clasificador de vehículos. Declara las siguientes variables:\n",
    "\n",
    "> peso  \n",
    "> tipo\n",
    "\n",
    "Implementa la siguiente casuística:\n",
    "\n",
    "1. Si el tipo es \"Camión\" y el peso es superior a 5000 kg, el vehículo es \"Vehículo pesado\"\n",
    "2. Si el tipo es \"Coche\" y el peso está entre 1000 kg y 2000 kg, el vehículo es \"Vehículo ligero\"\n",
    "3. Si el tipo no es \"Moto\" y el peso es menor de 500 kg, el vehículo es \"Vehículo muy ligero\"\n",
    "4. En cualquier otro caso, clasifica el vehículo como \"Sin clasificación\"\n"
   ]
  },
  {
   "cell_type": "code",
   "execution_count": 14,
   "metadata": {},
   "outputs": [
    {
     "name": "stdout",
     "output_type": "stream",
     "text": [
      "Vehículo ligero\n"
     ]
    }
   ],
   "source": [
    "tipo = input(\"Introduce el tipo de vehículo: \")\n",
    "while True:\n",
    "    peso = input(\"Introduce el peso del vehículo: \")\n",
    "    if peso.isdigit():\n",
    "        peso = int(peso)\n",
    "        if (tipo.lower() == \"camión\") and (peso > 5000):\n",
    "            print(\"Vehículo pesado\")\n",
    "        elif (tipo.lower() == \"coche\") and (1000 < peso < 2000):\n",
    "            print(\"Vehículo ligero\")\n",
    "        elif (tipo.lower() != \"moto\") and (peso < 500):\n",
    "            print(\"Vehículo muy ligero\")\n",
    "        else:\n",
    "            print(\"Sin clasificación\")\n",
    "        break\n",
    "    "
   ]
  },
  {
   "cell_type": "markdown",
   "metadata": {},
   "source": [
    "\n",
    "### Ejercicio 3\n",
    "Vamos a crear un sistema que determine si un alumno tiene derecho a una beca. Declara las siguientes variables:\n",
    "\n",
    "> nota  \n",
    "> ingresos\n",
    "\n",
    "Implementa la siguiente lógica:\n",
    "\n",
    "1. Si la nota es mayor de 8, imprime \"Posible candidato\"\n",
    "2. Si es así, comprueba si los ingresos son menores de 20000, en cuyo caso imprime \"Beca aprobada\". Si los ingresos son superiores, imprime \"No cumple los requisitos económicos\"\n",
    "3. Si la nota no es mayor de 8, imprime \"No cumple los requisitos académicos\"\n"
   ]
  },
  {
   "cell_type": "code",
   "execution_count": 5,
   "metadata": {},
   "outputs": [
    {
     "name": "stdout",
     "output_type": "stream",
     "text": [
      "Posible candidato\n",
      "Beca aprobada\n"
     ]
    }
   ],
   "source": [
    "nota = int(input(\"Introduce la nota del alumno: \"))\n",
    "\n",
    "if (8 <= nota <= 10):\n",
    "    print(\"Posible candidato\")\n",
    "    ingresos = int(input(\"Introduce  los ingresos: \"))\n",
    "    if ingresos < 20000:\n",
    "        print(\"Beca aprobada\")\n",
    "    else:\n",
    "        print(\"No cumple los requisitos económicos\")\n",
    "elif (nota < 0) or (nota > 10):\n",
    "    print(\"Esa nota no es posible\")\n",
    "else:\n",
    "    print(\"No cumple los requisitos\")"
   ]
  },
  {
   "cell_type": "markdown",
   "metadata": {},
   "source": [
    "\n",
    "### Ejercicio 4\n",
    "Escribe un programa que tenga dos variables: un string y una lista de strings. El programa debe recorrer la lista e imprimir por pantalla cada elemento de la lista concatenado con el string.\n"
   ]
  },
  {
   "cell_type": "code",
   "execution_count": 6,
   "metadata": {},
   "outputs": [
    {
     "name": "stdout",
     "output_type": "stream",
     "text": [
      "aitortilla\n",
      "aitormenta\n",
      "aitornillos\n",
      "aitortas\n",
      "aitorneo\n",
      "aitoreros\n"
     ]
    }
   ],
   "source": [
    "cadena = \"aitor\"\n",
    "lista =[\"tilla\", \"menta\", \"nillos\", \"tas\", \"neo\",\"eros\"]\n",
    "\n",
    "for elemento in lista:\n",
    "    print(cadena + elemento)"
   ]
  },
  {
   "cell_type": "markdown",
   "metadata": {},
   "source": [
    "\n",
    "### Ejercicio 6\n",
    "Dada la siguiente lista:\n",
    "\n",
    "> list2 = [25, 35, 45, 55, 65, 75, 85, 95, 105, 115]\n",
    "\n",
    "Implementa un programa que los recorra e imprima por pantalla solo los divisibles por 15. Si nos encontramos con uno mayor que 100, detén el bucle.\n"
   ]
  },
  {
   "cell_type": "code",
   "execution_count": 11,
   "metadata": {},
   "outputs": [
    {
     "name": "stdout",
     "output_type": "stream",
     "text": [
      "25\n",
      "35\n",
      "55\n",
      "65\n",
      "85\n",
      "95\n"
     ]
    }
   ],
   "source": [
    "list2 = [25,35,45,55,65,75,85,95,105,115]\n",
    "\n",
    "for elemento in list2:\n",
    "    if (elemento <= 100):\n",
    "        if (elemento % 15):\n",
    "            print(elemento)\n",
    "    else:\n",
    "        break   "
   ]
  },
  {
   "cell_type": "markdown",
   "metadata": {},
   "source": [
    "\n",
    "### Ejercicio 7\n",
    "Escribe un programa que imprima por pantalla todos los números que sean múltiplos de 3 y de 4, dentro del rango de valores (50, 150).\n"
   ]
  },
  {
   "cell_type": "code",
   "execution_count": 12,
   "metadata": {},
   "outputs": [
    {
     "name": "stdout",
     "output_type": "stream",
     "text": [
      "60\n",
      "72\n",
      "84\n",
      "96\n",
      "108\n",
      "120\n",
      "132\n",
      "144\n"
     ]
    }
   ],
   "source": [
    "for elemento in range(50,151):\n",
    "    if (elemento % 3 == 0) and (elemento % 4 == 0):\n",
    "        print(elemento)"
   ]
  },
  {
   "cell_type": "markdown",
   "metadata": {},
   "source": [
    "\n",
    "### Ejercicio 8\n",
    "Implementa un programa que imprima por pantalla el siguiente patrón:\n",
    "\n",
    "```\n",
    "1 \n",
    "1 2 \n",
    "1 2 3 \n",
    "1 2 3 4 \n",
    "1 2 3 4 5\n",
    "```\n",
    "\n",
    "NOTA: No debe haber espacios al final de cada línea.\n"
   ]
  },
  {
   "cell_type": "code",
   "execution_count": 23,
   "metadata": {},
   "outputs": [
    {
     "name": "stdout",
     "output_type": "stream",
     "text": [
      "1\n",
      "1 2\n",
      "1 2 3\n",
      "1 2 3 4\n",
      "1 2 3 4 5\n"
     ]
    }
   ],
   "source": [
    "for i in range(1,6):\n",
    "    print(str(list(range(1,i+1))).replace(\"[\",\"\").replace(\"]\",\"\").replace(\",\",\"\"))"
   ]
  },
  {
   "cell_type": "markdown",
   "metadata": {},
   "source": [
    "\n",
    "### Ejercicio 9\n",
    "En este ejercicio vamos a crear otro juego sencillo. Se trata de intentar adivinar una palabra secreta entre dos intentos. Pasos a seguir:\n",
    "\n",
    "1. Declara la palabra secreta en una variable\n",
    "2. Declara una variable para el número de intentos, e implementa un bucle `while` que verifique que aún hay intentos restantes.\n",
    "3. Dentro del bucle, solicita al usuario que introduzca una palabra y compárala con la palabra secreta.\n",
    "4. Si el usuario acierta, imprime \"Has ganado\" y sal del bucle.\n",
    "5. Si se acaban los intentos sin acertar, imprime \"Lo siento, has perdido\".\n"
   ]
  },
  {
   "cell_type": "code",
   "execution_count": 1,
   "metadata": {},
   "outputs": [
    {
     "name": "stdout",
     "output_type": "stream",
     "text": [
      "Prueba otra vez. Te quedan 4 intentos.\n",
      "Prueba otra vez. Te quedan 3 intentos.\n",
      "Prueba otra vez. Te quedan 2 intentos.\n",
      "Prueba otra vez. Te quedan 1 intentos.\n",
      "Prueba otra vez. Te quedan 0 intentos.\n",
      "Lo siento, has perdido.\n"
     ]
    }
   ],
   "source": [
    "palabra = \"txerri\"\n",
    "intentos = 5\n",
    "\n",
    "while intentos < 6:\n",
    "    usuario = input(\"Escribe una palabra: \")\n",
    "    if palabra == usuario:\n",
    "        print(\"Has ganado\")\n",
    "        break\n",
    "    else:\n",
    "        print(f\"Prueba otra vez. Te quedan {intentos-1} intentos.\")\n",
    "        intentos = intentos - 1\n",
    "        if intentos < 1:\n",
    "            print(\"Lo siento, has perdido.\")\n",
    "            break\n",
    "\n",
    "\n"
   ]
  },
  {
   "cell_type": "markdown",
   "metadata": {},
   "source": [
    "\n",
    "### Ejercicio 10\n",
    "Crea un programa que divida dos números introducidos por el usuario. Utiliza `try` y `except` para manejar posibles errores de división por cero. Si se produce un error, imprime \"No se puede dividir por cero\". Si no, imprime el resultado."
   ]
  },
  {
   "cell_type": "code",
   "execution_count": 7,
   "metadata": {},
   "outputs": [
    {
     "ename": "TypeError",
     "evalue": "'float' object is not callable",
     "output_type": "error",
     "traceback": [
      "\u001b[1;31m---------------------------------------------------------------------------\u001b[0m",
      "\u001b[1;31mTypeError\u001b[0m                                 Traceback (most recent call last)",
      "Cell \u001b[1;32mIn[7], line 5\u001b[0m\n\u001b[0;32m      4\u001b[0m     div \u001b[38;5;241m=\u001b[39m num_uno\u001b[38;5;241m/\u001b[39mnum_dos\n\u001b[1;32m----> 5\u001b[0m     \u001b[38;5;28;43mprint\u001b[39;49m\u001b[43m(\u001b[49m\u001b[43mdiv\u001b[49m\u001b[43m)\u001b[49m\n\u001b[0;32m      6\u001b[0m \u001b[38;5;28;01mexcept\u001b[39;00m:\n",
      "\u001b[1;31mTypeError\u001b[0m: 'float' object is not callable",
      "\nDuring handling of the above exception, another exception occurred:\n",
      "\u001b[1;31mTypeError\u001b[0m                                 Traceback (most recent call last)",
      "Cell \u001b[1;32mIn[7], line 7\u001b[0m\n\u001b[0;32m      5\u001b[0m     \u001b[38;5;28mprint\u001b[39m(div)\n\u001b[0;32m      6\u001b[0m \u001b[38;5;28;01mexcept\u001b[39;00m:\n\u001b[1;32m----> 7\u001b[0m     \u001b[38;5;28;43mprint\u001b[39;49m\u001b[43m(\u001b[49m\u001b[38;5;124;43m\"\u001b[39;49m\u001b[38;5;124;43mNo se puede dividir por cero\u001b[39;49m\u001b[38;5;124;43m\"\u001b[39;49m\u001b[43m)\u001b[49m\n",
      "\u001b[1;31mTypeError\u001b[0m: 'float' object is not callable"
     ]
    }
   ],
   "source": [
    "\n",
    "try:\n",
    "    num_uno = int(input(\"Introduce un número: \"))\n",
    "    num_dos = int(input(\"Introduce otro número: \"))\n",
    "    div = num_uno/num_dos\n",
    "    print(div)\n",
    "except:\n",
    "    print(\"No se puede dividir por cero\")"
   ]
  }
 ],
 "metadata": {
  "kernelspec": {
   "display_name": "base",
   "language": "python",
   "name": "python3"
  },
  "language_info": {
   "codemirror_mode": {
    "name": "ipython",
    "version": 3
   },
   "file_extension": ".py",
   "mimetype": "text/x-python",
   "name": "python",
   "nbconvert_exporter": "python",
   "pygments_lexer": "ipython3",
   "version": "3.12.4"
  }
 },
 "nbformat": 4,
 "nbformat_minor": 2
}
