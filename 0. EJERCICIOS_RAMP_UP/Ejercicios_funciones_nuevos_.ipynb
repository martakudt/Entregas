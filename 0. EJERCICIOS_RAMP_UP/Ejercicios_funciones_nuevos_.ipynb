{
 "cells": [
  {
   "cell_type": "markdown",
   "id": "683b4b11",
   "metadata": {},
   "source": [
    "## Ejercicio 1\n",
    "Escribe una función que convierta números del 1 al 12 en los nombres de los meses del año. La función tendrá un único argumento numérico y devolverá el nombre del mes correspondiente como una cadena de texto."
   ]
  },
  {
   "cell_type": "code",
   "execution_count": 1,
   "id": "72356d9e",
   "metadata": {},
   "outputs": [],
   "source": [
    "def meses(num):\n",
    "    if num == 1:\n",
    "        return \"Enero\"\n",
    "    elif num == 2:\n",
    "        return \"Febrero\"\n",
    "    elif num == 3:\n",
    "        return \"Marzo\"\n",
    "    elif num == 4:\n",
    "        return \"Abril\"\n",
    "    elif num == 5:\n",
    "        return \"Mayo\"\n",
    "    elif num == 6:\n",
    "        return \"Junio\"\n",
    "    elif num == 7:\n",
    "        return \"Julio\"\n",
    "    elif num == 8:\n",
    "        return \"Agosto\"\n",
    "    elif num == 9:\n",
    "        return \"Septiembre\"\n",
    "    elif num == 10:\n",
    "        return \"Octubre\"\n",
    "    elif num == 11:\n",
    "        return \"Noviembre\"\n",
    "    elif num == 12:\n",
    "        return \"Diciembre\"\n",
    "    else:\n",
    "        return None"
   ]
  },
  {
   "cell_type": "code",
   "execution_count": 2,
   "id": "61d939f3",
   "metadata": {},
   "outputs": [
    {
     "name": "stdout",
     "output_type": "stream",
     "text": [
      "Diciembre\n",
      "None\n",
      "Julio\n"
     ]
    }
   ],
   "source": [
    "print(meses(12))\n",
    "print(meses(23))\n",
    "print(meses(7))"
   ]
  },
  {
   "cell_type": "markdown",
   "id": "8e8a100b",
   "metadata": {},
   "source": [
    "## Ejercicio 2\n",
    "Crea una función que reciba un número entero y genere una pirámide creciente de estrellas (`*`). El número de filas de la pirámide estará determinado por el parámetro de entrada. Cada fila tendrá un número creciente de estrellas."
   ]
  },
  {
   "cell_type": "code",
   "execution_count": 5,
   "id": "0070e54e",
   "metadata": {},
   "outputs": [],
   "source": [
    "def piramide(num):\n",
    "    for index in range(1,num + 1,1):   \n",
    "        print(\"*\" * index)\n",
    "    return None"
   ]
  },
  {
   "cell_type": "code",
   "execution_count": 7,
   "id": "2b46f091",
   "metadata": {},
   "outputs": [
    {
     "name": "stdout",
     "output_type": "stream",
     "text": [
      "*\n",
      "**\n",
      "***\n",
      "****\n",
      "*****\n",
      "******\n",
      "*******\n"
     ]
    }
   ],
   "source": [
    "piramide(7)"
   ]
  },
  {
   "cell_type": "markdown",
   "id": "c15a0113",
   "metadata": {},
   "source": [
    "## Ejercicio 3\n",
    "Escribe una función que reciba una lista de números y devuelva una nueva lista con los números elevados al cuadrado. Asegúrate de que la función sea capaz de manejar listas vacías o listas que contengan elementos no numéricos y devuelva un mensaje de error en esos casos."
   ]
  },
  {
   "cell_type": "code",
   "execution_count": 11,
   "id": "fef643f9",
   "metadata": {},
   "outputs": [],
   "source": [
    "def elevar(lista):\n",
    "    new_list = []\n",
    "    if len(lista) >=1 : \n",
    "        for elemento in lista:\n",
    "            if (type(elemento) == int) or (type(elemento) == float): \n",
    "                new_list.append(elemento**2)\n",
    "            else: \n",
    "                print(\"La lista contiene elementos no validos\")\n",
    "                return None \n",
    "        return new_list  \n",
    "    else:\n",
    "        print(\"La lista está vacia\")\n",
    "        return None\n"
   ]
  },
  {
   "cell_type": "code",
   "execution_count": 14,
   "id": "1d471774",
   "metadata": {},
   "outputs": [
    {
     "data": {
      "text/plain": [
       "[1, 4, 9, 16, 25, 36]"
      ]
     },
     "execution_count": 14,
     "metadata": {},
     "output_type": "execute_result"
    }
   ],
   "source": [
    "lista = [1,2,3,4,5,6]\n",
    "elevar(lista)"
   ]
  },
  {
   "cell_type": "code",
   "execution_count": 15,
   "id": "c65751f1",
   "metadata": {},
   "outputs": [
    {
     "name": "stdout",
     "output_type": "stream",
     "text": [
      "La lista contiene elementos no validos\n"
     ]
    }
   ],
   "source": [
    "lista = [1,2,3,\"gato\",5,6]\n",
    "elevar(lista)"
   ]
  },
  {
   "cell_type": "code",
   "execution_count": 16,
   "id": "0dd559d8",
   "metadata": {},
   "outputs": [
    {
     "name": "stdout",
     "output_type": "stream",
     "text": [
      "La lista está vacia\n"
     ]
    }
   ],
   "source": [
    "lista = []\n",
    "elevar(lista)"
   ]
  },
  {
   "cell_type": "markdown",
   "id": "20ee6ab7",
   "metadata": {},
   "source": [
    "## Ejercicio 4\n",
    "Crea una función que acepte dos argumentos: una cadena de texto y un número. La función deberá repetir la cadena tantas veces como lo indique el número, y devolver la cadena repetida. Si el número es negativo, devuelve un mensaje indicando que la repetición no es válida."
   ]
  },
  {
   "cell_type": "code",
   "execution_count": 20,
   "id": "d4b7cd9a",
   "metadata": {},
   "outputs": [],
   "source": [
    "def multi_cadena(texto, num):\n",
    "    if num >= 0:\n",
    "        return (texto + \" \")*num\n",
    "    else:\n",
    "        return \"No valido\""
   ]
  },
  {
   "cell_type": "code",
   "execution_count": 21,
   "id": "65fc3361",
   "metadata": {},
   "outputs": [
    {
     "data": {
      "text/plain": [
       "'la casa la casa la casa '"
      ]
     },
     "execution_count": 21,
     "metadata": {},
     "output_type": "execute_result"
    }
   ],
   "source": [
    "texto = \"la casa\"\n",
    "num = 3\n",
    "multi_cadena(texto, num)"
   ]
  },
  {
   "cell_type": "code",
   "execution_count": 22,
   "id": "d19f5ea1",
   "metadata": {},
   "outputs": [
    {
     "data": {
      "text/plain": [
       "'No valido'"
      ]
     },
     "execution_count": 22,
     "metadata": {},
     "output_type": "execute_result"
    }
   ],
   "source": [
    "texto = \"la casa\"\n",
    "num = -3\n",
    "multi_cadena(texto, num)"
   ]
  },
  {
   "cell_type": "markdown",
   "id": "9bf287a0",
   "metadata": {},
   "source": [
    "## Ejercicio 5\n",
    "Escribe una función que acepte una lista de cadenas de texto y devuelva la cadena más larga. Si hay dos o más cadenas con la misma longitud máxima, devuelve la primera que aparezca en la lista."
   ]
  },
  {
   "cell_type": "code",
   "execution_count": 28,
   "id": "d079b4a6",
   "metadata": {},
   "outputs": [],
   "source": [
    "def comparar(lista):\n",
    "    longitud = []\n",
    "    for elemento in lista:\n",
    "        longitud.append(len(elemento))\n",
    "    indice_max = longitud.index(max(longitud))\n",
    "    return lista[indice_max]"
   ]
  },
  {
   "cell_type": "code",
   "execution_count": 30,
   "id": "c12dab0b",
   "metadata": {},
   "outputs": [
    {
     "data": {
      "text/plain": [
       "'adios'"
      ]
     },
     "execution_count": 30,
     "metadata": {},
     "output_type": "execute_result"
    }
   ],
   "source": [
    "list = [\"hola\", \"adios\",\"marta\"]\n",
    "comparar(list)"
   ]
  },
  {
   "cell_type": "markdown",
   "id": "63b48ddb",
   "metadata": {},
   "source": [
    "## Ejercicio 6\n",
    "Crea una función que reciba una palabra y devuelva `True` si la palabra es un palíndromo (es decir, si se lee igual hacia adelante y hacia atrás), y `False` en caso contrario. Ignora mayúsculas y espacios."
   ]
  },
  {
   "cell_type": "code",
   "execution_count": 31,
   "id": "5e5a6fd7",
   "metadata": {},
   "outputs": [],
   "source": [
    "def pali(palabra):\n",
    "    if (palabra.lower() == palabra.lower()[::-1]):\n",
    "        return True \n",
    "    else:\n",
    "        return False"
   ]
  },
  {
   "cell_type": "code",
   "execution_count": 33,
   "id": "b67be492",
   "metadata": {},
   "outputs": [
    {
     "data": {
      "text/plain": [
       "True"
      ]
     },
     "execution_count": 33,
     "metadata": {},
     "output_type": "execute_result"
    }
   ],
   "source": [
    "palabra = \"Sugus\"\n",
    "pali(palabra)"
   ]
  },
  {
   "cell_type": "code",
   "execution_count": 34,
   "id": "d299ea6d",
   "metadata": {},
   "outputs": [
    {
     "data": {
      "text/plain": [
       "False"
      ]
     },
     "execution_count": 34,
     "metadata": {},
     "output_type": "execute_result"
    }
   ],
   "source": [
    "palabra_2 = \"mesa\"\n",
    "pali(palabra_2)"
   ]
  },
  {
   "cell_type": "markdown",
   "id": "09d543ae",
   "metadata": {},
   "source": [
    "## Ejercicio 7\n",
    "Escribe una función que convierta grados Celsius a grados Fahrenheit. La función debe aceptar un valor numérico y devolver el resultado de la conversión."
   ]
  },
  {
   "cell_type": "code",
   "execution_count": 35,
   "id": "9d15a634",
   "metadata": {},
   "outputs": [],
   "source": [
    "def grados(celsius):\n",
    "    return (celsius*9)/5 + 32 "
   ]
  },
  {
   "cell_type": "code",
   "execution_count": 36,
   "id": "0131ac07",
   "metadata": {},
   "outputs": [
    {
     "data": {
      "text/plain": [
       "39.2"
      ]
     },
     "execution_count": 36,
     "metadata": {},
     "output_type": "execute_result"
    }
   ],
   "source": [
    "grados(4)"
   ]
  },
  {
   "cell_type": "markdown",
   "id": "9e6ec810",
   "metadata": {},
   "source": [
    "## Ejercicio 8\n",
    "Crea una función que reciba un número y devuelva una lista con todos los divisores de ese número. La lista deberá estar ordenada de menor a mayor."
   ]
  },
  {
   "cell_type": "code",
   "execution_count": 49,
   "id": "58aa31c6",
   "metadata": {},
   "outputs": [],
   "source": [
    "def divisores(num):\n",
    "    lista_divisores = []\n",
    "    for div in range(1, num + 1):\n",
    "        if num % div == 0:\n",
    "            lista_divisores.append(div)\n",
    "    return lista_divisores"
   ]
  },
  {
   "cell_type": "code",
   "execution_count": 50,
   "id": "c7b094fc",
   "metadata": {},
   "outputs": [
    {
     "data": {
      "text/plain": [
       "[1, 3, 5, 9, 15, 45]"
      ]
     },
     "execution_count": 50,
     "metadata": {},
     "output_type": "execute_result"
    }
   ],
   "source": [
    "divisores(45)"
   ]
  },
  {
   "cell_type": "code",
   "execution_count": 52,
   "id": "088abd98",
   "metadata": {},
   "outputs": [
    {
     "data": {
      "text/plain": [
       "[1, 2, 3, 4, 6, 11, 12, 22, 33, 44, 66, 132]"
      ]
     },
     "execution_count": 52,
     "metadata": {},
     "output_type": "execute_result"
    }
   ],
   "source": [
    "divisores(132)"
   ]
  },
  {
   "cell_type": "code",
   "execution_count": 55,
   "id": "fd2fec52",
   "metadata": {},
   "outputs": [
    {
     "data": {
      "text/plain": [
       "[1, 131]"
      ]
     },
     "execution_count": 55,
     "metadata": {},
     "output_type": "execute_result"
    }
   ],
   "source": [
    "divisores(131)"
   ]
  },
  {
   "cell_type": "markdown",
   "id": "1419e750",
   "metadata": {},
   "source": [
    "## Ejercicio 9\n",
    "Escribe una función que acepte un número entero positivo y devuelva `True` si el número es primo, y `False` en caso contrario."
   ]
  },
  {
   "cell_type": "code",
   "execution_count": 59,
   "id": "7222f225",
   "metadata": {},
   "outputs": [],
   "source": [
    "# Los números primos son números naturales mayores que 1 y sin ningún divisor aparte de sí mismos y el número uno. \n",
    "def primo(num):\n",
    "    lista_divisores = []\n",
    "    for div in range(1, num + 1):\n",
    "        if num % div == 0:\n",
    "            lista_divisores.append(div)\n",
    "\n",
    "    if len(lista_divisores) == 2:\n",
    "        return True\n",
    "    else:\n",
    "        return False"
   ]
  },
  {
   "cell_type": "code",
   "execution_count": 60,
   "id": "8d68b0e5",
   "metadata": {},
   "outputs": [
    {
     "data": {
      "text/plain": [
       "False"
      ]
     },
     "execution_count": 60,
     "metadata": {},
     "output_type": "execute_result"
    }
   ],
   "source": [
    "primo(45)"
   ]
  },
  {
   "cell_type": "code",
   "execution_count": 65,
   "id": "397ed6e1",
   "metadata": {},
   "outputs": [
    {
     "data": {
      "text/plain": [
       "True"
      ]
     },
     "execution_count": 65,
     "metadata": {},
     "output_type": "execute_result"
    }
   ],
   "source": [
    "primo(131)"
   ]
  },
  {
   "cell_type": "markdown",
   "id": "1703f1db",
   "metadata": {},
   "source": [
    "## Ejercicio 10\n",
    "Crea una función que tome una lista de números enteros y devuelva `True` si todos los números de la lista son pares, y `False` si al menos uno de los números no lo es."
   ]
  },
  {
   "cell_type": "code",
   "execution_count": 66,
   "id": "20c9592e",
   "metadata": {},
   "outputs": [],
   "source": [
    "def pares(lista):\n",
    "    lista_pares = []\n",
    "    for elemento in lista:\n",
    "        if elemento % 2 == 0:\n",
    "            lista_pares.append(elemento)\n",
    "    if len(lista) == len(lista_pares):\n",
    "        return True\n",
    "    else:\n",
    "        return False"
   ]
  },
  {
   "cell_type": "code",
   "execution_count": 68,
   "id": "f4beb036",
   "metadata": {},
   "outputs": [
    {
     "data": {
      "text/plain": [
       "True"
      ]
     },
     "execution_count": 68,
     "metadata": {},
     "output_type": "execute_result"
    }
   ],
   "source": [
    "lista_1 = [2,4,6,8]\n",
    "pares(lista_1)"
   ]
  },
  {
   "cell_type": "code",
   "execution_count": 69,
   "id": "00ffae97",
   "metadata": {},
   "outputs": [
    {
     "data": {
      "text/plain": [
       "False"
      ]
     },
     "execution_count": 69,
     "metadata": {},
     "output_type": "execute_result"
    }
   ],
   "source": [
    "lista_2 = [2,4,5,6,8]\n",
    "pares(lista_2)"
   ]
  }
 ],
 "metadata": {
  "kernelspec": {
   "display_name": "ramp_up-env",
   "language": "python",
   "name": "python3"
  },
  "language_info": {
   "codemirror_mode": {
    "name": "ipython",
    "version": 3
   },
   "file_extension": ".py",
   "mimetype": "text/x-python",
   "name": "python",
   "nbconvert_exporter": "python",
   "pygments_lexer": "ipython3",
   "version": "3.11.9"
  }
 },
 "nbformat": 4,
 "nbformat_minor": 5
}
