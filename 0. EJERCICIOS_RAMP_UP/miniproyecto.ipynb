{
 "cells": [
  {
   "cell_type": "markdown",
   "metadata": {},
   "source": [
    "## **Investigación**"
   ]
  },
  {
   "cell_type": "markdown",
   "metadata": {},
   "source": [
    " ### **1. Métodos para strings** \n",
    "Los métodos para strings en Python son funciones específicas que se aplican directamente a objetos de tipo cadena y permiten realizar una gran variedad de operaciones sobre ellas. \n",
    "- **upper()**: convierte todos los caracteres de una cadena a mayúsculas.\n",
    "- **lower()**: convierte todos los caracteres de una cadena a minúsculas.\n",
    "- **capitalize()**: convierte el primer carácter de la cadena a mayúscula y el resto a minúsculas.\n",
    "- **title()**: convierte el primer carácter de cada palabra a mayúscula.\n",
    "- **strip()**: elimina los espacios en blanco al inicio y al final de la cadena.\n",
    "- **replace()**: reemplaza todas las ocurrencias de un substring con otro. \n",
    "- **split()**: divide una cadena en una lista de substrings, utilizando el separador especificado.\n",
    "- **join()**: une los elementos de un iterable (como una lista) en una sola cadena, usando el string como separador.\n",
    "- **find(substring)**: devuelve el índice de la primera aparición de un substring.\n",
    "- **index(substring)**: devuelve el índice del substring.\n",
    "- **count(substring)**: cuenta el número de veces que aparece un substring en la cadena.\n",
    "- **isalpha()**: devuelve True si todos los caracteres son letras (sin espacios ni números).\n",
    "- **isdigit()**: devuelve True si todos los caracteres son dígitos.\n",
    "- **startswith()**: devuelve True si la cadena empieza con una subcadena.\n",
    "- **endswith()**: devuelve True si la cadena acaba con una subcadena."
   ]
  },
  {
   "cell_type": "markdown",
   "metadata": {},
   "source": [
    "###  **Casos de uso comunes**\n",
    "- Manipulación de texto: formatear, buscar, reemplazar.\n",
    "- Analizar el contenido de la cadena.\n",
    "- Almacenamiento de datos textuales: nombres, direcciones, etc.\n",
    "- Creación de archivos de texto.\n",
    "-  Limpieza de datos textuales."
   ]
  },
  {
   "cell_type": "markdown",
   "metadata": {},
   "source": [
    "### **2. Métodos para listas**\n",
    "\n",
    "Una lista es una colección ordenada y mutable que permite almacenar elementos de cualquier tipo. Se definen entre corchetes. Los métodos que podemos aplicar a las listas son los siguientes:\n",
    "- **append()**: añade un elemento al final de la lista.\n",
    "- **remove()**: elimina la primera ocurrencia de un elemento.\n",
    "- **pop([índice])**: elimina y devuelve el elemento en un índice especifico, si no se especifica el índice, elimina el último.\n",
    "- **sort()**: ordena los elementos de la lista.\n",
    "- **clear()**: elimina todos los elementos de una lista.\n",
    "- **copy()**: devuelve una copia de la lista.\n",
    "- **count()**: devuelve el número de elementos con el valor especificado.\n",
    "- **extend()**: agrega los elementos de una lista al final de la lista actual.\n",
    "- **index()**: devuelve el índice del primer elemento con el valor especificado.\n",
    "- **insert()**: agrega un elemento en la posición especificada.\n",
    "- **reverse()**: invierte el orden de la lista."
   ]
  },
  {
   "cell_type": "markdown",
   "metadata": {},
   "source": [
    "###  **Casos de uso comunes**\n",
    "- Almacenar secuencias de datos: números, strings, otras listas.\n",
    "-  Iterar sobre elementos para aplicar transformaciones o filtros."
   ]
  },
  {
   "cell_type": "markdown",
   "metadata": {},
   "source": [
    "### **3. Métodos para diccionarios**\n",
    "Un diccionario es una colección desordenada de pares clave-valor. Las claves son únicas y sirven para acceder a los valores asociados. Se definen entre llaves. Los métodos que podemos aplicar son los siguientes:\n",
    "- **get(clave)**: devuelve el valor asociado a una clave, o None si la clave no existe.\n",
    "- **keys()**: devuelve una lista de todas las claves.\n",
    "- **values()**: devuelve una lista de todos los valores.\n",
    "- **items()**: devuelve una lista de pares clave-valor.\n",
    "- **clear()**: elimina todos los elementos del diccionario.\n",
    "- **copy()**: devuelve una copia del diccionario.\n",
    "- **pop()**: elimina el elemento con la clave especificada.\n",
    "- **popitem()**: elimina el último par clave-valor insertado."
   ]
  },
  {
   "cell_type": "markdown",
   "metadata": {},
   "source": [
    "###  **Casos de uso comunes**\n",
    "- Ideal para almacenar información donde cada elemento tiene una clave única, como datos de usuarios o configuraciones.\n",
    "- Busqueda de un valor basado en una clave.\n",
    "- Agrupación de datos."
   ]
  },
  {
   "cell_type": "markdown",
   "metadata": {},
   "source": [
    "### **Combinaciones para resolver problemas más complejos**\n",
    "- **Strings + Listas**: Los strings pueden dividirse en listas utilizando métodos como **split()**, permitiendo procesar texto en palabras o frases.\n",
    "- **Listas + Strings**: Las listas de strings pueden unirse en un solo string utilizando **join()**, lo que es útil para reconstruir datos.\n",
    "- **Diccionarios + Listas**: Los diccionarios pueden usar listas como valores, lo que permite almacenar múltiples elementos bajo una misma clave.\n",
    "- **Diccionarios + Strings**: Los diccionarios pueden usar strings como claves y valores, facilitando la búsqueda rápida de información basada en identificadores de texto.\n",
    "- **Strings + Diccionarios**: Se puede usar un diccionario para contar la frecuencia de elementos en un string (como palabras o caracteres).\n",
    "- **Diccionarios + Listas**: Los diccionarios pueden agrupar elementos en listas. Esto es útil para agrupar datos en categorías."
   ]
  },
  {
   "cell_type": "markdown",
   "metadata": {},
   "source": [
    "## **Ejemplos prácticos**"
   ]
  },
  {
   "cell_type": "markdown",
   "metadata": {},
   "source": [
    "### **1. Ejemplos para strings**"
   ]
  },
  {
   "cell_type": "markdown",
   "metadata": {},
   "source": [
    "##### **Ejemplo 1**: Limpieza de texto\n",
    "\n",
    "En este ejemplo, limpiamos una cadena de texto eliminando espacios, símbolos y convirtiendo el texto a minúsculas."
   ]
  },
  {
   "cell_type": "code",
   "execution_count": 4,
   "metadata": {},
   "outputs": [
    {
     "name": "stdout",
     "output_type": "stream",
     "text": [
      "hola amigo, me alegro mucho de verte\n"
     ]
    }
   ],
   "source": [
    "cadena_sucia = \"¡HoLa AmiGo!, Me aleGro mucho de Verte\"\n",
    "\n",
    "cadena_limpia = cadena_sucia.strip().lower().replace(\"¡\",\"\").replace(\"!\",\"\")\n",
    "print(cadena_limpia)"
   ]
  },
  {
   "cell_type": "markdown",
   "metadata": {},
   "source": [
    "##### **Ejemplo 2**: Buscar patrones en un string\n",
    "\n",
    "En este ejemplo, buscamos palabras o patrones dentro de una cadena."
   ]
  },
  {
   "cell_type": "code",
   "execution_count": 6,
   "metadata": {},
   "outputs": [
    {
     "name": "stdout",
     "output_type": "stream",
     "text": [
      "4\n",
      "True\n",
      "False\n"
     ]
    }
   ],
   "source": [
    "texto = \"Python es un lenguaje de programación fácil. Python se usa en todo el mundo. Python es poderoso. Python es muy útil.\"\n",
    "\n",
    "# Buscamos las veces que aparece la palabra \"python\" en el texto\n",
    "numero_python = texto.lower().count(\"python\")\n",
    "print(numero_python)\n",
    "\n",
    "# Comprobamos si el texto empieza y termina con \"python\"\n",
    "empieza_python = texto.lower().startswith(\"python\")\n",
    "print(empieza_python)\n",
    "termina_python = texto.lower().endswith(\"python\")\n",
    "print(termina_python)"
   ]
  },
  {
   "cell_type": "markdown",
   "metadata": {},
   "source": [
    "##### **Ejemplo 3**: Normalización y Validación de nombres de usuario\n",
    "\n",
    "Podemos tener una lista donde se almacenan nombres de usuario ingresados de manera inconsistente (con espacios extra, mayúsculas, símbolos no permitidos, etc.). El objetivo es limpiar y validar estos nombres de usuario antes de guardarlos en el sistema."
   ]
  },
  {
   "cell_type": "code",
   "execution_count": 16,
   "metadata": {},
   "outputs": [
    {
     "name": "stdout",
     "output_type": "stream",
     "text": [
      "'carlos123' es válido.\n",
      "'ana' no es válido: debe tener entre 5 y 15 caracteres.\n",
      "'superusuario' es válido.\n",
      "'josé123' es válido.\n",
      "'nombremuylargoparaelsistema123' no es válido: debe tener entre 5 y 15 caracteres.\n",
      "'usuario' es válido.\n",
      "'pedro789' es válido.\n",
      "'juan' no es válido: debe tener entre 5 y 15 caracteres.\n",
      "'sofia' es válido.\n",
      "'user' no es válido: debe tener entre 5 y 15 caracteres.\n"
     ]
    }
   ],
   "source": [
    "nombres_usuario = [\"Carlos!123\", \"Ana@\", \"Super!Usuario#\", \"José123$\", \"NombreMuyLargoParaElSistema123\", \"   Usuario!   \", \"pedro#789\", \"JUAN@@@\", \"Sofia$!\", \"user  \",]\n",
    "\n",
    "def limpiar(usuario):\n",
    "    # Eliminamos los espacios al principio y final\n",
    "    usuario = usuario.strip()\n",
    "\n",
    "    # Eliminamos caracteres no permitidos\n",
    "  \n",
    "    caracteres_no_permitidos = [\"@\", \"#\", \"!\", \"$\"]\n",
    "    for char in caracteres_no_permitidos:\n",
    "        usuario = usuario.replace(char,\"\")\n",
    "\n",
    "    # Convertimos a minúsculas\n",
    "    usuario = usuario.lower()\n",
    " \n",
    "    # Validamos la longitud (mínimo 5 y máximo 15)\n",
    "    if (len(usuario) < 5) or (len(usuario) > 15):\n",
    "        return f\"'{usuario}' no es válido: debe tener entre 5 y 15 caracteres.\"\n",
    "    else:\n",
    "        return f\"'{usuario}' es válido.\"\n",
    "\n",
    "\n",
    "# Validar y limpiar cada usuario\n",
    "for usuario in nombres_usuario:\n",
    "    resultado = limpiar(usuario)\n",
    "    print(resultado)\n"
   ]
  },
  {
   "cell_type": "markdown",
   "metadata": {},
   "source": [
    "### **2. Ejemplos para listas**"
   ]
  },
  {
   "cell_type": "markdown",
   "metadata": {},
   "source": [
    "##### **Ejemplo 1**:  Añadir y eliminar elementos a una lista\n",
    "\n",
    "El método **append()** añade un único elemento al final de la lista, mientras que **extend()** permite agregar varios elementos a la vez. Por otra parte, el método **remove()** elimina la primera aparición de un valor específico, mientras que **pop()** elimina el elemento en una posición determinada (o el último si no se especifica)."
   ]
  },
  {
   "cell_type": "code",
   "execution_count": 18,
   "metadata": {},
   "outputs": [
    {
     "name": "stdout",
     "output_type": "stream",
     "text": [
      "['manzana', 'platano', 'cereza', 'naranja']\n",
      "['manzana', 'platano', 'cereza', 'naranja', 'pera', 'uva']\n",
      "['manzana', 'cereza', 'naranja', 'pera', 'uva']\n",
      "['manzana', 'cereza', 'naranja', 'uva']\n"
     ]
    }
   ],
   "source": [
    "frutas = [\"manzana\", \"platano\", \"cereza\"]\n",
    "\n",
    "# Añadir una sola fruta con append()\n",
    "frutas.append(\"naranja\")\n",
    "print(frutas)\n",
    "\n",
    "# Añadir varias frutas con extend()\n",
    "frutas.extend([\"pera\", \"uva\"])\n",
    "print(frutas)\n",
    "\n",
    "# Elimiar una fruta determinada\n",
    "frutas.remove(\"platano\")\n",
    "print(frutas)\n",
    "\n",
    "# Eliminamos por la posición\n",
    "frutas.pop(3)\n",
    "print(frutas)\n"
   ]
  },
  {
   "cell_type": "markdown",
   "metadata": {},
   "source": [
    "##### **Ejemplo 2**:  Ordenar una lista y contar ocurrencias\n",
    "\n",
    "En este ejemplo, ordenamos una lista de números y contamos cuántas veces aparece un número específico."
   ]
  },
  {
   "cell_type": "code",
   "execution_count": 19,
   "metadata": {},
   "outputs": [
    {
     "name": "stdout",
     "output_type": "stream",
     "text": [
      "[2, 3, 3, 3, 5, 5, 6, 9]\n",
      "3\n"
     ]
    }
   ],
   "source": [
    "numeros = [5, 3, 6, 3, 2, 9, 5, 3]\n",
    "\n",
    "# Ordenar la lista de números\n",
    "numeros.sort()\n",
    "print(numeros)\n",
    "\n",
    "# Contar cuántas veces aparece el número 3\n",
    "treses = numeros.count(3)\n",
    "print(treses)"
   ]
  },
  {
   "cell_type": "markdown",
   "metadata": {},
   "source": [
    "##### **Ejemplo 3**: Gestión de una lista de tareas\n",
    "\n",
    "Queremos crear un sistema que permita:\n",
    "- Añadir nuevas tareas.\n",
    "- Marcar una tarea como completada (y eliminarla de la lista).\n",
    "- Ver la lista de tareas pendientes, ordenadas por prioridad.\n",
    "- Contar cuántas tareas tenemos pendientes."
   ]
  },
  {
   "cell_type": "code",
   "execution_count": 23,
   "metadata": {},
   "outputs": [
    {
     "name": "stdout",
     "output_type": "stream",
     "text": [
      "[(2, 'Revisar correos'), (1, 'Terminar ejercicios'), (3, 'Llamar al fontanero'), (1, 'Estudiar Python'), (2, 'Hacer la comida y la cena')]\n",
      "[(1, 'Estudiar Python'), (1, 'Terminar ejercicios'), (2, 'Hacer la comida y la cena'), (2, 'Revisar correos'), (3, 'Llamar al fontanero')]\n",
      "[(1, 'Estudiar Python'), (2, 'Hacer la comida y la cena'), (2, 'Revisar correos'), (3, 'Llamar al fontanero')]\n",
      "Tareas pendientes ordenadas por prioridad:\n",
      "Prioridad: 1, Tarea: Estudiar Python\n",
      "Prioridad: 2, Tarea: Hacer la comida y la cena\n",
      "Prioridad: 2, Tarea: Revisar correos\n",
      "Prioridad: 3, Tarea: Llamar al fontanero\n",
      "Tareas pendientes: 4\n"
     ]
    }
   ],
   "source": [
    "# Lista de tareas (prioridad, descripción)\n",
    "tareas = [(2, \"Revisar correos\"), (1, \"Terminar ejercicios\"), (3, \"Llamar al fontanero\")]\n",
    "\n",
    "# Añadir nuevas tareas\n",
    "tareas.append((1, \"Estudiar Python\"))\n",
    "tareas.append((2, \"Hacer la comida y la cena\"))\n",
    "print(tareas)\n",
    "\n",
    "# Ordenamos las tareas por prioridad\n",
    "tareas.sort()\n",
    "print(tareas)\n",
    "\n",
    "# Eliminamos una tarea completada\n",
    "tarea_completada = \"Terminar ejercicios\"\n",
    "for tarea in tareas:\n",
    "    if tarea[1] == tarea_completada:\n",
    "        tareas.remove(tarea)\n",
    "        break\n",
    "print(tareas)\n",
    "\n",
    "# Mostrar la lista de tareas pendientes\n",
    "print(\"Tareas pendientes ordenadas por prioridad:\")\n",
    "for tarea in tareas:\n",
    "    print(f\"Prioridad: {tarea[0]}, Tarea: {tarea[1]}\")\n",
    "\n",
    "# Contar cuantas tareas quedan pendientes\n",
    "tareas_pendientes = len(tareas)\n",
    "print(f\"Tareas pendientes: {tareas_pendientes}\")\n"
   ]
  },
  {
   "cell_type": "markdown",
   "metadata": {},
   "source": [
    "### **3. Ejemplos para diccionarios**"
   ]
  },
  {
   "cell_type": "markdown",
   "metadata": {},
   "source": [
    "##### **Ejemplo 1**:   Gestión de calificaciones de estudiantes\n",
    "\n",
    "En este ejemplo, gestionamos un sistema básico de notas donde:\n",
    "\n",
    "- Añadimos nuevas notas.\n",
    "- Actualizamos la nota de un estudiante.\n",
    "- Eliminamos la nota de un estudiante que se dio de baja."
   ]
  },
  {
   "cell_type": "code",
   "execution_count": 26,
   "metadata": {},
   "outputs": [
    {
     "name": "stdout",
     "output_type": "stream",
     "text": [
      "{'Ana': 5, 'Carlos': 2, 'Luis': 8, 'María': 9, 'Pedro': 7}\n",
      "{'Ana': 8, 'Carlos': 2, 'Luis': 8, 'María': 9, 'Pedro': 7}\n",
      "{'Ana': 8, 'Carlos': 2, 'María': 9, 'Pedro': 7}\n",
      "9\n",
      "dict_keys(['Ana', 'Carlos', 'María', 'Pedro'])\n",
      "dict_values([8, 2, 9, 7])\n",
      "dict_items([('Ana', 8), ('Carlos', 2), ('María', 9), ('Pedro', 7)])\n"
     ]
    }
   ],
   "source": [
    "notas = {\n",
    "    \"Ana\": 5,\n",
    "    \"Carlos\": 2,\n",
    "    \"Luis\": 8,\n",
    "    \"María\": 9\n",
    "}\n",
    "\n",
    "# Añadimos una nueva nota para un nuevo estudiante\n",
    "notas[\"Pedro\"] = 7\n",
    "print(notas)\n",
    "\n",
    "# Actualizamos la nota de Ana\n",
    "notas[\"Ana\"] = 8\n",
    "print(notas)\n",
    "\n",
    "# Eliminamos la nota de un estudiante que se ha dado de baja\n",
    "notas.pop(\"Luis\")\n",
    "print(notas)\n",
    "\n",
    "# Utilizamos get() para ver el valor asociado a una clave\n",
    "print(notas.get(\"María\"))\n",
    "\n",
    "# Utilixamos keys() y values() para visualizarlos\n",
    "print(notas.keys())\n",
    "print(notas.values())\n",
    "\n",
    "# Utilizamos items() para ver la lista con todos los pares clave-valor\n",
    "print(notas.items())\n"
   ]
  },
  {
   "cell_type": "markdown",
   "metadata": {},
   "source": [
    "##### **Ejemplo 2**: Iterar y sumar valores en un diccionario\n",
    "\n",
    "En este ejemplo, tenemos un diccionario con productos y sus precios. Queremos iterar sobre el diccionario y sumar los precios para obtener el coste total."
   ]
  },
  {
   "cell_type": "code",
   "execution_count": 27,
   "metadata": {},
   "outputs": [
    {
     "name": "stdout",
     "output_type": "stream",
     "text": [
      "Producto: Manzana, Precio: 1.5\n",
      "Producto: Banana, Precio: 0.8\n",
      "Producto: Pan, Precio: 2.0\n",
      "Producto: Leche, Precio: 1.2\n",
      "Precio total: 5.5\n"
     ]
    }
   ],
   "source": [
    "productos = {\n",
    "    \"Manzana\": 1.5,\n",
    "    \"Banana\": 0.8,\n",
    "    \"Pan\": 2.0,\n",
    "    \"Leche\": 1.2\n",
    "}\n",
    "\n",
    "# Sumar todos los precios de los productos\n",
    "total = sum(productos.values())\n",
    "\n",
    "#  Iterar sobre los productos y mostrar el precio de cada uno\n",
    "for producto, precio in productos.items():\n",
    "    print(f\"Producto: {producto}, Precio: {precio}\")\n",
    "\n",
    "print(f\"Precio total: {total}\")"
   ]
  },
  {
   "cell_type": "markdown",
   "metadata": {},
   "source": [
    "##### **Ejemplo 3**: Sistema de Inventario de Productos\n",
    "\n",
    "Características del sistema:\n",
    "\n",
    "- Añadir nuevos productos.\n",
    "- Actualizar la cantidad de un producto.\n",
    "- Eliminar un producto del inventario.\n",
    "- Generar un informe del inventario actual."
   ]
  },
  {
   "cell_type": "code",
   "execution_count": 32,
   "metadata": {},
   "outputs": [
    {
     "name": "stdout",
     "output_type": "stream",
     "text": [
      "Producto 'pera' añadido al inventario.\n",
      "Cantidad de 'manzana' actualizada a 40.\n",
      "Producto 'leche' eliminado del inventario.\n",
      "\n",
      "Informe de Inventario:\n",
      "Manzana: Precio: 1.2 €, Cantidad: 40\n",
      "Platano: Precio: 0.5 €, Cantidad: 50\n",
      "Pan: Precio: 1.0 €, Cantidad: 15\n",
      "Pera: Precio: 0.8 €, Cantidad: 40\n",
      "\n",
      "Total de productos en inventario: 4\n",
      "{'manzana': {'precio': 1.2, 'cantidad': 40}, 'platano': {'precio': 0.5, 'cantidad': 50}, 'pan': {'precio': 1.0, 'cantidad': 15}, 'pera': {'precio': 0.8, 'cantidad': 40}}\n"
     ]
    }
   ],
   "source": [
    "inventario = {\n",
    "    \"manzana\": {\"precio\": 1.2, \"cantidad\": 30},\n",
    "    \"platano\": {\"precio\": 0.5, \"cantidad\": 50},\n",
    "    \"leche\": {\"precio\": 1.5, \"cantidad\": 20},\n",
    "    \"pan\": {\"precio\": 1.0, \"cantidad\": 15}\n",
    "}\n",
    "\n",
    "# Función para añadir un nuevo producto\n",
    "def añadir_producto(nombre, precio, cantidad):\n",
    "    inventario[nombre] = {\"precio\": precio, \"cantidad\": cantidad}\n",
    "    print(f\"Producto '{nombre}' añadido al inventario.\")\n",
    "\n",
    "# Función para actualizar la cantidad de un producto\n",
    "def actualizar_cantidad(nombre, cantidad):\n",
    "    if nombre in inventario:\n",
    "        inventario[nombre][\"cantidad\"] += cantidad\n",
    "        print(f\"Cantidad de '{nombre}' actualizada a {inventario[nombre]['cantidad']}.\")\n",
    "    else:\n",
    "        print(f\"Producto '{nombre}' no encontrado en el inventario.\")\n",
    "\n",
    "# Función para eliminar un producto\n",
    "def eliminar_producto(nombre):\n",
    "    if nombre in inventario:\n",
    "        inventario.pop(nombre)\n",
    "        print(f\"Producto '{nombre}' eliminado del inventario.\")\n",
    "    else:\n",
    "        print(f\"Producto '{nombre}' no encontrado en el inventario.\")\n",
    "\n",
    "# Función para generar un informe del inventario\n",
    "def generar_informe():\n",
    "    print(\"\\nInforme de Inventario:\")\n",
    "    for producto, detalles in inventario.items():\n",
    "        print(f\"{producto.capitalize()}: Precio: {detalles['precio']} €, Cantidad: {detalles['cantidad']}\")\n",
    "    print(\"\\nTotal de productos en inventario:\", len(inventario))\n",
    "\n",
    "# Ejemplo de uso de las funciones\n",
    "añadir_producto(\"pera\", 0.8, 40)\n",
    "actualizar_cantidad(\"manzana\", 10)\n",
    "eliminar_producto(\"leche\")\n",
    "generar_informe()\n",
    "print(inventario)"
   ]
  },
  {
   "cell_type": "markdown",
   "metadata": {},
   "source": [
    "## **Ejemplo final**\n",
    "\n",
    "#### **Gestión de Pedidos en una Hamburguesería**\n",
    "\n",
    "En nuestra hamburguesería, recibimos una serie de pedidos cada noche. Cada vez que los clientes realizan sus pedidos, estos se almacenan en un diccionario que guarda toda la información relevante, como el nombre del cliente, los productos pedidos y el estado del pedido. Además, contamos con la capacidad de actualizar los pedidos, ya sea añadiendo nuevos productos o modificando su estado (como marcado como \"completado\"), así como la opción de cancelar y eliminar pedidos si un cliente decide anular su solicitud. Esto nos permite gestionar los pedidos de forma eficiente y precisa."
   ]
  },
  {
   "cell_type": "code",
   "execution_count": 20,
   "metadata": {},
   "outputs": [
    {
     "name": "stdout",
     "output_type": "stream",
     "text": [
      "{'001': {'cliente': 'Juan Pérez', 'productos': ['hamburguesa clásica', 'patatas fritas'], 'estado': 'pendiente'}, '002': {'cliente': 'Marta Torres', 'productos': ['hamburguesa con bacon', 'agua mineral'], 'estado': 'pendiente'}, '003': {'cliente': 'Esther López', 'productos': ['hamburguesa vegana', 'alitas barbacoa'], 'estado': 'pendiente'}, '004': {'cliente': 'Miguel Torres', 'productos': ['hamburguesa vegetariana', 'tequeños'], 'estado': 'pendiente'}}\n"
     ]
    }
   ],
   "source": [
    "# Inicializamos un diccionario donde se almacenan los pedidos\n",
    "pedidos = {}\n",
    "\n",
    "#Añadir pedidos\n",
    "pedidos[\"001\"] = {\n",
    "    \"cliente\": \"Juan Pérez\",\n",
    "    \"productos\": [\"hamburguesa clásica\", \"patatas fritas\"],\n",
    "    \"estado\": \"pendiente\"\n",
    "}\n",
    "\n",
    "pedidos[\"002\"] = {\n",
    "    \"cliente\": \"Marta Torres\",\n",
    "    \"productos\": [\"hamburguesa con bacon\", \"agua mineral\"],\n",
    "    \"estado\": \"pendiente\"\n",
    "}\n",
    "\n",
    "pedidos[\"003\"] = {\n",
    "    \"cliente\": \"Esther López\",\n",
    "    \"productos\": [\"hamburguesa vegana\", \"alitas barbacoa\"],\n",
    "    \"estado\": \"pendiente\"\n",
    "}\n",
    "\n",
    "pedidos[\"004\"] = {\n",
    "    \"cliente\": \"Miguel Torres\",\n",
    "    \"productos\": [\"hamburguesa vegetariana\", \"tequeños\"],\n",
    "    \"estado\": \"pendiente\"\n",
    "}\n",
    "\n",
    "print(pedidos)"
   ]
  },
  {
   "cell_type": "code",
   "execution_count": 21,
   "metadata": {},
   "outputs": [
    {
     "name": "stdout",
     "output_type": "stream",
     "text": [
      "{'001': {'cliente': 'Juan Pérez', 'productos': ['hamburguesa clásica', 'patatas fritas'], 'estado': 'completado'}, '002': {'cliente': 'Marta Torres', 'productos': ['hamburguesa con bacon', 'agua mineral'], 'estado': 'pendiente'}, '003': {'cliente': 'Esther López', 'productos': ['hamburguesa vegana', 'alitas barbacoa'], 'estado': 'pendiente'}, '004': {'cliente': 'Miguel Torres', 'productos': ['hamburguesa vegetariana', 'tequeños'], 'estado': 'completado'}}\n"
     ]
    }
   ],
   "source": [
    "# Actualizamos el estado del pedido \"001\" a \"completado\"\n",
    "pedidos_actualizar = [\"001\", \"004\"]\n",
    "for id_pedido in pedidos_actualizar:\n",
    "    pedidos[id_pedido][\"estado\"] = \"completado\"\n",
    "    \n",
    "print(pedidos)"
   ]
  },
  {
   "cell_type": "code",
   "execution_count": 22,
   "metadata": {},
   "outputs": [
    {
     "name": "stdout",
     "output_type": "stream",
     "text": [
      "{'001': {'cliente': 'Juan Pérez', 'productos': ['hamburguesa clásica', 'patatas fritas', 'batido de chocolate'], 'estado': 'completado'}, '002': {'cliente': 'Marta Torres', 'productos': ['hamburguesa con bacon', 'agua mineral', 'ensalada'], 'estado': 'pendiente'}, '003': {'cliente': 'Esther López', 'productos': ['hamburguesa vegana', 'alitas barbacoa', 'helado'], 'estado': 'pendiente'}, '004': {'cliente': 'Miguel Torres', 'productos': ['hamburguesa vegetariana', 'tequeños', 'manzana'], 'estado': 'completado'}}\n"
     ]
    }
   ],
   "source": [
    "# Añadimos un nuevo producto al pedido \"002\"\n",
    "productos_extra = {\n",
    "    \"001\": \"batido de chocolate\",\n",
    "    \"002\": \"ensalada\",\n",
    "    \"003\": \"helado\",\n",
    "    \"004\": \"manzana\"\n",
    "}\n",
    "\n",
    "for id_pedido, producto in productos_extra.items():\n",
    "    if id_pedido in pedidos:\n",
    "        pedidos[id_pedido][\"productos\"].append(producto)\n",
    "\n",
    "print(pedidos)"
   ]
  },
  {
   "cell_type": "code",
   "execution_count": 23,
   "metadata": {},
   "outputs": [
    {
     "name": "stdout",
     "output_type": "stream",
     "text": [
      "{'001': {'cliente': 'Juan Pérez', 'productos': ['hamburguesa clásica', 'patatas fritas', 'batido de chocolate'], 'estado': 'completado'}, '002': {'cliente': 'Marta Torres', 'productos': ['hamburguesa con bacon', 'agua mineral', 'ensalada'], 'estado': 'pendiente'}, '004': {'cliente': 'Miguel Torres', 'productos': ['hamburguesa vegetariana', 'tequeños', 'manzana'], 'estado': 'completado'}}\n"
     ]
    }
   ],
   "source": [
    "# Solo queremos eliminar el pedido \"003\" (esto nos serviría para todos los que quisieramos)\n",
    "pedidos_a_eliminar = [\"003\"]\n",
    "\n",
    "for id_pedido in pedidos_a_eliminar:\n",
    "    if id_pedido in pedidos:\n",
    "        del pedidos[id_pedido]\n",
    "\n",
    "print(pedidos)"
   ]
  },
  {
   "cell_type": "code",
   "execution_count": 24,
   "metadata": {},
   "outputs": [
    {
     "name": "stdout",
     "output_type": "stream",
     "text": [
      "ID: 001, Cliente: Juan Pérez, Productos: hamburguesa clásica, patatas fritas, batido de chocolate, Estado: completado\n",
      "ID: 002, Cliente: Marta Torres, Productos: hamburguesa con bacon, agua mineral, ensalada, Estado: pendiente\n",
      "ID: 004, Cliente: Miguel Torres, Productos: hamburguesa vegetariana, tequeños, manzana, Estado: completado\n"
     ]
    }
   ],
   "source": [
    "# Mostrar el estado final de los pedidos\n",
    "for id_pedido, info in pedidos.items():\n",
    "    print(f\"ID: {id_pedido}, Cliente: {info['cliente']}, Productos: {', '.join(info['productos'])}, Estado: {info['estado']}\")"
   ]
  }
 ],
 "metadata": {
  "kernelspec": {
   "display_name": "ramp_up-env",
   "language": "python",
   "name": "python3"
  },
  "language_info": {
   "codemirror_mode": {
    "name": "ipython",
    "version": 3
   },
   "file_extension": ".py",
   "mimetype": "text/x-python",
   "name": "python",
   "nbconvert_exporter": "python",
   "pygments_lexer": "ipython3",
   "version": "3.11.9"
  }
 },
 "nbformat": 4,
 "nbformat_minor": 2
}
