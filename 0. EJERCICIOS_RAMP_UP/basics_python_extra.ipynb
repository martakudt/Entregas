{
 "cells": [
  {
   "cell_type": "markdown",
   "metadata": {},
   "source": [
    "### Ejercicio 1\n",
    "* Crea dos variables `str` con valores \"Hola\" y \"Mundo\"\n",
    "* Concatena ambas variables en una nueva variable\n",
    "* Imprime la nueva variable con un espacio entre ambas palabras\n",
    "* Comprueba la longitud del nuevo `str`\n",
    "\n"
   ]
  },
  {
   "cell_type": "code",
   "execution_count": 6,
   "metadata": {},
   "outputs": [
    {
     "name": "stdout",
     "output_type": "stream",
     "text": [
      "Hola Mundo\n"
     ]
    },
    {
     "data": {
      "text/plain": [
       "10"
      ]
     },
     "execution_count": 6,
     "metadata": {},
     "output_type": "execute_result"
    }
   ],
   "source": [
    "cadena_1 = \"Hola\"\n",
    "cadena_2 = \"Mundo\"\n",
    "\n",
    "conc = cadena_1 + \" \" + cadena_2\n",
    "print(conc)\n",
    "len(conc)"
   ]
  },
  {
   "cell_type": "markdown",
   "metadata": {},
   "source": [
    "\n",
    "### Ejercicio 2\n",
    "Escribe un programa que pida un número y muestre si es par o impar usando `input`.\n",
    "\n"
   ]
  },
  {
   "cell_type": "code",
   "execution_count": 5,
   "metadata": {},
   "outputs": [
    {
     "name": "stdout",
     "output_type": "stream",
     "text": [
      "El número es par\n"
     ]
    }
   ],
   "source": [
    "num = int(input(\"Escribe un número entero: \"))\n",
    "if num % 2 == 0:\n",
    "    print(\"El número es par\")\n",
    "else:\n",
    "    print(\"El número es impar\")"
   ]
  },
  {
   "cell_type": "markdown",
   "metadata": {},
   "source": [
    "\n",
    "### Ejercicio 3\n",
    "Crea un programa que reciba dos números por `input` y muestre su producto y su división (si el segundo número no es cero).\n",
    "\n"
   ]
  },
  {
   "cell_type": "code",
   "execution_count": 10,
   "metadata": {},
   "outputs": [
    {
     "name": "stdout",
     "output_type": "stream",
     "text": [
      "0\n"
     ]
    }
   ],
   "source": [
    "num_1 = int(input(\"Inserta un número: \"))\n",
    "num_2 = int(input(\"Inserta otro número: \"))\n",
    "\n",
    "producto = num_1*num_2\n",
    "print(producto)\n",
    "\n",
    "if num_2 != 0:\n",
    "    div = num_1/num_2\n",
    "    print(div)"
   ]
  },
  {
   "cell_type": "markdown",
   "metadata": {},
   "source": [
    "\n",
    "### Ejercicio 4\n",
    "Dada la lista `[2, 4, 6, 8, 10]`:\n",
    "1. Añade el número `12` al final de la lista\n",
    "2. Sustituye el valor `6` por `14`\n",
    "3. Imprime la lista ordenada de mayor a menor\n",
    "\n"
   ]
  },
  {
   "cell_type": "code",
   "execution_count": 22,
   "metadata": {},
   "outputs": [
    {
     "name": "stdout",
     "output_type": "stream",
     "text": [
      "[2, 4, 6, 8, 10, 12]\n",
      "[2, 4, 14, 8, 10, 12]\n",
      "[2, 4, 8, 10, 12, 14]\n"
     ]
    }
   ],
   "source": [
    "lista = [2,4,6,8,10]\n",
    "\n",
    "lista.append(12)\n",
    "print(lista)\n",
    "\n",
    "indice_6 = lista.index(6)\n",
    "lista[indice_6] = 14\n",
    "print(lista)\n",
    "\n",
    "lista.sort()\n",
    "print(lista)"
   ]
  },
  {
   "cell_type": "markdown",
   "metadata": {},
   "source": [
    "\n",
    "### Ejercicio 5\n",
    "Escribe un programa que reciba dos cadenas de texto por `input` y verifique si ambas son de la misma longitud.\n",
    "\n"
   ]
  },
  {
   "cell_type": "code",
   "execution_count": 24,
   "metadata": {},
   "outputs": [
    {
     "data": {
      "text/plain": [
       "True"
      ]
     },
     "execution_count": 24,
     "metadata": {},
     "output_type": "execute_result"
    }
   ],
   "source": [
    "chain_one = input(\"Escribe lo que quieras: \")\n",
    "chain_two = input(\"Vuelve a escribir lo que quieras: \")\n",
    "\n",
    "len(chain_one) == len(chain_two)"
   ]
  },
  {
   "cell_type": "markdown",
   "metadata": {},
   "source": [
    "\n",
    "### Ejercicio 6\n",
    "Calcula el área de un círculo a partir de un radio dado por `input`. Usa la fórmula `area = pi * radio^2`.\n",
    "\n"
   ]
  },
  {
   "cell_type": "code",
   "execution_count": 27,
   "metadata": {},
   "outputs": [
    {
     "name": "stdout",
     "output_type": "stream",
     "text": [
      "El círculo tiene un área de 2.01 metros cuadrados\n"
     ]
    }
   ],
   "source": [
    "radio = float(input(\"Dime el radio de tu círculo para que pueda calcular el área: \"))\n",
    "\n",
    "import math\n",
    "area = round(math.pi*radio**2,2)\n",
    "print(f\"El círculo tiene un área de {area} metros cuadrados\")"
   ]
  },
  {
   "cell_type": "markdown",
   "metadata": {},
   "source": [
    "\n",
    "### Ejercicio 7\n",
    "Dada la cadena `\"Python es genial\"`:\n",
    "1. Cuenta cuántas veces aparece la letra \"e\"\n",
    "2. Reemplaza \"genial\" por \"increíble\"\n",
    "3. Imprime el `str` al revés\n",
    "\n",
    "\n"
   ]
  },
  {
   "cell_type": "code",
   "execution_count": 35,
   "metadata": {},
   "outputs": [
    {
     "name": "stdout",
     "output_type": "stream",
     "text": [
      "2\n",
      "Python es increíble\n",
      "laineg se nohtyP\n"
     ]
    }
   ],
   "source": [
    "cadena = \"Python es genial\"\n",
    "\n",
    "cadena_e = cadena.count(\"e\")\n",
    "print(cadena_e)\n",
    "\n",
    "cadena_repl = cadena.replace(\"genial\",\"increíble\")\n",
    "print(cadena_repl)\n",
    "\n",
    "cadena_invertida = cadena[::-1]\n",
    "print(cadena_invertida)\n"
   ]
  },
  {
   "cell_type": "markdown",
   "metadata": {},
   "source": [
    "\n",
    "### Ejercicio 8\n",
    "Escribe un programa que pida la edad del usuario y diga si es mayor de edad (18 años o más).\n",
    "\n",
    "\n"
   ]
  },
  {
   "cell_type": "code",
   "execution_count": 37,
   "metadata": {},
   "outputs": [
    {
     "name": "stdout",
     "output_type": "stream",
     "text": [
      "Te queda poco\n"
     ]
    }
   ],
   "source": [
    "edad = int(input(\"Inserte la edad: \"))\n",
    "\n",
    "if edad < 0:\n",
    "    print(\"Aún no has nacido, me estás mintiendo\")\n",
    "\n",
    "elif 0 <= edad < 18:\n",
    "    print(\"Eres menor de edad\")\n",
    "\n",
    "elif 18 <= edad <= 100:\n",
    "    print(\"Eres mayor de edad\")\n",
    "\n",
    "else:\n",
    "    print(\"Te queda poco\")"
   ]
  },
  {
   "cell_type": "markdown",
   "metadata": {},
   "source": [
    "\n",
    "### Ejercicio 9\n",
    "Escribe un programa que solicite tres números y muestre el mayor de ellos.\n",
    "\n"
   ]
  },
  {
   "cell_type": "code",
   "execution_count": 39,
   "metadata": {},
   "outputs": [
    {
     "name": "stdout",
     "output_type": "stream",
     "text": [
      "1.4\n"
     ]
    }
   ],
   "source": [
    "n1 = float(input(\"Escribe el primer número: \"))\n",
    "n2 = float(input(\"Escribe el segundo número: \"))\n",
    "n3 = float(input(\"Escribe el tercer número: \"))\n",
    "\n",
    "print(max(n1,n2,n3))"
   ]
  },
  {
   "cell_type": "markdown",
   "metadata": {},
   "source": [
    "\n",
    "### Ejercicio 10\n",
    "Dada la lista `[1, 2, 3, 4, 5, 6, 7, 8, 9, 10]`:\n",
    "1. Imprime solo los elementos en posiciones pares\n",
    "2. Elimina el elemento `5` y añade `11` al final de la lista\n",
    "\n",
    "\n"
   ]
  },
  {
   "cell_type": "code",
   "execution_count": 44,
   "metadata": {},
   "outputs": [
    {
     "name": "stdout",
     "output_type": "stream",
     "text": [
      "[1, 3, 5, 7, 9]\n"
     ]
    }
   ],
   "source": [
    "lista_diez = [1,2,3,4,5,6,7,8,9,10]\n",
    "\n",
    "pares = lista_diez[0::2]\n",
    "print(pares)"
   ]
  },
  {
   "cell_type": "markdown",
   "metadata": {},
   "source": [
    "\n",
    "### Ejercicio 11\n",
    "Escribe un programa que pida un número y muestre su tabla de multiplicar del 1 al 10.\n",
    "\n"
   ]
  },
  {
   "cell_type": "code",
   "execution_count": 45,
   "metadata": {},
   "outputs": [
    {
     "name": "stdout",
     "output_type": "stream",
     "text": [
      "5\n",
      "10\n",
      "15\n",
      "20\n",
      "25\n",
      "30\n",
      "35\n",
      "40\n",
      "45\n",
      "50\n"
     ]
    }
   ],
   "source": [
    "numerito = int(input(\"Escribe un número: \"))\n",
    "for i in range(1,11):\n",
    "    print(numerito*i)\n"
   ]
  },
  {
   "cell_type": "markdown",
   "metadata": {},
   "source": [
    "\n",
    "### Ejercicio 12\n",
    "Dado un número ingresado por el usuario, verifica si es positivo, negativo o cero.\n",
    "\n",
    "\n"
   ]
  },
  {
   "cell_type": "code",
   "execution_count": 48,
   "metadata": {},
   "outputs": [
    {
     "name": "stdout",
     "output_type": "stream",
     "text": [
      "El número introducido es cero\n"
     ]
    }
   ],
   "source": [
    "numero = float(input(\"Introduce un número: \"))\n",
    "\n",
    "if numero < 0:\n",
    "    print(\"El número introducido es negativo\")\n",
    "elif numero == 0:\n",
    "    print(\"El número introducido es cero\")\n",
    "else:\n",
    "    print(\"El número introducido es positivo\")"
   ]
  },
  {
   "cell_type": "markdown",
   "metadata": {},
   "source": [
    "\n",
    "### Ejercicio 13\n",
    "Escribe un programa que convierta una temperatura de grados Celsius a Fahrenheit. La fórmula es: `F = C * 9/5 + 32`.\n",
    "\n"
   ]
  },
  {
   "cell_type": "code",
   "execution_count": 50,
   "metadata": {},
   "outputs": [
    {
     "name": "stdout",
     "output_type": "stream",
     "text": [
      "La temperatura en Fahrenheit es de 113.9 grados.\n"
     ]
    }
   ],
   "source": [
    "temperatura = float(input(\"Introduce la temperatura en grados Celsius: \"))\n",
    "\n",
    "temperatura_dos = temperatura*(9/5) + 32\n",
    "print(f\"La temperatura en Fahrenheit es de {temperatura_dos} grados.\")"
   ]
  },
  {
   "cell_type": "markdown",
   "metadata": {},
   "source": [
    "\n",
    "### Ejercicio 14\n",
    "Pide un número y muestra si es divisible entre 3 y 5 simultáneamente.\n",
    "\n"
   ]
  },
  {
   "cell_type": "code",
   "execution_count": 52,
   "metadata": {},
   "outputs": [
    {
     "name": "stdout",
     "output_type": "stream",
     "text": [
      "No es divisible entre 3 y 5.\n"
     ]
    }
   ],
   "source": [
    "nume = int(input(\"Introduce un número: \"))\n",
    "\n",
    "if (nume%5 == 0) and (nume%3 == 0):\n",
    "    print(\"El número es divisible entre 3 y 5.\")\n",
    "else:\n",
    "    print(\"No es divisible entre 3 y 5.\")"
   ]
  }
 ],
 "metadata": {
  "kernelspec": {
   "display_name": "opencv_environ",
   "language": "python",
   "name": "python3"
  },
  "language_info": {
   "codemirror_mode": {
    "name": "ipython",
    "version": 3
   },
   "file_extension": ".py",
   "mimetype": "text/x-python",
   "name": "python",
   "nbconvert_exporter": "python",
   "pygments_lexer": "ipython3",
   "version": "3.12.4"
  }
 },
 "nbformat": 4,
 "nbformat_minor": 2
}
