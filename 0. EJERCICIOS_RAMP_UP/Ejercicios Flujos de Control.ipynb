{
 "cells": [
  {
   "cell_type": "markdown",
   "metadata": {},
   "source": [
    "![imagen](./img/ejercicios.png)"
   ]
  },
  {
   "cell_type": "markdown",
   "metadata": {},
   "source": [
    "# Ejercicios Flujos de control"
   ]
  },
  {
   "cell_type": "markdown",
   "metadata": {},
   "source": [
    "## Ejercicio 1\n",
    "Declara una variable numérica que será una hora cualquiera del día. Implementa mediante sentencias `if/elif/else` la siguiente casuística:\n",
    "\n",
    "* Si es entre las 0 y las 8, print \"Durmiendo\"\n",
    "* Si es entre las 9 y las 18, print \"Trabajando\"\n",
    "* Si es entre las 19 y las 21, print \"Clase\"\n",
    "* Si es entre las 22 y las 24, print \"Descanso\"\n",
    "* En cualquier otro caso, print \"Transporte o error\""
   ]
  },
  {
   "cell_type": "code",
   "execution_count": 3,
   "metadata": {},
   "outputs": [
    {
     "name": "stdout",
     "output_type": "stream",
     "text": [
      "Durmiendo\n"
     ]
    }
   ],
   "source": [
    "hora = 3.15\n",
    "\n",
    "\n",
    "if (hora >= 0) and (hora <= 8):\n",
    "    print(\"Durmiendo\")\n",
    "\n",
    "elif (hora >= 9) and (hora <= 18):\n",
    "    print(\"Trabajando\")\n",
    "\n",
    "elif (hora >= 19) and (hora <= 21):\n",
    "    print(\"Clase\")\n",
    "\n",
    "elif (hora >= 22) and (hora <= 24):\n",
    "    print(\"Descanso\")\n",
    "\n",
    "else:\n",
    "    print(\"Transporte o error\")"
   ]
  },
  {
   "cell_type": "markdown",
   "metadata": {},
   "source": [
    "## Ejercicio 2\n",
    "En este ejercicio vamos a implementar un calculador de precios de casas muy sencillo. Tenemos las siguientes variables:\n",
    "\n",
    "> superficie\n",
    ">\n",
    "> distrito\n",
    "\n",
    "Implementa mediante sentencias `if/elif/else` la siguiente casuística:\n",
    "\n",
    "1. Si el distrito es \"Moncloa\" o \"Centro\", y además la superficie es superior a 100 metros cuadrados, el precio de la casa es de 1000\n",
    "2. Si el distrito es \"Salamanca\", y además la superficie de la casa es al menos de 150 metros, el precio de la casa es de 1500\n",
    "3. Si el distrito no es \"Retiro\" y la superficie está entre 60 y 80 metros, el precio es de 600\n",
    "4. En cualquier otro caso, el precio será de 0"
   ]
  },
  {
   "cell_type": "code",
   "execution_count": 6,
   "metadata": {},
   "outputs": [
    {
     "name": "stdout",
     "output_type": "stream",
     "text": [
      "El precio de la casa es de 600€\n"
     ]
    }
   ],
   "source": [
    "# Ponerlo con inputs\n",
    "distrito = \"Salamanca\"\n",
    "superficie = 70\n",
    "\n",
    "if ((distrito == \"Moncloa\") or (distrito == \"Centro\")) and (superficie > 100):\n",
    "    print(\"El precio de la casa es de 1000 €\")\n",
    "\n",
    "elif (distrito == \"Salamanca\") and (superficie >= 150):\n",
    "    print(\"El precio de la casa es de 1500 €\")\n",
    "\n",
    "elif (distrito != \"Retiro\") and (60 < superficie < 80):\n",
    "    print(\"El precio de la casa es de 600€\")\n",
    "\n",
    "else:\n",
    "    print(\"El precio es 0 €\")"
   ]
  },
  {
   "cell_type": "code",
   "execution_count": 15,
   "metadata": {},
   "outputs": [
    {
     "name": "stdout",
     "output_type": "stream",
     "text": [
      "El precio es 0 €\n"
     ]
    }
   ],
   "source": [
    "distrito = input(\"Introduce el distrito: \")\n",
    "\n",
    "while True:\n",
    "    superficie = input(\"Cuantos metros tiene: \")\n",
    "    if superficie.isdigit():\n",
    "        superficie = int(superficie)\n",
    "        if ((distrito.lower() == \"moncloa\") or (distrito.lower() == \"centro\")) and (superficie > 100):\n",
    "            print(\"El precio de la casa es de 1000 €\")\n",
    "\n",
    "        elif (distrito.lower() == \"salamanca\") and (superficie >= 150):\n",
    "            print(\"El precio de la casa es de 1500 €\")\n",
    "\n",
    "        elif (distrito.lower() != \"retiro\") and (60 < superficie < 80):\n",
    "            print(\"El precio de la casa es de 600€\")\n",
    "\n",
    "        else:\n",
    "            print(\"El precio es 0 €\")\n",
    "        break\n",
    "    else: \n",
    "        print(\"Introduce un valor correcto\")   \n",
    "        "
   ]
  },
  {
   "cell_type": "markdown",
   "metadata": {},
   "source": [
    "## Ejercicio 3\n",
    "En este ejercicio vamos a realizar un programa muy parecido. Para este caso queremos que se cumplan las siguientes condiciones:\n",
    "\n",
    "1. Primero se compruebe si el distrito es \"Retiro\". Si es asi, que imprima \"Distrito Retiro\", y si no, \"Otro distrito\"\n",
    "2. Si el distrito es \"Retiro\", comprueba si si la superficie es mayor de 100 metros cuadrados. En tal caso, que imprima un precio de 1000, y si no, de 500.\n",
    "\n",
    "Hay que usar `ifs` anidados"
   ]
  },
  {
   "cell_type": "code",
   "execution_count": 10,
   "metadata": {},
   "outputs": [
    {
     "name": "stdout",
     "output_type": "stream",
     "text": [
      "Distrito Retiro\n",
      "El precio es de 1000 €\n"
     ]
    }
   ],
   "source": [
    "distrito = \"Retiro\"\n",
    "superficie = 130\n",
    "\n",
    "if (distrito == \"Retiro\"):\n",
    "    print(\"Distrito Retiro\")\n",
    "    if (superficie > 100):\n",
    "        print(\"El precio es de 1000 €\")\n",
    "    else:\n",
    "        print(\"El precio es de 500€\")\n",
    "else:\n",
    "    print(\"Otro distrito\")"
   ]
  },
  {
   "cell_type": "code",
   "execution_count": 16,
   "metadata": {},
   "outputs": [
    {
     "name": "stdout",
     "output_type": "stream",
     "text": [
      "Distrito Retiro\n",
      "El precio es de 1000 €\n"
     ]
    }
   ],
   "source": [
    "distrito = input(\"Introduce el distrito: \")\n",
    "\n",
    "while True:\n",
    "    superficie = input(\"Cuantos metros tiene: \")\n",
    "    if superficie.isdigit():\n",
    "        superficie = int(superficie)\n",
    "        break\n",
    "    else: \n",
    "        print(\"Introduce un valor correcto\") \n",
    "\n",
    "if distrito.lower() == \"retiro\":\n",
    "    print(\"Distrito Retiro\")\n",
    "    if superficie > 100:\n",
    "        print(\"El precio es de 1000 €\")\n",
    "    else:\n",
    "        print(\"El precio es de 500€\")\n",
    "else:\n",
    "    print(\"Otro distrito\")"
   ]
  },
  {
   "cell_type": "markdown",
   "metadata": {},
   "source": [
    "## Ejercicio 4\n",
    "Escribe un programa que tenga dos variables: un numero, y una lista numérica. El programa debe recorrer la lista e imprimir por pantalla cada elemento de la lista multiplicado por el número"
   ]
  },
  {
   "cell_type": "code",
   "execution_count": 13,
   "metadata": {},
   "outputs": [
    {
     "name": "stdout",
     "output_type": "stream",
     "text": [
      "6\n",
      "12\n",
      "16\n",
      "20\n"
     ]
    }
   ],
   "source": [
    "lista = [3,6,8,10]\n",
    "num = 2\n",
    "\n",
    "for i in lista:\n",
    "    print(i*num)"
   ]
  },
  {
   "cell_type": "markdown",
   "metadata": {},
   "source": [
    "## Ejercicio 5\n",
    "Imprime por pantalla cada número del -10 al -1. En ese orden. Consulta [la documentación](https://www.w3schools.com/python/ref_func_range.asp) de `range`"
   ]
  },
  {
   "cell_type": "code",
   "execution_count": 16,
   "metadata": {},
   "outputs": [
    {
     "name": "stdout",
     "output_type": "stream",
     "text": [
      "-10\n",
      "-9\n",
      "-8\n",
      "-7\n",
      "-6\n",
      "-5\n",
      "-4\n",
      "-3\n",
      "-2\n",
      "-1\n"
     ]
    }
   ],
   "source": [
    "for i in range(-10,0):\n",
    "    print(i)\n"
   ]
  },
  {
   "cell_type": "code",
   "execution_count": 17,
   "metadata": {},
   "outputs": [
    {
     "data": {
      "text/plain": [
       "[-10, -9, -8, -7, -6, -5, -4, -3, -2, -1]"
      ]
     },
     "execution_count": 17,
     "metadata": {},
     "output_type": "execute_result"
    }
   ],
   "source": [
    "list(range(-10,0))"
   ]
  },
  {
   "cell_type": "markdown",
   "metadata": {},
   "source": [
    "## Ejercicio 6\n",
    "Dada la siguiente lista:\n",
    "\n",
    "> list1 = [12, 15, 32, 42, 55, 75, 122, 132, 150, 180, 200]\n",
    "\n",
    "Implementa un programa que los recorra e imprima por pantalla todos los divisibles por 5. Si nos encontramos con alguno que sea mayor que 150, detener el bucle."
   ]
  },
  {
   "cell_type": "code",
   "execution_count": 24,
   "metadata": {},
   "outputs": [
    {
     "name": "stdout",
     "output_type": "stream",
     "text": [
      "15\n",
      "55\n",
      "75\n",
      "150\n"
     ]
    }
   ],
   "source": [
    "list1 = [12,15,32,42,55,75,122,132,150,180,200]\n",
    "\n",
    "for i in list1:\n",
    "    if (i%5 == 0) & (i <= 150):\n",
    "        print(i)\n",
    "\n",
    "    "
   ]
  },
  {
   "cell_type": "code",
   "execution_count": 25,
   "metadata": {},
   "outputs": [
    {
     "name": "stdout",
     "output_type": "stream",
     "text": [
      "15\n",
      "55\n",
      "75\n",
      "150\n"
     ]
    }
   ],
   "source": [
    "list1 = [12,15,32,42,55,75,122,132,150,180,200]\n",
    "\n",
    "for i in list1:\n",
    "    if i > 150:\n",
    "        break\n",
    "    if i%5 == 0:\n",
    "        print(i)"
   ]
  },
  {
   "cell_type": "markdown",
   "metadata": {},
   "source": [
    "## Ejercicio 7\n",
    "Escribe un programa en Python que imprima por pantalla todos los números divisibles por 5 y divisibles por 7, dentro del rango de valores (150, 350)"
   ]
  },
  {
   "cell_type": "code",
   "execution_count": 19,
   "metadata": {},
   "outputs": [
    {
     "name": "stdout",
     "output_type": "stream",
     "text": [
      "150\n",
      "154\n",
      "155\n",
      "160\n",
      "161\n",
      "165\n",
      "168\n",
      "170\n",
      "175\n",
      "180\n",
      "182\n",
      "185\n",
      "189\n",
      "190\n",
      "195\n",
      "196\n",
      "200\n",
      "203\n",
      "205\n",
      "210\n",
      "215\n",
      "217\n",
      "220\n",
      "224\n",
      "225\n",
      "230\n",
      "231\n",
      "235\n",
      "238\n",
      "240\n",
      "245\n",
      "250\n",
      "252\n",
      "255\n",
      "259\n",
      "260\n",
      "265\n",
      "266\n",
      "270\n",
      "273\n",
      "275\n",
      "280\n",
      "285\n",
      "287\n",
      "290\n",
      "294\n",
      "295\n",
      "300\n",
      "301\n",
      "305\n",
      "308\n",
      "310\n",
      "315\n",
      "320\n",
      "322\n",
      "325\n",
      "329\n",
      "330\n",
      "335\n",
      "336\n",
      "340\n",
      "343\n",
      "345\n"
     ]
    }
   ],
   "source": [
    "for i in range(150,350):\n",
    "    if (i%5 == 0) or (i%7 == 0):\n",
    "        print(i)\n"
   ]
  },
  {
   "cell_type": "code",
   "execution_count": 28,
   "metadata": {},
   "outputs": [
    {
     "name": "stdout",
     "output_type": "stream",
     "text": [
      "175\n",
      "210\n",
      "245\n",
      "280\n",
      "315\n",
      "350\n"
     ]
    }
   ],
   "source": [
    "for i in range(150,351):\n",
    "    if (i%5 == 0) and (i%7 == 0):\n",
    "        print(i)"
   ]
  },
  {
   "cell_type": "markdown",
   "metadata": {},
   "source": [
    "## Ejercicio 8\n",
    "Implementa un programa que imprima por pantalla el siguiente patrón\n",
    "\n",
    "5 4 3 2 1 \n",
    "\n",
    "4 3 2 1 \n",
    "\n",
    "3 2 1 \n",
    "\n",
    "2 1 \n",
    "\n",
    "1\n",
    "\n",
    "NOTA: NO hay lineas en blanco entre una línea y otra."
   ]
  },
  {
   "cell_type": "code",
   "execution_count": 9,
   "metadata": {},
   "outputs": [
    {
     "name": "stdout",
     "output_type": "stream",
     "text": [
      "[6, 5, 4, 3, 2, 1]\n",
      "[5, 4, 3, 2, 1]\n",
      "[4, 3, 2, 1]\n",
      "[3, 2, 1]\n",
      "[2, 1]\n",
      "[1]\n"
     ]
    }
   ],
   "source": [
    "num = 6\n",
    "for i in range(num,0,-1):\n",
    "    print(list(range(i,0,-1)))"
   ]
  },
  {
   "cell_type": "code",
   "execution_count": 1,
   "metadata": {},
   "outputs": [
    {
     "name": "stdout",
     "output_type": "stream",
     "text": [
      "5 4 3 2 1 \n",
      "4 3 2 1 \n",
      "3 2 1 \n",
      "2 1 \n",
      "1 \n"
     ]
    }
   ],
   "source": [
    "for index in range(0,5,1):  \n",
    "    for numerin in range(5 - index,0,-1):\n",
    "        print(numerin, end = \" \")\n",
    "    print()"
   ]
  },
  {
   "cell_type": "code",
   "execution_count": 31,
   "metadata": {},
   "outputs": [
    {
     "name": "stdout",
     "output_type": "stream",
     "text": [
      "5 4 3 2 1\n",
      "4 3 2 1\n",
      "3 2 1\n",
      "2 1\n",
      "1\n"
     ]
    }
   ],
   "source": [
    "num = 5\n",
    "for i in range(num,0,-1):\n",
    "    print(str(list(range(i,0,-1))).replace(\"[\",\"\").replace(\"]\",\"\").replace(\",\",\"\"))"
   ]
  },
  {
   "cell_type": "markdown",
   "metadata": {},
   "source": [
    "## Ejercicio 9\n",
    "En este ejercicio vamos a crear un pequeño juego. Se trata de intentar adivinar un numero del 1 al 5. Tenemos dos intentos para acertar. Pasos a seguir:\n",
    "\n",
    "1. Ya viene implementado cómo obtener un número aleatorio del 1 al 5\n",
    "2. Tendrás que declarar en una variable el numero de vidas, y mediante un bucle while, comprobar que todavia quedan vidas.\n",
    "3. Dentro del bucle, obtener el valor del usuario y comprobar si es ese el numero a adivinar. Si no, actualizar las vidas.\n",
    "4. Si acertamos, salimos del bucle e imprimimos por pantalla \"You win\". Y si perdemos también salimos del bucle, pero en este caso imprimimos por pantalla \"You lose\".\n",
    "\n",
    "TIP: te puede resultar útil usar la sentencia `else` cuando acabe el bucle `while`. Lo que haya dentro de ese `else` se ejecutará una vez acabe la ejecución del `while`. Lo podrás usar para cuando pierdas."
   ]
  },
  {
   "cell_type": "code",
   "execution_count": 3,
   "metadata": {},
   "outputs": [
    {
     "name": "stdout",
     "output_type": "stream",
     "text": [
      "Has fallado te quedan 2 vidas.\n",
      "Has fallado te quedan 1 vidas.\n",
      "Eres muy bueno has acertado\n"
     ]
    }
   ],
   "source": [
    "import random\n",
    "numero = random.randint(1,5)\n",
    "vidas = 3 \n",
    "\n",
    "while True:\n",
    "    num_usuario = int(input(\"Dime un número del 1 al 5: \"))\n",
    "    if num_usuario == numero:\n",
    "        print(\"Eres muy bueno has acertado\")\n",
    "        break\n",
    "    else:\n",
    "        print(f\"Has fallado te quedan {vidas -1} vidas.\")\n",
    "        vidas = vidas -1\n",
    "        if vidas < 1:\n",
    "            print(\"Has perdido\")\n",
    "            break"
   ]
  }
 ],
 "metadata": {
  "kernelspec": {
   "display_name": "ramp_up-env",
   "language": "python",
   "name": "python3"
  },
  "language_info": {
   "codemirror_mode": {
    "name": "ipython",
    "version": 3
   },
   "file_extension": ".py",
   "mimetype": "text/x-python",
   "name": "python",
   "nbconvert_exporter": "python",
   "pygments_lexer": "ipython3",
   "version": "3.11.9"
  }
 },
 "nbformat": 4,
 "nbformat_minor": 4
}
