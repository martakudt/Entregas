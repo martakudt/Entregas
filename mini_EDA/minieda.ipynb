{
 "cells": [
  {
   "cell_type": "markdown",
   "metadata": {},
   "source": [
    "¡Atención, exploradores de datos y defensores del análisis aventurero! 🏴‍☠️✨ ¡El destino os llama! ⚓📊\n",
    "\n",
    "---\n",
    "\n",
    "### 🕵️‍♂️ **MINIPROYECTO EDA: \"¿Dónde me voy a vivir, amic?\"**\n",
    "\n",
    "**La misión**: Tu colega está a punto de mudarse a Valencia y, como es una persona sabia, ha pedido TU experta opinión sobre las mejores zonas donde vivir. Aquí viene el twist: su padre es el **jefe de Análisis de Datos de Google**. Vamos, que esto no es cualquier informe: ¡es una oportunidad de lucirse a lo grande!\n",
    "\n",
    "---\n",
    "\n",
    "### 🏛️ **DATOS: Vuestros aliados**\n",
    "Acceded a la base de datos del **Ayuntamiento de Valencia**. Podéis usar estos enlaces como punto de partida, pero sentíos libres de buscar nuevas fuentes:\n",
    "- [Datos Abiertos de Valencia](https://valencia.opendatasoft.com/explore/?disjunctive.features&disjunctive.modified&disjunctive.publisher&disjunctive.keyword&disjunctive.theme&disjunctive.language&sort=explore.popularity_score)\n",
    "- [Catálogo de Datos Abiertos](https://valencia.opendatasoft.com/explore/dataset/catalogo-de-datos-abiertos/table/)\n",
    "\n",
    "💡 ¡No tengáis miedo de buscar esos datos que hacen brillar vuestros análisis como una paella bien hecha!\n",
    "\n",
    "---\n",
    "\n",
    "### 🎯 **SCOPE: Toma las decisiones que molen más**\n",
    "¡Esto va de personalización y estilo, equipo! Aquí tenéis algunas ideas para inspiraros:\n",
    "\n",
    "1. 🏛️ **Arquitectura y arte**: ¿A tu colega le flipa la historia y los edificios antiguos? ¡Mapa de catedrales y edificios icónicos, ya!\n",
    "2. 🎒 **Educación top-notch**: Si es un papá/mamá preocupado, busca las zonas con las mejores escuelas. ¡Una tabla de ranking educativo con un toque de dramatismo visual no vendría mal!\n",
    "3. 🚇 **Transporte urbano**: Si es de esos que aman moverse, ¡análisis de las líneas de transporte y frecuencia! Bonus: ¿Qué tal un heatmap? 🤯\n",
    "\n",
    "---\n",
    "\n",
    "### 🎨 **OUTPUT:**\n",
    "Un NB Jupyter con gráficos y narrativas que hagan que el padre del colega se quede con la boca abierta (hasta donde lleguéis). Las tablas y visualizaciones están más que bienvenidas, y aquí no juzgamos: si tenéis que “tomar inspiración prestada” de un mapa guapo o una tabla ya hecha... ¡adelante! 😉\n",
    "\n",
    "---\n",
    "\n",
    "### 🦸‍♂️ **CONSEJOS DE UN MAESTRO DE DATOS:**\n",
    "- **Divide y vencerás**: Empezad con un análisis básico y si veis que vais bien de tiempo, añadid más capas de complejidad.\n",
    "- **Factor sorpresa**: Nada como algo inesperado. Un insight curioso, un gráfico llamativo... ¡Dejad fluir la creatividad!\n",
    "- **Show-off**: Haced algo que merezca ser enseñado. Visualizadlo con mimo, y recordad: un buen análisis es como un buen chiste, no necesita explicación.\n",
    "\n",
    "---\n",
    "\n",
    "### 🚀 **EQUIPOS DE MISIÓN:**\n",
    "> Porque los datos también se disfrutan mejor en buena compañía, ¿no? Aquí tenéis vuestras tribus analíticas:\n",
    "\n",
    "1. **Team Analytica**: Luis, Jose, Alex (Ojo, que dicen que tienen acceso a datos secretos... ¿o eran datos decrépitos? 🤔)\n",
    "2. **Dúo Dinámico**: Emi, Asier (Ellos prometen EDA sin dramas y con gráficas que enamoran 💘📈)\n",
    "3. **Triple Threat**: Paula, Marta, Ali (Las sospechosas habituales de las narrativas visuales 🔍🎨)\n",
    "4. **The Curious Band**: Sito, Ángel, Ordi (Ellos ven patrones donde otros solo ven caos 🔮🌀)\n",
    "\n",
    "\n",
    "¡A por todas, equipos! Los datos os esperan... ¡\n",
    "\n",
    "Y recordad: EDA es siempre fuente de sabidudia veddadEDA! 💻✨"
   ]
  }
 ],
 "metadata": {
  "language_info": {
   "name": "python"
  }
 },
 "nbformat": 4,
 "nbformat_minor": 2
}
