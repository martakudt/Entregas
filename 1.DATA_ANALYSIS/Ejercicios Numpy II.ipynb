{
 "cells": [
  {
   "cell_type": "markdown",
   "metadata": {},
   "source": [
    "![imagen](./img/ejercicios.png)"
   ]
  },
  {
   "cell_type": "markdown",
   "metadata": {},
   "source": [
    "## Ejercicio 1\n",
    "1. Crea un array que vaya del 0 al 9 y que se llame `my_array`\n",
    "2. Imprime por pantalla los elementos [9 7 5 3 1] en ese orden."
   ]
  },
  {
   "cell_type": "code",
   "execution_count": 1,
   "metadata": {},
   "outputs": [],
   "source": [
    "import numpy as np"
   ]
  },
  {
   "cell_type": "code",
   "execution_count": 3,
   "metadata": {},
   "outputs": [
    {
     "data": {
      "text/plain": [
       "array([0, 1, 2, 3, 4, 5, 6, 7, 8, 9])"
      ]
     },
     "execution_count": 3,
     "metadata": {},
     "output_type": "execute_result"
    }
   ],
   "source": [
    "my_array = np.arange(0,10)\n",
    "my_array"
   ]
  },
  {
   "cell_type": "code",
   "execution_count": 4,
   "metadata": {},
   "outputs": [
    {
     "data": {
      "text/plain": [
       "array([9, 7, 5, 3, 1])"
      ]
     },
     "execution_count": 4,
     "metadata": {},
     "output_type": "execute_result"
    }
   ],
   "source": [
    "my_array[1::2][::-1]"
   ]
  },
  {
   "cell_type": "markdown",
   "metadata": {},
   "source": [
    "## Ejercicio 2\n",
    "Imprime por pantalla la secuencia [8 7] del array `my_array`"
   ]
  },
  {
   "cell_type": "code",
   "execution_count": 5,
   "metadata": {},
   "outputs": [
    {
     "data": {
      "text/plain": [
       "array([8, 7])"
      ]
     },
     "execution_count": 5,
     "metadata": {},
     "output_type": "execute_result"
    }
   ],
   "source": [
    "my_array[8:6:-1]"
   ]
  },
  {
   "cell_type": "markdown",
   "metadata": {},
   "source": [
    "## Ejercicio 3\n",
    "Imprime por pantalla la secuencia [2 1 0] de `my_array`"
   ]
  },
  {
   "cell_type": "code",
   "execution_count": 6,
   "metadata": {},
   "outputs": [
    {
     "data": {
      "text/plain": [
       "array([2, 1, 0])"
      ]
     },
     "execution_count": 6,
     "metadata": {},
     "output_type": "execute_result"
    }
   ],
   "source": [
    "my_array[2::-1]"
   ]
  },
  {
   "cell_type": "markdown",
   "metadata": {},
   "source": [
    "## Ejercicio 4\n",
    "1. Crea una matriz de 4x5, con una secuencia del 1 al 20\n",
    "2. Invierte totalmente la matriz. Tanto las filas, como las columnas"
   ]
  },
  {
   "cell_type": "code",
   "execution_count": 8,
   "metadata": {},
   "outputs": [
    {
     "data": {
      "text/plain": [
       "array([[ 1,  2,  3,  4,  5],\n",
       "       [ 6,  7,  8,  9, 10],\n",
       "       [11, 12, 13, 14, 15],\n",
       "       [16, 17, 18, 19, 20]])"
      ]
     },
     "execution_count": 8,
     "metadata": {},
     "output_type": "execute_result"
    }
   ],
   "source": [
    "my_matrix = np.arange(1,21).reshape(4,5)\n",
    "my_matrix"
   ]
  },
  {
   "cell_type": "code",
   "execution_count": 10,
   "metadata": {},
   "outputs": [
    {
     "data": {
      "text/plain": [
       "array([[20, 19, 18, 17, 16],\n",
       "       [15, 14, 13, 12, 11],\n",
       "       [10,  9,  8,  7,  6],\n",
       "       [ 5,  4,  3,  2,  1]])"
      ]
     },
     "execution_count": 10,
     "metadata": {},
     "output_type": "execute_result"
    }
   ],
   "source": [
    "my_matrix[::-1,::-1]"
   ]
  },
  {
   "cell_type": "markdown",
   "metadata": {},
   "source": [
    "## Ejercicio 5\n",
    "\n",
    "Obtén el siguiente array, partiendo de la matriz del ejercicio 4\n",
    "```Python\n",
    "array([[1, 2],\n",
    "       [6, 7]])\n",
    "```"
   ]
  },
  {
   "cell_type": "code",
   "execution_count": 18,
   "metadata": {},
   "outputs": [
    {
     "data": {
      "text/plain": [
       "array([[1, 2],\n",
       "       [6, 7]])"
      ]
     },
     "execution_count": 18,
     "metadata": {},
     "output_type": "execute_result"
    }
   ],
   "source": [
    "my_matrix[0:2,0:2]"
   ]
  },
  {
   "cell_type": "markdown",
   "metadata": {},
   "source": [
    "## Ejercicio 6\n",
    "Obtén el siguiente array, partiendo de la matriz del ejercicio 4\n",
    "```Python\n",
    "array([[ 1,  3,  5],\n",
    "       [11, 13, 15]])\n",
    "```"
   ]
  },
  {
   "cell_type": "code",
   "execution_count": 21,
   "metadata": {},
   "outputs": [
    {
     "data": {
      "text/plain": [
       "array([[ 1,  3,  5],\n",
       "       [11, 13, 15]])"
      ]
     },
     "execution_count": 21,
     "metadata": {},
     "output_type": "execute_result"
    }
   ],
   "source": [
    "my_matrix[0:4:2, 0:5:2]"
   ]
  },
  {
   "cell_type": "markdown",
   "metadata": {},
   "source": [
    "## Ejercicio 7\n",
    "Obtén el siguiente array, partiendo de la matriz del ejercicio 4\n",
    "```Python\n",
    "array([[ 5,  4,  3,  2,  1],\n",
    "       [10,  9,  8,  7,  6],\n",
    "       [15, 14, 13, 12, 11]])\n",
    "```"
   ]
  },
  {
   "cell_type": "code",
   "execution_count": 23,
   "metadata": {},
   "outputs": [
    {
     "data": {
      "text/plain": [
       "array([[ 5,  4,  3,  2,  1],\n",
       "       [10,  9,  8,  7,  6],\n",
       "       [15, 14, 13, 12, 11]])"
      ]
     },
     "execution_count": 23,
     "metadata": {},
     "output_type": "execute_result"
    }
   ],
   "source": [
    "my_matrix[0:3, :][:,::-1]"
   ]
  },
  {
   "cell_type": "markdown",
   "metadata": {},
   "source": [
    "## Ejercicio 8\n",
    "Dado el siguiente array:\n",
    "\n",
    "```Python\n",
    "x = np.array([\"Loro\", \"Perro\", \"Gato\", \"Loro\", \"Perro\"])\n",
    "```\n",
    "\n",
    "Filtra el array para quedarte únicamente con los loros.\n",
    "\n",
    "Resuélvelo de dos maneras diferentes"
   ]
  },
  {
   "cell_type": "code",
   "execution_count": 24,
   "metadata": {},
   "outputs": [],
   "source": [
    "x = np.array([\"Loro\", \"Perro\", \"Gato\", \"Loro\", \"Perro\"])"
   ]
  },
  {
   "cell_type": "code",
   "execution_count": 28,
   "metadata": {},
   "outputs": [
    {
     "data": {
      "text/plain": [
       "array(['Loro', 'Loro'], dtype='<U5')"
      ]
     },
     "execution_count": 28,
     "metadata": {},
     "output_type": "execute_result"
    }
   ],
   "source": [
    "x[x == \"Loro\"]"
   ]
  },
  {
   "cell_type": "code",
   "execution_count": 27,
   "metadata": {},
   "outputs": [
    {
     "data": {
      "text/plain": [
       "array(['Loro', 'Loro'], dtype='<U5')"
      ]
     },
     "execution_count": 27,
     "metadata": {},
     "output_type": "execute_result"
    }
   ],
   "source": [
    "x[0::3]"
   ]
  },
  {
   "cell_type": "markdown",
   "metadata": {},
   "source": [
    "## Ejercicio 9\n",
    "Crea una secuencia de 20 elementos y transformala en un array compuesto por 2 matrices de 5x2"
   ]
  },
  {
   "cell_type": "code",
   "execution_count": 29,
   "metadata": {},
   "outputs": [
    {
     "data": {
      "text/plain": [
       "array([[[ 0,  1],\n",
       "        [ 2,  3],\n",
       "        [ 4,  5],\n",
       "        [ 6,  7],\n",
       "        [ 8,  9]],\n",
       "\n",
       "       [[10, 11],\n",
       "        [12, 13],\n",
       "        [14, 15],\n",
       "        [16, 17],\n",
       "        [18, 19]]])"
      ]
     },
     "execution_count": 29,
     "metadata": {},
     "output_type": "execute_result"
    }
   ],
   "source": [
    "np.arange(0,20).reshape(2,5,2)"
   ]
  },
  {
   "cell_type": "markdown",
   "metadata": {},
   "source": [
    "## Ejercicio 10\n",
    "Obtén el siguiente array, partiendo de la matriz del ejercicio 4\n",
    "```Python\n",
    "array([[20, 19, 18, 17, 16],\n",
    "       [15, 14, 13, 12, 11],\n",
    "       [10,  9,  8,  7,  6],\n",
    "       [ 5,  4,  3,  2,  1]])\n",
    "```"
   ]
  },
  {
   "cell_type": "code",
   "execution_count": 30,
   "metadata": {},
   "outputs": [
    {
     "data": {
      "text/plain": [
       "array([[20, 19, 18, 17, 16],\n",
       "       [15, 14, 13, 12, 11],\n",
       "       [10,  9,  8,  7,  6],\n",
       "       [ 5,  4,  3,  2,  1]])"
      ]
     },
     "execution_count": 30,
     "metadata": {},
     "output_type": "execute_result"
    }
   ],
   "source": [
    "my_matrix[::-1,::-1]"
   ]
  },
  {
   "cell_type": "markdown",
   "metadata": {},
   "source": [
    "## Ejercicio 11\n",
    "Crea un array de 10 0s. ¿Cuánto ocupa en memoria?\n",
    "\n",
    "Sustituye el 4to elemento por 1, e imprime el array por pantalla"
   ]
  },
  {
   "cell_type": "code",
   "execution_count": 32,
   "metadata": {},
   "outputs": [
    {
     "data": {
      "text/plain": [
       "array([0, 0, 0, 0, 0, 0, 0, 0, 0, 0])"
      ]
     },
     "execution_count": 32,
     "metadata": {},
     "output_type": "execute_result"
    }
   ],
   "source": [
    "array_once = np.full((10,),0)\n",
    "array_once"
   ]
  },
  {
   "cell_type": "code",
   "execution_count": 36,
   "metadata": {},
   "outputs": [
    {
     "data": {
      "text/plain": [
       "80"
      ]
     },
     "execution_count": 36,
     "metadata": {},
     "output_type": "execute_result"
    }
   ],
   "source": [
    "array_once.nbytes"
   ]
  },
  {
   "cell_type": "code",
   "execution_count": 35,
   "metadata": {},
   "outputs": [
    {
     "data": {
      "text/plain": [
       "array([0, 0, 0, 1, 0, 0, 0, 0, 0, 0])"
      ]
     },
     "execution_count": 35,
     "metadata": {},
     "output_type": "execute_result"
    }
   ],
   "source": [
    "array_once[3] = 1\n",
    "array_once"
   ]
  },
  {
   "cell_type": "markdown",
   "metadata": {},
   "source": [
    "## Ejercicio 12\n",
    "Crea un vector que vaya del 10 al 49\n",
    "\n",
    "Inviértelo"
   ]
  },
  {
   "cell_type": "code",
   "execution_count": 39,
   "metadata": {},
   "outputs": [
    {
     "data": {
      "text/plain": [
       "array([10, 11, 12, 13, 14, 15, 16, 17, 18, 19, 20, 21, 22, 23, 24, 25, 26,\n",
       "       27, 28, 29, 30, 31, 32, 33, 34, 35, 36, 37, 38, 39, 40, 41, 42, 43,\n",
       "       44, 45, 46, 47, 48, 49])"
      ]
     },
     "execution_count": 39,
     "metadata": {},
     "output_type": "execute_result"
    }
   ],
   "source": [
    "vector = np.arange(10,50)\n",
    "vector"
   ]
  },
  {
   "cell_type": "code",
   "execution_count": 40,
   "metadata": {},
   "outputs": [
    {
     "data": {
      "text/plain": [
       "array([49, 48, 47, 46, 45, 44, 43, 42, 41, 40, 39, 38, 37, 36, 35, 34, 33,\n",
       "       32, 31, 30, 29, 28, 27, 26, 25, 24, 23, 22, 21, 20, 19, 18, 17, 16,\n",
       "       15, 14, 13, 12, 11, 10])"
      ]
     },
     "execution_count": 40,
     "metadata": {},
     "output_type": "execute_result"
    }
   ],
   "source": [
    "vector[::-1]"
   ]
  },
  {
   "cell_type": "markdown",
   "metadata": {},
   "source": [
    "## Ejericio 13\n",
    "Encuentra los indices de los valores que no sean 0 del siguiente vector [1,2,0,0,4,0]. El output sería [0, 1, 4]. [Encuentra el método apropiado en la documentación.](https://numpy.org/doc/)"
   ]
  },
  {
   "cell_type": "code",
   "execution_count": 43,
   "metadata": {},
   "outputs": [
    {
     "data": {
      "text/plain": [
       "array([1, 2, 0, 0, 4, 0])"
      ]
     },
     "execution_count": 43,
     "metadata": {},
     "output_type": "execute_result"
    }
   ],
   "source": [
    "vector_trece = np.array([1,2,0,0,4,0])\n",
    "vector_trece"
   ]
  },
  {
   "cell_type": "code",
   "execution_count": 49,
   "metadata": {},
   "outputs": [
    {
     "data": {
      "text/plain": [
       "array([0, 1, 4])"
      ]
     },
     "execution_count": 49,
     "metadata": {},
     "output_type": "execute_result"
    }
   ],
   "source": [
    "# Ponemos el cero porque el resultado es una tupla y solo queremos los índices\n",
    "np.nonzero(vector_trece)[0]"
   ]
  },
  {
   "cell_type": "code",
   "execution_count": 50,
   "metadata": {},
   "outputs": [
    {
     "name": "stdout",
     "output_type": "stream",
     "text": [
      "\u001b[1;31mSignature:\u001b[0m       \u001b[0mnp\u001b[0m\u001b[1;33m.\u001b[0m\u001b[0mnonzero\u001b[0m\u001b[1;33m(\u001b[0m\u001b[0ma\u001b[0m\u001b[1;33m)\u001b[0m\u001b[1;33m\u001b[0m\u001b[1;33m\u001b[0m\u001b[0m\n",
      "\u001b[1;31mCall signature:\u001b[0m  \u001b[0mnp\u001b[0m\u001b[1;33m.\u001b[0m\u001b[0mnonzero\u001b[0m\u001b[1;33m(\u001b[0m\u001b[1;33m*\u001b[0m\u001b[0margs\u001b[0m\u001b[1;33m,\u001b[0m \u001b[1;33m**\u001b[0m\u001b[0mkwargs\u001b[0m\u001b[1;33m)\u001b[0m\u001b[1;33m\u001b[0m\u001b[1;33m\u001b[0m\u001b[0m\n",
      "\u001b[1;31mType:\u001b[0m            _ArrayFunctionDispatcher\n",
      "\u001b[1;31mString form:\u001b[0m     <function nonzero at 0x000002C7570EF490>\n",
      "\u001b[1;31mFile:\u001b[0m            c:\\users\\marta\\miniconda3\\envs\\data_analysis.env\\lib\\site-packages\\numpy\\_core\\fromnumeric.py\n",
      "\u001b[1;31mSource:\u001b[0m         \n",
      "\u001b[1;33m@\u001b[0m\u001b[0marray_function_dispatch\u001b[0m\u001b[1;33m(\u001b[0m\u001b[0m_nonzero_dispatcher\u001b[0m\u001b[1;33m)\u001b[0m\u001b[1;33m\n",
      "\u001b[0m\u001b[1;32mdef\u001b[0m \u001b[0mnonzero\u001b[0m\u001b[1;33m(\u001b[0m\u001b[0ma\u001b[0m\u001b[1;33m)\u001b[0m\u001b[1;33m:\u001b[0m\u001b[1;33m\n",
      "\u001b[0m    \u001b[1;34m\"\"\"\n",
      "    Return the indices of the elements that are non-zero.\n",
      "\n",
      "    Returns a tuple of arrays, one for each dimension of `a`,\n",
      "    containing the indices of the non-zero elements in that\n",
      "    dimension. The values in `a` are always tested and returned in\n",
      "    row-major, C-style order.\n",
      "\n",
      "    To group the indices by element, rather than dimension, use `argwhere`,\n",
      "    which returns a row for each non-zero element.\n",
      "\n",
      "    .. note::\n",
      "\n",
      "       When called on a zero-d array or scalar, ``nonzero(a)`` is treated\n",
      "       as ``nonzero(atleast_1d(a))``.\n",
      "\n",
      "       .. deprecated:: 1.17.0\n",
      "\n",
      "          Use `atleast_1d` explicitly if this behavior is deliberate.\n",
      "\n",
      "    Parameters\n",
      "    ----------\n",
      "    a : array_like\n",
      "        Input array.\n",
      "\n",
      "    Returns\n",
      "    -------\n",
      "    tuple_of_arrays : tuple\n",
      "        Indices of elements that are non-zero.\n",
      "\n",
      "    See Also\n",
      "    --------\n",
      "    flatnonzero :\n",
      "        Return indices that are non-zero in the flattened version of the input\n",
      "        array.\n",
      "    ndarray.nonzero :\n",
      "        Equivalent ndarray method.\n",
      "    count_nonzero :\n",
      "        Counts the number of non-zero elements in the input array.\n",
      "\n",
      "    Notes\n",
      "    -----\n",
      "    While the nonzero values can be obtained with ``a[nonzero(a)]``, it is\n",
      "    recommended to use ``x[x.astype(bool)]`` or ``x[x != 0]`` instead, which\n",
      "    will correctly handle 0-d arrays.\n",
      "\n",
      "    Examples\n",
      "    --------\n",
      "    >>> import numpy as np\n",
      "    >>> x = np.array([[3, 0, 0], [0, 4, 0], [5, 6, 0]])\n",
      "    >>> x\n",
      "    array([[3, 0, 0],\n",
      "           [0, 4, 0],\n",
      "           [5, 6, 0]])\n",
      "    >>> np.nonzero(x)\n",
      "    (array([0, 1, 2, 2]), array([0, 1, 0, 1]))\n",
      "\n",
      "    >>> x[np.nonzero(x)]\n",
      "    array([3, 4, 5, 6])\n",
      "    >>> np.transpose(np.nonzero(x))\n",
      "    array([[0, 0],\n",
      "           [1, 1],\n",
      "           [2, 0],\n",
      "           [2, 1]])\n",
      "\n",
      "    A common use for ``nonzero`` is to find the indices of an array, where\n",
      "    a condition is True.  Given an array `a`, the condition `a` > 3 is a\n",
      "    boolean array and since False is interpreted as 0, np.nonzero(a > 3)\n",
      "    yields the indices of the `a` where the condition is true.\n",
      "\n",
      "    >>> a = np.array([[1, 2, 3], [4, 5, 6], [7, 8, 9]])\n",
      "    >>> a > 3\n",
      "    array([[False, False, False],\n",
      "           [ True,  True,  True],\n",
      "           [ True,  True,  True]])\n",
      "    >>> np.nonzero(a > 3)\n",
      "    (array([1, 1, 1, 2, 2, 2]), array([0, 1, 2, 0, 1, 2]))\n",
      "\n",
      "    Using this result to index `a` is equivalent to using the mask directly:\n",
      "\n",
      "    >>> a[np.nonzero(a > 3)]\n",
      "    array([4, 5, 6, 7, 8, 9])\n",
      "    >>> a[a > 3]  # prefer this spelling\n",
      "    array([4, 5, 6, 7, 8, 9])\n",
      "\n",
      "    ``nonzero`` can also be called as a method of the array.\n",
      "\n",
      "    >>> (a > 3).nonzero()\n",
      "    (array([1, 1, 1, 2, 2, 2]), array([0, 1, 2, 0, 1, 2]))\n",
      "\n",
      "    \"\"\"\u001b[0m\u001b[1;33m\n",
      "\u001b[0m    \u001b[1;32mreturn\u001b[0m \u001b[0m_wrapfunc\u001b[0m\u001b[1;33m(\u001b[0m\u001b[0ma\u001b[0m\u001b[1;33m,\u001b[0m \u001b[1;34m'nonzero'\u001b[0m\u001b[1;33m)\u001b[0m\u001b[1;33m\u001b[0m\u001b[1;33m\u001b[0m\u001b[0m\n",
      "\u001b[1;31mClass docstring:\u001b[0m\n",
      "Class to wrap functions with checks for __array_function__ overrides.\n",
      "\n",
      "All arguments are required, and can only be passed by position.\n",
      "\n",
      "Parameters\n",
      "----------\n",
      "dispatcher : function or None\n",
      "    The dispatcher function that returns a single sequence-like object\n",
      "    of all arguments relevant.  It must have the same signature (except\n",
      "    the default values) as the actual implementation.\n",
      "    If ``None``, this is a ``like=`` dispatcher and the\n",
      "    ``_ArrayFunctionDispatcher`` must be called with ``like`` as the\n",
      "    first (additional and positional) argument.\n",
      "implementation : function\n",
      "    Function that implements the operation on NumPy arrays without\n",
      "    overrides.  Arguments passed calling the ``_ArrayFunctionDispatcher``\n",
      "    will be forwarded to this (and the ``dispatcher``) as if using\n",
      "    ``*args, **kwargs``.\n",
      "\n",
      "Attributes\n",
      "----------\n",
      "_implementation : function\n",
      "    The original implementation passed in."
     ]
    }
   ],
   "source": [
    "np.nonzero??"
   ]
  },
  {
   "cell_type": "markdown",
   "metadata": {},
   "source": [
    "## Ejercicio 14\n",
    "Crea una matriz de numeros aleatorios 10x10. Encuentra los valores mínimo y máximo."
   ]
  },
  {
   "cell_type": "code",
   "execution_count": 52,
   "metadata": {},
   "outputs": [
    {
     "data": {
      "text/plain": [
       "array([[2.06879758e-01, 2.50192948e-02, 2.17535143e-02, 1.26294575e-02,\n",
       "        9.57757426e-01, 9.81186405e-01, 9.32847357e-04, 3.72443091e-01,\n",
       "        8.41261519e-01, 5.93543450e-01],\n",
       "       [7.86624028e-01, 8.49757617e-01, 4.70420747e-01, 5.13613039e-01,\n",
       "        6.62502707e-01, 3.18948251e-01, 3.45795365e-02, 9.06349217e-01,\n",
       "        2.11250287e-02, 8.30223741e-01],\n",
       "       [8.79203343e-01, 9.01359657e-01, 3.34415107e-01, 1.73362826e-01,\n",
       "        6.91672415e-01, 9.23972084e-01, 7.84336167e-01, 2.61903560e-01,\n",
       "        4.97163029e-01, 1.66102974e-01],\n",
       "       [9.57921638e-01, 1.59611792e-01, 1.87439052e-01, 7.63278691e-01,\n",
       "        9.85611603e-02, 3.30474354e-01, 5.96446913e-01, 3.99397240e-01,\n",
       "        2.71237173e-01, 5.63324867e-01],\n",
       "       [9.23107157e-01, 5.93144177e-01, 5.17901149e-01, 3.99355712e-01,\n",
       "        6.59498173e-01, 5.48437467e-01, 9.37862124e-01, 1.47912837e-01,\n",
       "        9.80333612e-01, 8.53737539e-01],\n",
       "       [9.28923345e-02, 3.07558086e-01, 9.95716939e-01, 9.06539143e-01,\n",
       "        3.57665159e-01, 5.78524695e-02, 7.84296057e-01, 3.84209918e-01,\n",
       "        1.17385395e-01, 4.51001468e-01],\n",
       "       [1.53233150e-01, 4.39189663e-01, 7.79062870e-02, 9.77539584e-01,\n",
       "        4.48203055e-01, 5.88047492e-01, 6.48517443e-01, 5.44795624e-01,\n",
       "        4.10120652e-01, 8.02862071e-01],\n",
       "       [1.46852602e-01, 4.01499645e-01, 2.26334458e-02, 9.35077350e-01,\n",
       "        5.75571499e-02, 9.85234351e-01, 8.38294569e-01, 6.95015528e-01,\n",
       "        1.21056428e-01, 5.76866098e-01],\n",
       "       [9.63724105e-01, 7.77902349e-01, 7.72672698e-01, 3.06094787e-01,\n",
       "        6.78833021e-01, 1.81065274e-01, 9.18794757e-01, 6.06795532e-01,\n",
       "        2.81519094e-01, 4.41215080e-01],\n",
       "       [5.03838234e-01, 5.49110224e-01, 2.76139555e-01, 7.82585466e-01,\n",
       "        2.24825035e-01, 9.20563744e-01, 1.93964886e-01, 3.94466859e-01,\n",
       "        6.73950078e-01, 6.09283141e-01]])"
      ]
     },
     "execution_count": 52,
     "metadata": {},
     "output_type": "execute_result"
    }
   ],
   "source": [
    "my_matrix_catorce = np.random.rand(10,10)\n",
    "my_matrix_catorce"
   ]
  },
  {
   "cell_type": "code",
   "execution_count": 53,
   "metadata": {},
   "outputs": [
    {
     "data": {
      "text/plain": [
       "np.float64(0.9957169393210571)"
      ]
     },
     "execution_count": 53,
     "metadata": {},
     "output_type": "execute_result"
    }
   ],
   "source": [
    "np.max(my_matrix_catorce)"
   ]
  },
  {
   "cell_type": "code",
   "execution_count": 54,
   "metadata": {},
   "outputs": [
    {
     "data": {
      "text/plain": [
       "np.float64(0.0009328473574669038)"
      ]
     },
     "execution_count": 54,
     "metadata": {},
     "output_type": "execute_result"
    }
   ],
   "source": [
    "np.min(my_matrix_catorce)"
   ]
  },
  {
   "cell_type": "markdown",
   "metadata": {},
   "source": [
    "## Ejercicio 15\n",
    "Crea un vector aleatorio de tamaño 30 y calcula su media"
   ]
  },
  {
   "cell_type": "code",
   "execution_count": 56,
   "metadata": {},
   "outputs": [
    {
     "data": {
      "text/plain": [
       "array([28, 27, 52, 16, 76, 80, 46, 70, 27, 13, 36, 48, 10, 27, 53, 51, 37,\n",
       "       17, 12, 87, 40, 73, 63, 97,  1, 42, 61, 18, 55, 64], dtype=int32)"
      ]
     },
     "execution_count": 56,
     "metadata": {},
     "output_type": "execute_result"
    }
   ],
   "source": [
    "vector_quince = np.random.randint(0,100,(30,))\n",
    "vector_quince"
   ]
  },
  {
   "cell_type": "code",
   "execution_count": 57,
   "metadata": {},
   "outputs": [
    {
     "data": {
      "text/plain": [
       "np.float64(44.233333333333334)"
      ]
     },
     "execution_count": 57,
     "metadata": {},
     "output_type": "execute_result"
    }
   ],
   "source": [
    "np.mean(vector_quince)"
   ]
  },
  {
   "cell_type": "markdown",
   "metadata": {},
   "source": [
    "## Ejercicio 16\n",
    "Crea un array cuadrado de 2D, con las dimensiones que quiras, pero que todo el borde esté compuesto por 1s, y el interior por 0s"
   ]
  },
  {
   "cell_type": "code",
   "execution_count": 77,
   "metadata": {},
   "outputs": [
    {
     "data": {
      "text/plain": [
       "array([[1, 1, 1, 1, 1, 1, 1, 1, 1, 1],\n",
       "       [1, 0, 0, 0, 0, 0, 0, 0, 0, 1],\n",
       "       [1, 0, 0, 0, 0, 0, 0, 0, 0, 1],\n",
       "       [1, 0, 0, 0, 0, 0, 0, 0, 0, 1],\n",
       "       [1, 0, 0, 0, 0, 0, 0, 0, 0, 1],\n",
       "       [1, 0, 0, 0, 0, 0, 0, 0, 0, 1],\n",
       "       [1, 0, 0, 0, 0, 0, 0, 0, 0, 1],\n",
       "       [1, 0, 0, 0, 0, 0, 0, 0, 0, 1],\n",
       "       [1, 0, 0, 0, 0, 0, 0, 0, 0, 1],\n",
       "       [1, 1, 1, 1, 1, 1, 1, 1, 1, 1]])"
      ]
     },
     "execution_count": 77,
     "metadata": {},
     "output_type": "execute_result"
    }
   ],
   "source": [
    "my_array16 = np.full((10,10),0)\n",
    "my_array16[0] = 1\n",
    "my_array16[-1] = 1\n",
    "my_array16[:,0] = 1\n",
    "my_array16[:,-1] = 1\n",
    "my_array16\n",
    "my_array16"
   ]
  },
  {
   "cell_type": "markdown",
   "metadata": {},
   "source": [
    "## Ejercicio 17\n",
    "Crea una mtriz de 8x8, y rellénala con 0s y 1s. Tienes que replicar:\n",
    "```Python\n",
    "[[0 1 0 1 0 1 0 1]\n",
    " [1 0 1 0 1 0 1 0]\n",
    " [0 1 0 1 0 1 0 1]\n",
    " [1 0 1 0 1 0 1 0]\n",
    " [0 1 0 1 0 1 0 1]\n",
    " [1 0 1 0 1 0 1 0]\n",
    " [0 1 0 1 0 1 0 1]\n",
    " [1 0 1 0 1 0 1 0]]\n",
    "```"
   ]
  },
  {
   "cell_type": "code",
   "execution_count": 84,
   "metadata": {},
   "outputs": [
    {
     "data": {
      "text/plain": [
       "array([[0, 1, 0, 1, 0, 1, 0, 1],\n",
       "       [1, 0, 1, 0, 1, 0, 1, 0],\n",
       "       [0, 1, 0, 1, 0, 1, 0, 1],\n",
       "       [1, 0, 1, 0, 1, 0, 1, 0],\n",
       "       [0, 1, 0, 1, 0, 1, 0, 1],\n",
       "       [1, 0, 1, 0, 1, 0, 1, 0],\n",
       "       [0, 1, 0, 1, 0, 1, 0, 1],\n",
       "       [1, 0, 1, 0, 1, 0, 1, 0]])"
      ]
     },
     "execution_count": 84,
     "metadata": {},
     "output_type": "execute_result"
    }
   ],
   "source": [
    "my_array17 = np.full((8,8),0)\n",
    "my_array17[0::2,1::2]=1\n",
    "my_array17[1::2,0::2] = 1\n",
    "my_array17"
   ]
  },
  {
   "cell_type": "markdown",
   "metadata": {},
   "source": [
    "## Ejercicio 18\n",
    "Replica la matriz del apartado anterior, pero en este caso usando [la función `tile`](https://numpy.org/doc/stable/reference/generated/numpy.tile.html)"
   ]
  },
  {
   "cell_type": "code",
   "execution_count": 93,
   "metadata": {},
   "outputs": [
    {
     "data": {
      "text/plain": [
       "array([[0, 1, 0, 1, 0, 1, 0, 1],\n",
       "       [1, 0, 1, 0, 1, 0, 1, 0],\n",
       "       [0, 1, 0, 1, 0, 1, 0, 1],\n",
       "       [1, 0, 1, 0, 1, 0, 1, 0],\n",
       "       [0, 1, 0, 1, 0, 1, 0, 1],\n",
       "       [1, 0, 1, 0, 1, 0, 1, 0],\n",
       "       [0, 1, 0, 1, 0, 1, 0, 1],\n",
       "       [1, 0, 1, 0, 1, 0, 1, 0]])"
      ]
     },
     "execution_count": 93,
     "metadata": {},
     "output_type": "execute_result"
    }
   ],
   "source": [
    "array18 = np.array([[0,1,0,1,0,1,0,1],[1,0,1,0,1,0,1,0]])\n",
    "np.tile(array18,(4,1))"
   ]
  },
  {
   "cell_type": "code",
   "execution_count": 85,
   "metadata": {},
   "outputs": [
    {
     "name": "stdout",
     "output_type": "stream",
     "text": [
      "\u001b[1;31mSignature:\u001b[0m       \u001b[0mnp\u001b[0m\u001b[1;33m.\u001b[0m\u001b[0mtile\u001b[0m\u001b[1;33m(\u001b[0m\u001b[0mA\u001b[0m\u001b[1;33m,\u001b[0m \u001b[0mreps\u001b[0m\u001b[1;33m)\u001b[0m\u001b[1;33m\u001b[0m\u001b[1;33m\u001b[0m\u001b[0m\n",
      "\u001b[1;31mCall signature:\u001b[0m  \u001b[0mnp\u001b[0m\u001b[1;33m.\u001b[0m\u001b[0mtile\u001b[0m\u001b[1;33m(\u001b[0m\u001b[1;33m*\u001b[0m\u001b[0margs\u001b[0m\u001b[1;33m,\u001b[0m \u001b[1;33m**\u001b[0m\u001b[0mkwargs\u001b[0m\u001b[1;33m)\u001b[0m\u001b[1;33m\u001b[0m\u001b[1;33m\u001b[0m\u001b[0m\n",
      "\u001b[1;31mType:\u001b[0m            _ArrayFunctionDispatcher\n",
      "\u001b[1;31mString form:\u001b[0m     <function tile at 0x000002C75727DFC0>\n",
      "\u001b[1;31mFile:\u001b[0m            c:\\users\\marta\\miniconda3\\envs\\data_analysis.env\\lib\\site-packages\\numpy\\lib\\_shape_base_impl.py\n",
      "\u001b[1;31mSource:\u001b[0m         \n",
      "\u001b[1;33m@\u001b[0m\u001b[0marray_function_dispatch\u001b[0m\u001b[1;33m(\u001b[0m\u001b[0m_tile_dispatcher\u001b[0m\u001b[1;33m)\u001b[0m\u001b[1;33m\n",
      "\u001b[0m\u001b[1;32mdef\u001b[0m \u001b[0mtile\u001b[0m\u001b[1;33m(\u001b[0m\u001b[0mA\u001b[0m\u001b[1;33m,\u001b[0m \u001b[0mreps\u001b[0m\u001b[1;33m)\u001b[0m\u001b[1;33m:\u001b[0m\u001b[1;33m\n",
      "\u001b[0m    \u001b[1;34m\"\"\"\n",
      "    Construct an array by repeating A the number of times given by reps.\n",
      "\n",
      "    If `reps` has length ``d``, the result will have dimension of\n",
      "    ``max(d, A.ndim)``.\n",
      "\n",
      "    If ``A.ndim < d``, `A` is promoted to be d-dimensional by prepending new\n",
      "    axes. So a shape (3,) array is promoted to (1, 3) for 2-D replication,\n",
      "    or shape (1, 1, 3) for 3-D replication. If this is not the desired\n",
      "    behavior, promote `A` to d-dimensions manually before calling this\n",
      "    function.\n",
      "\n",
      "    If ``A.ndim > d``, `reps` is promoted to `A`.ndim by prepending 1's to it.\n",
      "    Thus for an `A` of shape (2, 3, 4, 5), a `reps` of (2, 2) is treated as\n",
      "    (1, 1, 2, 2).\n",
      "\n",
      "    Note : Although tile may be used for broadcasting, it is strongly\n",
      "    recommended to use numpy's broadcasting operations and functions.\n",
      "\n",
      "    Parameters\n",
      "    ----------\n",
      "    A : array_like\n",
      "        The input array.\n",
      "    reps : array_like\n",
      "        The number of repetitions of `A` along each axis.\n",
      "\n",
      "    Returns\n",
      "    -------\n",
      "    c : ndarray\n",
      "        The tiled output array.\n",
      "\n",
      "    See Also\n",
      "    --------\n",
      "    repeat : Repeat elements of an array.\n",
      "    broadcast_to : Broadcast an array to a new shape\n",
      "\n",
      "    Examples\n",
      "    --------\n",
      "    >>> import numpy as np\n",
      "    >>> a = np.array([0, 1, 2])\n",
      "    >>> np.tile(a, 2)\n",
      "    array([0, 1, 2, 0, 1, 2])\n",
      "    >>> np.tile(a, (2, 2))\n",
      "    array([[0, 1, 2, 0, 1, 2],\n",
      "           [0, 1, 2, 0, 1, 2]])\n",
      "    >>> np.tile(a, (2, 1, 2))\n",
      "    array([[[0, 1, 2, 0, 1, 2]],\n",
      "           [[0, 1, 2, 0, 1, 2]]])\n",
      "\n",
      "    >>> b = np.array([[1, 2], [3, 4]])\n",
      "    >>> np.tile(b, 2)\n",
      "    array([[1, 2, 1, 2],\n",
      "           [3, 4, 3, 4]])\n",
      "    >>> np.tile(b, (2, 1))\n",
      "    array([[1, 2],\n",
      "           [3, 4],\n",
      "           [1, 2],\n",
      "           [3, 4]])\n",
      "\n",
      "    >>> c = np.array([1,2,3,4])\n",
      "    >>> np.tile(c,(4,1))\n",
      "    array([[1, 2, 3, 4],\n",
      "           [1, 2, 3, 4],\n",
      "           [1, 2, 3, 4],\n",
      "           [1, 2, 3, 4]])\n",
      "    \"\"\"\u001b[0m\u001b[1;33m\n",
      "\u001b[0m    \u001b[1;32mtry\u001b[0m\u001b[1;33m:\u001b[0m\u001b[1;33m\n",
      "\u001b[0m        \u001b[0mtup\u001b[0m \u001b[1;33m=\u001b[0m \u001b[0mtuple\u001b[0m\u001b[1;33m(\u001b[0m\u001b[0mreps\u001b[0m\u001b[1;33m)\u001b[0m\u001b[1;33m\n",
      "\u001b[0m    \u001b[1;32mexcept\u001b[0m \u001b[0mTypeError\u001b[0m\u001b[1;33m:\u001b[0m\u001b[1;33m\n",
      "\u001b[0m        \u001b[0mtup\u001b[0m \u001b[1;33m=\u001b[0m \u001b[1;33m(\u001b[0m\u001b[0mreps\u001b[0m\u001b[1;33m,\u001b[0m\u001b[1;33m)\u001b[0m\u001b[1;33m\n",
      "\u001b[0m    \u001b[0md\u001b[0m \u001b[1;33m=\u001b[0m \u001b[0mlen\u001b[0m\u001b[1;33m(\u001b[0m\u001b[0mtup\u001b[0m\u001b[1;33m)\u001b[0m\u001b[1;33m\n",
      "\u001b[0m    \u001b[1;32mif\u001b[0m \u001b[0mall\u001b[0m\u001b[1;33m(\u001b[0m\u001b[0mx\u001b[0m \u001b[1;33m==\u001b[0m \u001b[1;36m1\u001b[0m \u001b[1;32mfor\u001b[0m \u001b[0mx\u001b[0m \u001b[1;32min\u001b[0m \u001b[0mtup\u001b[0m\u001b[1;33m)\u001b[0m \u001b[1;32mand\u001b[0m \u001b[0misinstance\u001b[0m\u001b[1;33m(\u001b[0m\u001b[0mA\u001b[0m\u001b[1;33m,\u001b[0m \u001b[0m_nx\u001b[0m\u001b[1;33m.\u001b[0m\u001b[0mndarray\u001b[0m\u001b[1;33m)\u001b[0m\u001b[1;33m:\u001b[0m\u001b[1;33m\n",
      "\u001b[0m        \u001b[1;31m# Fixes the problem that the function does not make a copy if A is a\u001b[0m\u001b[1;33m\n",
      "\u001b[0m        \u001b[1;31m# numpy array and the repetitions are 1 in all dimensions\u001b[0m\u001b[1;33m\n",
      "\u001b[0m        \u001b[1;32mreturn\u001b[0m \u001b[0m_nx\u001b[0m\u001b[1;33m.\u001b[0m\u001b[0marray\u001b[0m\u001b[1;33m(\u001b[0m\u001b[0mA\u001b[0m\u001b[1;33m,\u001b[0m \u001b[0mcopy\u001b[0m\u001b[1;33m=\u001b[0m\u001b[1;32mTrue\u001b[0m\u001b[1;33m,\u001b[0m \u001b[0msubok\u001b[0m\u001b[1;33m=\u001b[0m\u001b[1;32mTrue\u001b[0m\u001b[1;33m,\u001b[0m \u001b[0mndmin\u001b[0m\u001b[1;33m=\u001b[0m\u001b[0md\u001b[0m\u001b[1;33m)\u001b[0m\u001b[1;33m\n",
      "\u001b[0m    \u001b[1;32melse\u001b[0m\u001b[1;33m:\u001b[0m\u001b[1;33m\n",
      "\u001b[0m        \u001b[1;31m# Note that no copy of zero-sized arrays is made. However since they\u001b[0m\u001b[1;33m\n",
      "\u001b[0m        \u001b[1;31m# have no data there is no risk of an inadvertent overwrite.\u001b[0m\u001b[1;33m\n",
      "\u001b[0m        \u001b[0mc\u001b[0m \u001b[1;33m=\u001b[0m \u001b[0m_nx\u001b[0m\u001b[1;33m.\u001b[0m\u001b[0marray\u001b[0m\u001b[1;33m(\u001b[0m\u001b[0mA\u001b[0m\u001b[1;33m,\u001b[0m \u001b[0mcopy\u001b[0m\u001b[1;33m=\u001b[0m\u001b[1;32mNone\u001b[0m\u001b[1;33m,\u001b[0m \u001b[0msubok\u001b[0m\u001b[1;33m=\u001b[0m\u001b[1;32mTrue\u001b[0m\u001b[1;33m,\u001b[0m \u001b[0mndmin\u001b[0m\u001b[1;33m=\u001b[0m\u001b[0md\u001b[0m\u001b[1;33m)\u001b[0m\u001b[1;33m\n",
      "\u001b[0m    \u001b[1;32mif\u001b[0m \u001b[1;33m(\u001b[0m\u001b[0md\u001b[0m \u001b[1;33m<\u001b[0m \u001b[0mc\u001b[0m\u001b[1;33m.\u001b[0m\u001b[0mndim\u001b[0m\u001b[1;33m)\u001b[0m\u001b[1;33m:\u001b[0m\u001b[1;33m\n",
      "\u001b[0m        \u001b[0mtup\u001b[0m \u001b[1;33m=\u001b[0m \u001b[1;33m(\u001b[0m\u001b[1;36m1\u001b[0m\u001b[1;33m,\u001b[0m\u001b[1;33m)\u001b[0m\u001b[1;33m*\u001b[0m\u001b[1;33m(\u001b[0m\u001b[0mc\u001b[0m\u001b[1;33m.\u001b[0m\u001b[0mndim\u001b[0m\u001b[1;33m-\u001b[0m\u001b[0md\u001b[0m\u001b[1;33m)\u001b[0m \u001b[1;33m+\u001b[0m \u001b[0mtup\u001b[0m\u001b[1;33m\n",
      "\u001b[0m    \u001b[0mshape_out\u001b[0m \u001b[1;33m=\u001b[0m \u001b[0mtuple\u001b[0m\u001b[1;33m(\u001b[0m\u001b[0ms\u001b[0m\u001b[1;33m*\u001b[0m\u001b[0mt\u001b[0m \u001b[1;32mfor\u001b[0m \u001b[0ms\u001b[0m\u001b[1;33m,\u001b[0m \u001b[0mt\u001b[0m \u001b[1;32min\u001b[0m \u001b[0mzip\u001b[0m\u001b[1;33m(\u001b[0m\u001b[0mc\u001b[0m\u001b[1;33m.\u001b[0m\u001b[0mshape\u001b[0m\u001b[1;33m,\u001b[0m \u001b[0mtup\u001b[0m\u001b[1;33m)\u001b[0m\u001b[1;33m)\u001b[0m\u001b[1;33m\n",
      "\u001b[0m    \u001b[0mn\u001b[0m \u001b[1;33m=\u001b[0m \u001b[0mc\u001b[0m\u001b[1;33m.\u001b[0m\u001b[0msize\u001b[0m\u001b[1;33m\n",
      "\u001b[0m    \u001b[1;32mif\u001b[0m \u001b[0mn\u001b[0m \u001b[1;33m>\u001b[0m \u001b[1;36m0\u001b[0m\u001b[1;33m:\u001b[0m\u001b[1;33m\n",
      "\u001b[0m        \u001b[1;32mfor\u001b[0m \u001b[0mdim_in\u001b[0m\u001b[1;33m,\u001b[0m \u001b[0mnrep\u001b[0m \u001b[1;32min\u001b[0m \u001b[0mzip\u001b[0m\u001b[1;33m(\u001b[0m\u001b[0mc\u001b[0m\u001b[1;33m.\u001b[0m\u001b[0mshape\u001b[0m\u001b[1;33m,\u001b[0m \u001b[0mtup\u001b[0m\u001b[1;33m)\u001b[0m\u001b[1;33m:\u001b[0m\u001b[1;33m\n",
      "\u001b[0m            \u001b[1;32mif\u001b[0m \u001b[0mnrep\u001b[0m \u001b[1;33m!=\u001b[0m \u001b[1;36m1\u001b[0m\u001b[1;33m:\u001b[0m\u001b[1;33m\n",
      "\u001b[0m                \u001b[0mc\u001b[0m \u001b[1;33m=\u001b[0m \u001b[0mc\u001b[0m\u001b[1;33m.\u001b[0m\u001b[0mreshape\u001b[0m\u001b[1;33m(\u001b[0m\u001b[1;33m-\u001b[0m\u001b[1;36m1\u001b[0m\u001b[1;33m,\u001b[0m \u001b[0mn\u001b[0m\u001b[1;33m)\u001b[0m\u001b[1;33m.\u001b[0m\u001b[0mrepeat\u001b[0m\u001b[1;33m(\u001b[0m\u001b[0mnrep\u001b[0m\u001b[1;33m,\u001b[0m \u001b[1;36m0\u001b[0m\u001b[1;33m)\u001b[0m\u001b[1;33m\n",
      "\u001b[0m            \u001b[0mn\u001b[0m \u001b[1;33m//=\u001b[0m \u001b[0mdim_in\u001b[0m\u001b[1;33m\n",
      "\u001b[0m    \u001b[1;32mreturn\u001b[0m \u001b[0mc\u001b[0m\u001b[1;33m.\u001b[0m\u001b[0mreshape\u001b[0m\u001b[1;33m(\u001b[0m\u001b[0mshape_out\u001b[0m\u001b[1;33m)\u001b[0m\u001b[1;33m\u001b[0m\u001b[1;33m\u001b[0m\u001b[0m\n",
      "\u001b[1;31mClass docstring:\u001b[0m\n",
      "Class to wrap functions with checks for __array_function__ overrides.\n",
      "\n",
      "All arguments are required, and can only be passed by position.\n",
      "\n",
      "Parameters\n",
      "----------\n",
      "dispatcher : function or None\n",
      "    The dispatcher function that returns a single sequence-like object\n",
      "    of all arguments relevant.  It must have the same signature (except\n",
      "    the default values) as the actual implementation.\n",
      "    If ``None``, this is a ``like=`` dispatcher and the\n",
      "    ``_ArrayFunctionDispatcher`` must be called with ``like`` as the\n",
      "    first (additional and positional) argument.\n",
      "implementation : function\n",
      "    Function that implements the operation on NumPy arrays without\n",
      "    overrides.  Arguments passed calling the ``_ArrayFunctionDispatcher``\n",
      "    will be forwarded to this (and the ``dispatcher``) as if using\n",
      "    ``*args, **kwargs``.\n",
      "\n",
      "Attributes\n",
      "----------\n",
      "_implementation : function\n",
      "    The original implementation passed in."
     ]
    }
   ],
   "source": [
    "np.tile??"
   ]
  },
  {
   "cell_type": "markdown",
   "metadata": {},
   "source": [
    "## Ejercicio 19\n",
    "Crea una matriz aleatoria de 5x5 y normaliza sus valores. Para normalizar tienes que restar sus valores por la media(`np.mean`) y dividir el resultado por la desviación estándar(`np.std`)."
   ]
  },
  {
   "cell_type": "code",
   "execution_count": 95,
   "metadata": {},
   "outputs": [
    {
     "data": {
      "text/plain": [
       "array([[0.955901  , 0.28684665, 0.02414236, 0.16361383, 0.82601591],\n",
       "       [0.96003535, 0.70003653, 0.8000682 , 0.7680094 , 0.48996001],\n",
       "       [0.51055538, 0.48552108, 0.11571248, 0.41096496, 0.35534033],\n",
       "       [0.18236672, 0.55230772, 0.53735053, 0.53656921, 0.96622677],\n",
       "       [0.76598958, 0.37397878, 0.52794626, 0.16876461, 0.52203812]])"
      ]
     },
     "execution_count": 95,
     "metadata": {},
     "output_type": "execute_result"
    }
   ],
   "source": [
    "matrix19 = np.random.rand(5,5)\n",
    "matrix19"
   ]
  },
  {
   "cell_type": "code",
   "execution_count": 99,
   "metadata": {},
   "outputs": [
    {
     "data": {
      "text/plain": [
       "array([[ 1.62587046, -0.8664984 , -1.84512741, -1.32556669,  1.14202106],\n",
       "       [ 1.64127181,  0.67272122,  1.04536033,  0.92593452, -0.1098582 ],\n",
       "       [-0.0331361 , -0.12639415, -1.50400933, -0.40413144, -0.61134495],\n",
       "       [-1.2557082 ,  0.12240019,  0.06668151,  0.06377093,  1.66433614],\n",
       "       [ 0.91841028, -0.5419128 ,  0.0316486 , -1.30637894,  0.00963954]])"
      ]
     },
     "execution_count": 99,
     "metadata": {},
     "output_type": "execute_result"
    }
   ],
   "source": [
    "matrix19_normalizada = (matrix19 - np.mean(matrix19))/np.std(matrix19)                                                  \n",
    "matrix19_normalizada"
   ]
  },
  {
   "cell_type": "markdown",
   "metadata": {},
   "source": [
    "## Ejercicio 20\n",
    "1. Crea una secuencia de números que vayan del 0 al 10.\n",
    "2. Crea un nuevo array, que parta del anterior, pero sustituya por el valor -1, todos los elementos cuyo valor se encuentre entre el 3 y el 8.\n",
    "3. Crea un nuevo array que niegue todos los elementos entre el 3 y el 8"
   ]
  },
  {
   "cell_type": "code",
   "execution_count": 103,
   "metadata": {},
   "outputs": [
    {
     "data": {
      "text/plain": [
       "array([ 0,  1,  2,  3,  4,  5,  6,  7,  8,  9, 10])"
      ]
     },
     "execution_count": 103,
     "metadata": {},
     "output_type": "execute_result"
    }
   ],
   "source": [
    "vector20 = np.arange(0,11)\n",
    "vector20"
   ]
  },
  {
   "cell_type": "code",
   "execution_count": 104,
   "metadata": {},
   "outputs": [
    {
     "data": {
      "text/plain": [
       "array([ 0,  1,  2, -1, -1, -1, -1, -1, -1,  9, 10])"
      ]
     },
     "execution_count": 104,
     "metadata": {},
     "output_type": "execute_result"
    }
   ],
   "source": [
    "vector20[3:9] = -1\n",
    "vector20"
   ]
  },
  {
   "cell_type": "code",
   "execution_count": 106,
   "metadata": {},
   "outputs": [
    {
     "data": {
      "text/plain": [
       "array([ 0,  1,  2,  0,  0,  0,  0,  0,  0,  9, 10])"
      ]
     },
     "execution_count": 106,
     "metadata": {},
     "output_type": "execute_result"
    }
   ],
   "source": [
    "vector20[3:9] = False\n",
    "vector20"
   ]
  },
  {
   "cell_type": "markdown",
   "metadata": {},
   "source": [
    "## Ejercicio 21\n",
    "#### Bonus track. Mini hundir la flota\n",
    "1. Crea un tablero de 10x10 relleno del carácter espacio ( ).\n",
    "2. Posiciona un par de barcos en [(0,1), (1,1)] y [(1,3), (1,4), (1,5), (1,6)]. Los barcos serán Os mayúsculas. Como ves, un barco de dos posiciones de eslora y otro de cuatro.\n",
    "3. Recibe un disparo en uno de los barcos, sustituyendo la O por una X\n",
    "4. Recibe un disparo en agua, sustituyendo uno de los espacios por un guión: -\n",
    "5. Ignorando los disparos recibidos, ahora prueba a posicionar otro barco de 4 posiciones dentro del tablero, pero **de manera ALEATORIA.**\n",
    "\n",
    "**TIP apartado 5**: El barco tendrá una posición inicial aleatoria dentro del tablero, y una orientación también aleatoria (N,S,E,O).\n",
    "\n",
    "Por ejemplo, si tu posicion inicial fuese (5,0) y la orientación O, no podrias ponerlo porque se sale del tablero. Ahora bien, si fuese orientación este, si podrías, y ocuparía las posiciones [(5,0), (5,1), (5,2), (5,3)]. Por tanto tendrás que iterar con un bucle si es posible encajar el barco en el tablero, y el bucle terminará cuando lo consigas encajar. **Ojo con las posiciones donde ya hay barco!!!**\n",
    "\n",
    "Usa `import random` para elegir las coordenadas aleatorias."
   ]
  },
  {
   "cell_type": "code",
   "execution_count": 107,
   "metadata": {},
   "outputs": [
    {
     "data": {
      "text/plain": [
       "array([[' ', ' ', ' ', ' ', ' ', ' ', ' ', ' ', ' ', ' '],\n",
       "       [' ', ' ', ' ', ' ', ' ', ' ', ' ', ' ', ' ', ' '],\n",
       "       [' ', ' ', ' ', ' ', ' ', ' ', ' ', ' ', ' ', ' '],\n",
       "       [' ', ' ', ' ', ' ', ' ', ' ', ' ', ' ', ' ', ' '],\n",
       "       [' ', ' ', ' ', ' ', ' ', ' ', ' ', ' ', ' ', ' '],\n",
       "       [' ', ' ', ' ', ' ', ' ', ' ', ' ', ' ', ' ', ' '],\n",
       "       [' ', ' ', ' ', ' ', ' ', ' ', ' ', ' ', ' ', ' '],\n",
       "       [' ', ' ', ' ', ' ', ' ', ' ', ' ', ' ', ' ', ' '],\n",
       "       [' ', ' ', ' ', ' ', ' ', ' ', ' ', ' ', ' ', ' '],\n",
       "       [' ', ' ', ' ', ' ', ' ', ' ', ' ', ' ', ' ', ' ']], dtype='<U1')"
      ]
     },
     "execution_count": 107,
     "metadata": {},
     "output_type": "execute_result"
    }
   ],
   "source": [
    "# Creamos el tablero\n",
    "tablero = np.full((10,10),\" \")\n",
    "tablero"
   ]
  },
  {
   "cell_type": "code",
   "execution_count": 110,
   "metadata": {},
   "outputs": [
    {
     "data": {
      "text/plain": [
       "array([[' ', 'O', ' ', ' ', ' ', ' ', ' ', ' ', ' ', ' '],\n",
       "       [' ', 'O', ' ', 'O', 'O', 'O', 'O', ' ', ' ', ' '],\n",
       "       [' ', ' ', ' ', ' ', ' ', ' ', ' ', ' ', ' ', ' '],\n",
       "       [' ', ' ', ' ', ' ', ' ', ' ', ' ', ' ', ' ', ' '],\n",
       "       [' ', ' ', ' ', ' ', ' ', ' ', ' ', ' ', ' ', ' '],\n",
       "       [' ', ' ', ' ', ' ', ' ', ' ', ' ', ' ', ' ', ' '],\n",
       "       [' ', ' ', ' ', ' ', ' ', ' ', ' ', ' ', ' ', ' '],\n",
       "       [' ', ' ', ' ', ' ', ' ', ' ', ' ', ' ', ' ', ' '],\n",
       "       [' ', ' ', ' ', ' ', ' ', ' ', ' ', ' ', ' ', ' '],\n",
       "       [' ', ' ', ' ', ' ', ' ', ' ', ' ', ' ', ' ', ' ']], dtype='<U1')"
      ]
     },
     "execution_count": 110,
     "metadata": {},
     "output_type": "execute_result"
    }
   ],
   "source": [
    "# Posicionamos los barcos\n",
    "tablero[0:2, 1] = \"O\"\n",
    "tablero[1, 3:7] = \"O\"\n",
    "\n",
    "tablero"
   ]
  },
  {
   "cell_type": "code",
   "execution_count": 112,
   "metadata": {},
   "outputs": [
    {
     "data": {
      "text/plain": [
       "array([[' ', 'O', ' ', ' ', ' ', ' ', ' ', ' ', ' ', ' '],\n",
       "       [' ', 'O', ' ', 'X', 'O', 'O', 'O', ' ', ' ', ' '],\n",
       "       [' ', ' ', ' ', ' ', ' ', ' ', ' ', ' ', ' ', ' '],\n",
       "       [' ', ' ', ' ', ' ', ' ', ' ', ' ', ' ', ' ', ' '],\n",
       "       [' ', ' ', ' ', ' ', ' ', ' ', ' ', ' ', ' ', ' '],\n",
       "       [' ', ' ', ' ', ' ', ' ', ' ', ' ', ' ', ' ', ' '],\n",
       "       [' ', ' ', ' ', ' ', ' ', ' ', ' ', ' ', ' ', ' '],\n",
       "       [' ', ' ', ' ', ' ', ' ', ' ', ' ', ' ', ' ', ' '],\n",
       "       [' ', ' ', ' ', ' ', ' ', ' ', ' ', ' ', ' ', ' '],\n",
       "       [' ', ' ', ' ', ' ', ' ', ' ', ' ', ' ', ' ', ' ']], dtype='<U1')"
      ]
     },
     "execution_count": 112,
     "metadata": {},
     "output_type": "execute_result"
    }
   ],
   "source": [
    "# Recibimos un disparo en uno de los barcos\n",
    "tablero[1,3] = \"X\"\n",
    "tablero\n"
   ]
  },
  {
   "cell_type": "code",
   "execution_count": 113,
   "metadata": {},
   "outputs": [
    {
     "data": {
      "text/plain": [
       "array([[' ', 'O', ' ', ' ', ' ', ' ', ' ', ' ', ' ', ' '],\n",
       "       [' ', 'O', ' ', 'X', 'O', 'O', 'O', ' ', ' ', ' '],\n",
       "       [' ', ' ', ' ', ' ', ' ', ' ', ' ', ' ', ' ', ' '],\n",
       "       [' ', ' ', ' ', ' ', ' ', ' ', ' ', ' ', ' ', ' '],\n",
       "       [' ', ' ', ' ', ' ', ' ', ' ', ' ', ' ', ' ', ' '],\n",
       "       [' ', ' ', ' ', ' ', ' ', ' ', ' ', ' ', ' ', ' '],\n",
       "       [' ', ' ', ' ', ' ', ' ', ' ', ' ', ' ', ' ', ' '],\n",
       "       [' ', ' ', ' ', ' ', ' ', ' ', ' ', ' ', ' ', ' '],\n",
       "       [' ', ' ', ' ', ' ', ' ', ' ', ' ', ' ', ' ', ' '],\n",
       "       [' ', ' ', ' ', '-', ' ', ' ', ' ', ' ', ' ', ' ']], dtype='<U1')"
      ]
     },
     "execution_count": 113,
     "metadata": {},
     "output_type": "execute_result"
    }
   ],
   "source": [
    "# Recibimos un disparo en el agua\n",
    "tablero[9,3] = \"-\"\n",
    "tablero"
   ]
  },
  {
   "cell_type": "code",
   "execution_count": 114,
   "metadata": {},
   "outputs": [
    {
     "ename": "SyntaxError",
     "evalue": "expected ':' (2994583331.py, line 2)",
     "output_type": "error",
     "traceback": [
      "\u001b[1;36m  Cell \u001b[1;32mIn[114], line 2\u001b[1;36m\u001b[0m\n\u001b[1;33m    for coordenada in np.arange(0,10).reshape(10,10)\u001b[0m\n\u001b[1;37m                                                    ^\u001b[0m\n\u001b[1;31mSyntaxError\u001b[0m\u001b[1;31m:\u001b[0m expected ':'\n"
     ]
    }
   ],
   "source": [
    "# Posicionamos barco de manera aleatoria\n"
   ]
  },
  {
   "cell_type": "code",
   "execution_count": 116,
   "metadata": {},
   "outputs": [
    {
     "ename": "ValueError",
     "evalue": "cannot reshape array of size 1 into shape (10,10)",
     "output_type": "error",
     "traceback": [
      "\u001b[1;31m---------------------------------------------------------------------------\u001b[0m",
      "\u001b[1;31mValueError\u001b[0m                                Traceback (most recent call last)",
      "Cell \u001b[1;32mIn[116], line 1\u001b[0m\n\u001b[1;32m----> 1\u001b[0m \u001b[43mnp\u001b[49m\u001b[38;5;241;43m.\u001b[39;49m\u001b[43marange\u001b[49m\u001b[43m(\u001b[49m\u001b[38;5;241;43m0\u001b[39;49m\u001b[43m,\u001b[49m\u001b[38;5;241;43m10\u001b[39;49m\u001b[43m,\u001b[49m\u001b[38;5;241;43m10\u001b[39;49m\u001b[43m)\u001b[49m\u001b[38;5;241;43m.\u001b[39;49m\u001b[43mreshape\u001b[49m\u001b[43m(\u001b[49m\u001b[38;5;241;43m10\u001b[39;49m\u001b[43m,\u001b[49m\u001b[38;5;241;43m10\u001b[39;49m\u001b[43m)\u001b[49m\n",
      "\u001b[1;31mValueError\u001b[0m: cannot reshape array of size 1 into shape (10,10)"
     ]
    }
   ],
   "source": []
  },
  {
   "cell_type": "code",
   "execution_count": null,
   "metadata": {},
   "outputs": [],
   "source": []
  },
  {
   "cell_type": "code",
   "execution_count": null,
   "metadata": {},
   "outputs": [],
   "source": []
  },
  {
   "cell_type": "code",
   "execution_count": null,
   "metadata": {},
   "outputs": [],
   "source": []
  },
  {
   "cell_type": "code",
   "execution_count": null,
   "metadata": {},
   "outputs": [],
   "source": []
  },
  {
   "cell_type": "code",
   "execution_count": null,
   "metadata": {},
   "outputs": [],
   "source": []
  },
  {
   "cell_type": "code",
   "execution_count": null,
   "metadata": {},
   "outputs": [],
   "source": []
  },
  {
   "cell_type": "code",
   "execution_count": null,
   "metadata": {},
   "outputs": [],
   "source": []
  },
  {
   "cell_type": "code",
   "execution_count": null,
   "metadata": {},
   "outputs": [],
   "source": []
  }
 ],
 "metadata": {
  "kernelspec": {
   "display_name": "data_analysis.env",
   "language": "python",
   "name": "python3"
  },
  "language_info": {
   "codemirror_mode": {
    "name": "ipython",
    "version": 3
   },
   "file_extension": ".py",
   "mimetype": "text/x-python",
   "name": "python",
   "nbconvert_exporter": "python",
   "pygments_lexer": "ipython3",
   "version": "3.10.15"
  }
 },
 "nbformat": 4,
 "nbformat_minor": 4
}
